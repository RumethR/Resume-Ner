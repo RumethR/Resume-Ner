{
  "nbformat": 4,
  "nbformat_minor": 0,
  "metadata": {
    "colab": {
      "provenance": [],
      "collapsed_sections": [
        "Kg-JhFakYlkM",
        "OWvidz0phH8z",
        "mfdKFI73e88o"
      ],
      "authorship_tag": "ABX9TyNcma3wMLdu+nHyJ3LkEX3Q",
      "include_colab_link": true
    },
    "kernelspec": {
      "name": "python3",
      "display_name": "Python 3"
    },
    "language_info": {
      "name": "python"
    }
  },
  "cells": [
    {
      "cell_type": "markdown",
      "metadata": {
        "id": "view-in-github",
        "colab_type": "text"
      },
      "source": [
        "<a href=\"https://colab.research.google.com/github/RumethR/Resume-Ner/blob/main/Cw1_w1809911_RumethRandombage.ipynb\" target=\"_parent\"><img src=\"https://colab.research.google.com/assets/colab-badge.svg\" alt=\"Open In Colab\"/></a>"
      ]
    },
    {
      "cell_type": "markdown",
      "source": [
        "# Part A: Application Area Review\n",
        "\n",
        "**Selected Domain: Human resources and computing.**\n"
      ],
      "metadata": {
        "id": "Kg-JhFakYlkM"
      }
    },
    {
      "cell_type": "markdown",
      "source": [
        "\n",
        "The domain of human resources within an organisation entails a wide variety of operations and responsibilities ranging from employee compensation to organisational structure. This poses a great opportunity for Artificial Intelligent (AI) systems to contribute towards the Human Resource Management (HRM) tasks within an organisation. One of the most common areas where AI has been highly used is within the realm of recruitment and talent acquisition. A study by the ‘Oracle’ corporation has revealed that professionals in the human resource management industry believe that AI can boost productivity among other statistics (Rahmani and Kamberaj, 2021). Other sources believe that AI will enable new application procedures for candidates, increase applicant discovery rates and even reduce vacancy times as these systems can traverse through applications faster than trained professionals (Vrontis et al., 2021). AI powered applications in HRM are also able to process large amounts of data at high speeds, faster and more accurately than any trained professional, this allows organisations to gain insights that would otherwise be impossible with manual labour. The use of these systems are also more likely to be less biassed towards factors that do not affect performance such as age, gender or race (assuming that they are developed properly). Repetitive tasks within the domain of HRM are more likely to be successfully automated with AI powered applications according to *Vrontis et al. (2021)*.\n",
        "\n",
        "The overall effect of bias that is induced when training was studied by the influential work of *Tambe, Cappelli and Yakubovich (2019)* who observed that the data that these systems were built on had a major impact in how these systems performed. This underlying data itself has the opportunity to represent industry swings and unspoken ethics (i.e. the system might be trained on data that indicated towards hiring from a specific university), hence it is important that these systems work in tandem with trained professionals.This study also looks into how Machine Learning algorithms have fared against several different HR operations within organisations. AI powered HRM task management systems such as Quine, BenefitFocus and Jobvite are now widely available for any organisation of any scale to incorporate into their workflows (Tambe, Cappelli and Yakubovich, 2019).\n",
        "\n",
        "On the opposite side of the spectrum, employees now have access to tools such as IBM’s ‘Blue Match’ presents viable job openings for their specific skill set, similarly AI powered tools have helped IBM to identify possible flight risks and retain employees for much longer according to their former CEO Ginni Rometty (Rosenbaum, 2019). These HRM service vendors however do not provide any information about the type of AI techniques that are used internally within their products. It is also important to note that most AI powered solutions can typically be applied on a small portion of a HRM task, for example in the task of vetting candidates these tools can only provide a suggestion or score of desirability is most cases rather than performing the entire stack of recruiting tasks that go alongside the vetting process (Ghosh, Majumder and Santosh Kumar Das, 2023). The common theme among most studies that observe the usage of AI in HRM is that they are heavily reliant on the quality and the quantity of the data that they are being built upon.\n",
        "\n",
        "With the rise of open source Large Language Models (LLM) it is easier than ever for organisations to create a custom tailored algorithm that can perform trivial tasks within HRM such as answering frequently asked questions from employees through chatbots *Pawan Budhwar et al. (2023)* studied the use of popular generative AI tool ChatGPT in a HRM context and how it affects areas other than productivity such as employment relations, employee wellbeing and engagement. This study revealed that employees prefer tools such as ChatGPT in many scenarios that require understanding and perceiving information more than their human co-workers. However long term social, ethical and legal implications of using such technologies are difficult to quantify (Pawan Budhwar et al., 2023). Listed below are some other AI-based techniques used in the HRM context (Ghosh, Majumder and Santosh Kumar Das, 2023).\n",
        "\n",
        "*   Turnover Prediction with Artificial Neural Networks\n",
        "*   Candidate Search With Knowledge-Based Search Engines\n",
        "*   Sentiment Analysis on employee engagement and relations\n",
        "*   Résumé data acquisition using NLP\n",
        "\n",
        "\n"
      ],
      "metadata": {
        "id": "PdkdKZArfPO4"
      }
    },
    {
      "cell_type": "markdown",
      "source": [
        "# Part B: Comparision and evaluation of AI Techniques used in Human Resources"
      ],
      "metadata": {
        "id": "OWvidz0phH8z"
      }
    },
    {
      "cell_type": "markdown",
      "source": [
        "As mentioned before all HRM tasks in an organization cannot be supplemented or automated by one singular system. The scope of this specific section will cover the task of utilizing Machine Learning techniques for the purpose of recruiting, vetting and staffing employees using a CV/Résumé. This project will focus on using Named Entity Recognition (NER) on CVs to identify talent that best suites a given job posting. NER is classified as a Sequence Labelling Task within the domain of Natural Language Processing (NLP), there are many different ways of addressing these sequence labelling tasks listed below are three such approaches."
      ],
      "metadata": {
        "id": "itzimModhSzc"
      }
    },
    {
      "cell_type": "markdown",
      "source": [
        "### NER using Conditional Random Fields (CRF)"
      ],
      "metadata": {
        "id": "m5YLiQ2f9-h1"
      }
    },
    {
      "cell_type": "markdown",
      "source": [
        "Using Conditional Random Fields for NER tasks is a popular machine learning based approach which uses a probabilistic model. CRFs capture dependencies among neighbouring labels in a sequence and have the ability to consider the entire input sequence when making predictions. Feature functions are used to define relationships between input features (words) and output labels (entities). These relationships have to be manually defined by the trainer. CRFs calculate the probability distribution of an output sequence (labels) given an input sequence.Transition weights in Conditional Random Fields represent the likelihood of moving from one label to another in the sequence. During the training phase, the relationships between input features, their corresponding output labels (using data from the feature functions) and the effect of the transition weights are learned from the training data.\n",
        "\n",
        "For training a model that can perform NER using CRF text data with entities as labels are required. Necessary words in the training data sequence need to be accompanied by its corresponding entity label. Datasets for training NER models are widely available under different platforms such as Kaggle and the UCI Machine Learning Repository. One of the most common dataset and evaluation benchmark for NER is the CoNLL-2003 [dataset](https://www.clips.uantwerpen.be/conll2003/ner/). CRF based models tend to perform well as they have the ability to capture contextual information about the data. However performance is heavily dependent on the quality and relevance of engineered features, this is one of the major drawbacks of CRF based models. Feature engineering will mostly depend on the domain that the information is extracted from, and in the context of CVs people vary in the way they express information hence engineering features that capture necessary information will be quite a difficult task. Generally, CRF based models tend to be computationally efficient compared to their Deep Learning based counterparts who in turn will be better at capturing more intricate patterns within the data."
      ],
      "metadata": {
        "id": "YT0ru1sb-qMD"
      }
    },
    {
      "cell_type": "markdown",
      "source": [
        "### NER using Neural Networks and pre-trained models"
      ],
      "metadata": {
        "id": "uQRcMfG2-IX8"
      }
    },
    {
      "cell_type": "markdown",
      "source": [
        "Currently there are many frameworks and pre-trained models that ease the task of NER. Similar to Tensorflow there are libraries that are built for performing NLP tasks. [SpaCy](https://spacy.io/usage/spacy-101) is one such Python package that offers pre-trained models for tasks such as NER. SpaCy’s default models use Convolutional Neural Networks (CNN) for the task of feature extraction and entity recognition. These models are trained on large labelled datasets hence they cover a wide range of contexts and features. By default the SpaCy package can identify entities within a  given text such as locations, dates, persons and organisations. These can be customised through a variety of API’s that are also included within the library. Similar to CRF and Transformer based models SpaCy’s CNNs can also understand contextual information regarding the input data, allowing the model to capture relationships between entities.\n",
        "\n",
        "Efficiency of a custom built CRF based model for NER depends heavily on the training data and the quality of the engineered features. Comparatively pre-trained models from SpaCy can offer similar accuracy scores and be more computationally efficient at  the same time. However by using a pre-built model the level of customization is limited. There are other libraries that have packaged in pre-trained models for NER such as [NLTK](https://www.nltk.org/) (Natural Language Toolkit) which can offer similar functionality to SpaCy, each library has their own strengths and weaknesses."
      ],
      "metadata": {
        "id": "5LRr3UGx_Jat"
      }
    },
    {
      "cell_type": "markdown",
      "source": [
        "### NER using pre-trained Transformer based models (BERT)"
      ],
      "metadata": {
        "id": "E399fVqg-Mmc"
      }
    },
    {
      "cell_type": "markdown",
      "source": [
        "With the rise of pre-trained Transformer based models such as BERT and GPT, the application of these models for NLP tasks has proven to yield competitive results. The Bi-directional approach considers text preceding from both the left and the right of a given word in a sentence. This helps the model to understand a much broader context (and longer text sequences) compared to the default pre-trained models offered by SpaCy which uses a CNN. This can be especially useful in the context of parsing data from CVs which can contain ambiguous and complex sentences. There are many more pre-trained Transformer based models which can have this characteristic, these are available through the [Hugging Face](https://huggingface.co/) community platform. BERT specifically is trained on a large corpus of text using 2 unsupervised learning techniques, masked language modelling and next sentence prediction.\n",
        "\n",
        "Unlike SpaCy, BERT is not an out-of-the-box solution for most NER tasks. This model needs to be fine-tuned in order to be used for NER purposes. This allows BERT to be domain specific and can in theory lead to better performance on very complex and domain specific NER tasks. The drawback of this level of customization is that a BERT model is more resource intensive and technically challenging to develop compared to SpaCy or NLTK. It also requires a labelled dataset for training before it can be used. Fine-tuning a BERT model requires large amounts of data to yield competitive results, which might not be publicly available in the case of CVs. In summary, BERT models can perform better than the other two approaches given that they are fine-tuned correctly, whilst SpaCy offers a better efficiency to performance ratio without requiring extensive training or customization. Although compared to training a CRF based model for NER form scratch customising a BERT model will yield better results, one drawback is it being more computationally intensive to train and use.\n",
        "\n"
      ],
      "metadata": {
        "id": "Nf2NHgPdLZsG"
      }
    },
    {
      "cell_type": "markdown",
      "source": [
        "# Part C: Implementation"
      ],
      "metadata": {
        "id": "bbGLUtHfjtY-"
      }
    },
    {
      "cell_type": "markdown",
      "source": [
        "The following image is a high level representation of the code that is in this section. ![Pre-process dataset.png](data:image/png;base64,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)"
      ],
      "metadata": {
        "id": "vqdSVFfP1Ce7"
      }
    },
    {
      "cell_type": "markdown",
      "source": [
        "We will be using a text-based [resume dataset](https://www.kaggle.com/datasets/dataturks/resume-entities-for-ner) available from Kaggle, the dataset will be accessed directly via this notebook using the Kaggle API. The credentials are hardcoded onto this notebook for ease-of-use during the viva. (Not Recommended)"
      ],
      "metadata": {
        "id": "HQY7HRr3tl_6"
      }
    },
    {
      "cell_type": "code",
      "source": [
        "!pip install kaggle\n",
        "\n",
        "!mkdir ~/.kaggle\n",
        "!echo '{\"username\":\"rumethrandombage\",\"key\":\"6c49cc180f0498fccf2dabb3d22f0236\"}' > ~/.kaggle/kaggle.json\n",
        "!chmod 600 ~/.kaggle/kaggle.json\n",
        "\n",
        "import json\n",
        "\n",
        "!kaggle datasets download -d dataturks/resume-entities-for-ner\n",
        "!unzip resume-entities-for-ner.zip #Extracts to ./content\n",
        "\n",
        "dataset = [] # Each element contains a json object\n",
        "with open('/content/Entity Recognition in Resumes.json', 'r') as file:\n",
        "    for line in file:\n",
        "        dataset.append(json.loads(line))\n",
        "\n",
        "print(\"Number of elements in dataset list\", len(dataset))"
      ],
      "metadata": {
        "colab": {
          "base_uri": "https://localhost:8080/"
        },
        "id": "_I-uBUKswCVZ",
        "outputId": "4676f4dd-e3a3-4355-c44f-44c01aa1fc83"
      },
      "execution_count": 11,
      "outputs": [
        {
          "output_type": "stream",
          "name": "stdout",
          "text": [
            "Requirement already satisfied: kaggle in /usr/local/lib/python3.10/dist-packages (1.5.16)\n",
            "Requirement already satisfied: six>=1.10 in /usr/local/lib/python3.10/dist-packages (from kaggle) (1.16.0)\n",
            "Requirement already satisfied: certifi in /usr/local/lib/python3.10/dist-packages (from kaggle) (2023.11.17)\n",
            "Requirement already satisfied: python-dateutil in /usr/local/lib/python3.10/dist-packages (from kaggle) (2.8.2)\n",
            "Requirement already satisfied: requests in /usr/local/lib/python3.10/dist-packages (from kaggle) (2.31.0)\n",
            "Requirement already satisfied: tqdm in /usr/local/lib/python3.10/dist-packages (from kaggle) (4.66.1)\n",
            "Requirement already satisfied: python-slugify in /usr/local/lib/python3.10/dist-packages (from kaggle) (8.0.1)\n",
            "Requirement already satisfied: urllib3 in /usr/local/lib/python3.10/dist-packages (from kaggle) (2.0.7)\n",
            "Requirement already satisfied: bleach in /usr/local/lib/python3.10/dist-packages (from kaggle) (6.1.0)\n",
            "Requirement already satisfied: webencodings in /usr/local/lib/python3.10/dist-packages (from bleach->kaggle) (0.5.1)\n",
            "Requirement already satisfied: text-unidecode>=1.3 in /usr/local/lib/python3.10/dist-packages (from python-slugify->kaggle) (1.3)\n",
            "Requirement already satisfied: charset-normalizer<4,>=2 in /usr/local/lib/python3.10/dist-packages (from requests->kaggle) (3.3.2)\n",
            "Requirement already satisfied: idna<4,>=2.5 in /usr/local/lib/python3.10/dist-packages (from requests->kaggle) (3.6)\n",
            "mkdir: cannot create directory ‘/root/.kaggle’: File exists\n",
            "resume-entities-for-ner.zip: Skipping, found more recently modified local copy (use --force to force download)\n",
            "Archive:  resume-entities-for-ner.zip\n",
            "replace Entity Recognition in Resumes.json? [y]es, [n]o, [A]ll, [N]one, [r]ename: n\n",
            "Number of elements in dataset list 220\n"
          ]
        }
      ]
    },
    {
      "cell_type": "markdown",
      "source": [
        "The dataset consists of 220 JSON objects. The structure of each JSON object is as follows:\n",
        "\n",
        "> \"content\" -> (contains all the data in the CV as a string)\n",
        "\n",
        "> \"annotations\" -> annotation label (\"Name\", \"Skills\", etc.) -> points (\"start and stop index where the label is contained\") - > text for label\n",
        "\n",
        "\n",
        "\n",
        "\n"
      ],
      "metadata": {
        "id": "HpyO5Zi-CGmr"
      }
    },
    {
      "cell_type": "markdown",
      "source": [
        "SpaCy is packaged with a CNN based pre-built model that can perform NER for general entity types (Persons, Organizations, Locations, etc.)."
      ],
      "metadata": {
        "id": "XftpgsXqj1BT"
      }
    },
    {
      "cell_type": "code",
      "source": [
        "!python -m spacy download en_core_web_sm"
      ],
      "metadata": {
        "colab": {
          "base_uri": "https://localhost:8080/"
        },
        "id": "VdJX7D5damP1",
        "outputId": "90700093-45fb-4326-f0dc-d7c0a03a5ce4"
      },
      "execution_count": 12,
      "outputs": [
        {
          "output_type": "stream",
          "name": "stdout",
          "text": [
            "2024-01-07 03:48:43.196728: E external/local_xla/xla/stream_executor/cuda/cuda_dnn.cc:9261] Unable to register cuDNN factory: Attempting to register factory for plugin cuDNN when one has already been registered\n",
            "2024-01-07 03:48:43.196794: E external/local_xla/xla/stream_executor/cuda/cuda_fft.cc:607] Unable to register cuFFT factory: Attempting to register factory for plugin cuFFT when one has already been registered\n",
            "2024-01-07 03:48:43.197991: E external/local_xla/xla/stream_executor/cuda/cuda_blas.cc:1515] Unable to register cuBLAS factory: Attempting to register factory for plugin cuBLAS when one has already been registered\n",
            "2024-01-07 03:48:44.423714: W tensorflow/compiler/tf2tensorrt/utils/py_utils.cc:38] TF-TRT Warning: Could not find TensorRT\n",
            "Collecting en-core-web-sm==3.6.0\n",
            "  Downloading https://github.com/explosion/spacy-models/releases/download/en_core_web_sm-3.6.0/en_core_web_sm-3.6.0-py3-none-any.whl (12.8 MB)\n",
            "\u001b[2K     \u001b[90m━━━━━━━━━━━━━━━━━━━━━━━━━━━━━━━━━━━━━━━━\u001b[0m \u001b[32m12.8/12.8 MB\u001b[0m \u001b[31m107.4 MB/s\u001b[0m eta \u001b[36m0:00:00\u001b[0m\n",
            "\u001b[?25hRequirement already satisfied: spacy<3.7.0,>=3.6.0 in /usr/local/lib/python3.10/dist-packages (from en-core-web-sm==3.6.0) (3.6.1)\n",
            "Requirement already satisfied: spacy-legacy<3.1.0,>=3.0.11 in /usr/local/lib/python3.10/dist-packages (from spacy<3.7.0,>=3.6.0->en-core-web-sm==3.6.0) (3.0.12)\n",
            "Requirement already satisfied: spacy-loggers<2.0.0,>=1.0.0 in /usr/local/lib/python3.10/dist-packages (from spacy<3.7.0,>=3.6.0->en-core-web-sm==3.6.0) (1.0.5)\n",
            "Requirement already satisfied: murmurhash<1.1.0,>=0.28.0 in /usr/local/lib/python3.10/dist-packages (from spacy<3.7.0,>=3.6.0->en-core-web-sm==3.6.0) (1.0.10)\n",
            "Requirement already satisfied: cymem<2.1.0,>=2.0.2 in /usr/local/lib/python3.10/dist-packages (from spacy<3.7.0,>=3.6.0->en-core-web-sm==3.6.0) (2.0.8)\n",
            "Requirement already satisfied: preshed<3.1.0,>=3.0.2 in /usr/local/lib/python3.10/dist-packages (from spacy<3.7.0,>=3.6.0->en-core-web-sm==3.6.0) (3.0.9)\n",
            "Requirement already satisfied: thinc<8.2.0,>=8.1.8 in /usr/local/lib/python3.10/dist-packages (from spacy<3.7.0,>=3.6.0->en-core-web-sm==3.6.0) (8.1.12)\n",
            "Requirement already satisfied: wasabi<1.2.0,>=0.9.1 in /usr/local/lib/python3.10/dist-packages (from spacy<3.7.0,>=3.6.0->en-core-web-sm==3.6.0) (1.1.2)\n",
            "Requirement already satisfied: srsly<3.0.0,>=2.4.3 in /usr/local/lib/python3.10/dist-packages (from spacy<3.7.0,>=3.6.0->en-core-web-sm==3.6.0) (2.4.8)\n",
            "Requirement already satisfied: catalogue<2.1.0,>=2.0.6 in /usr/local/lib/python3.10/dist-packages (from spacy<3.7.0,>=3.6.0->en-core-web-sm==3.6.0) (2.0.10)\n",
            "Requirement already satisfied: typer<0.10.0,>=0.3.0 in /usr/local/lib/python3.10/dist-packages (from spacy<3.7.0,>=3.6.0->en-core-web-sm==3.6.0) (0.9.0)\n",
            "Requirement already satisfied: pathy>=0.10.0 in /usr/local/lib/python3.10/dist-packages (from spacy<3.7.0,>=3.6.0->en-core-web-sm==3.6.0) (0.10.3)\n",
            "Requirement already satisfied: smart-open<7.0.0,>=5.2.1 in /usr/local/lib/python3.10/dist-packages (from spacy<3.7.0,>=3.6.0->en-core-web-sm==3.6.0) (6.4.0)\n",
            "Requirement already satisfied: tqdm<5.0.0,>=4.38.0 in /usr/local/lib/python3.10/dist-packages (from spacy<3.7.0,>=3.6.0->en-core-web-sm==3.6.0) (4.66.1)\n",
            "Requirement already satisfied: numpy>=1.15.0 in /usr/local/lib/python3.10/dist-packages (from spacy<3.7.0,>=3.6.0->en-core-web-sm==3.6.0) (1.23.5)\n",
            "Requirement already satisfied: requests<3.0.0,>=2.13.0 in /usr/local/lib/python3.10/dist-packages (from spacy<3.7.0,>=3.6.0->en-core-web-sm==3.6.0) (2.31.0)\n",
            "Requirement already satisfied: pydantic!=1.8,!=1.8.1,<3.0.0,>=1.7.4 in /usr/local/lib/python3.10/dist-packages (from spacy<3.7.0,>=3.6.0->en-core-web-sm==3.6.0) (1.10.13)\n",
            "Requirement already satisfied: jinja2 in /usr/local/lib/python3.10/dist-packages (from spacy<3.7.0,>=3.6.0->en-core-web-sm==3.6.0) (3.1.2)\n",
            "Requirement already satisfied: setuptools in /usr/local/lib/python3.10/dist-packages (from spacy<3.7.0,>=3.6.0->en-core-web-sm==3.6.0) (67.7.2)\n",
            "Requirement already satisfied: packaging>=20.0 in /usr/local/lib/python3.10/dist-packages (from spacy<3.7.0,>=3.6.0->en-core-web-sm==3.6.0) (23.2)\n",
            "Requirement already satisfied: langcodes<4.0.0,>=3.2.0 in /usr/local/lib/python3.10/dist-packages (from spacy<3.7.0,>=3.6.0->en-core-web-sm==3.6.0) (3.3.0)\n",
            "Requirement already satisfied: typing-extensions>=4.2.0 in /usr/local/lib/python3.10/dist-packages (from pydantic!=1.8,!=1.8.1,<3.0.0,>=1.7.4->spacy<3.7.0,>=3.6.0->en-core-web-sm==3.6.0) (4.5.0)\n",
            "Requirement already satisfied: charset-normalizer<4,>=2 in /usr/local/lib/python3.10/dist-packages (from requests<3.0.0,>=2.13.0->spacy<3.7.0,>=3.6.0->en-core-web-sm==3.6.0) (3.3.2)\n",
            "Requirement already satisfied: idna<4,>=2.5 in /usr/local/lib/python3.10/dist-packages (from requests<3.0.0,>=2.13.0->spacy<3.7.0,>=3.6.0->en-core-web-sm==3.6.0) (3.6)\n",
            "Requirement already satisfied: urllib3<3,>=1.21.1 in /usr/local/lib/python3.10/dist-packages (from requests<3.0.0,>=2.13.0->spacy<3.7.0,>=3.6.0->en-core-web-sm==3.6.0) (2.0.7)\n",
            "Requirement already satisfied: certifi>=2017.4.17 in /usr/local/lib/python3.10/dist-packages (from requests<3.0.0,>=2.13.0->spacy<3.7.0,>=3.6.0->en-core-web-sm==3.6.0) (2023.11.17)\n",
            "Requirement already satisfied: blis<0.8.0,>=0.7.8 in /usr/local/lib/python3.10/dist-packages (from thinc<8.2.0,>=8.1.8->spacy<3.7.0,>=3.6.0->en-core-web-sm==3.6.0) (0.7.11)\n",
            "Requirement already satisfied: confection<1.0.0,>=0.0.1 in /usr/local/lib/python3.10/dist-packages (from thinc<8.2.0,>=8.1.8->spacy<3.7.0,>=3.6.0->en-core-web-sm==3.6.0) (0.1.4)\n",
            "Requirement already satisfied: click<9.0.0,>=7.1.1 in /usr/local/lib/python3.10/dist-packages (from typer<0.10.0,>=0.3.0->spacy<3.7.0,>=3.6.0->en-core-web-sm==3.6.0) (8.1.7)\n",
            "Requirement already satisfied: MarkupSafe>=2.0 in /usr/local/lib/python3.10/dist-packages (from jinja2->spacy<3.7.0,>=3.6.0->en-core-web-sm==3.6.0) (2.1.3)\n",
            "\u001b[38;5;2m✔ Download and installation successful\u001b[0m\n",
            "You can now load the package via spacy.load('en_core_web_sm')\n"
          ]
        }
      ]
    },
    {
      "cell_type": "code",
      "source": [
        "import spacy\n",
        "from spacy import displacy\n",
        "\n",
        "# Access one string of text without any annotations from the datset and pass it into the pre-trained spacy model\n",
        "first_entry = dataset[0]\n",
        "\n",
        "nlp = spacy.load(\"en_core_web_sm\")\n",
        "doc = nlp(first_entry[\"content\"])\n",
        "\n",
        "displacy.render(doc, style=\"ent\", jupyter=True,)\n",
        "#GPE stands for Geo-Political Entity (Place)"
      ],
      "metadata": {
        "colab": {
          "base_uri": "https://localhost:8080/",
          "height": 1000
        },
        "id": "VCYOyakvCGJN",
        "outputId": "859b18a8-4473-481f-b732-8e303fb4abcc"
      },
      "execution_count": 13,
      "outputs": [
        {
          "output_type": "display_data",
          "data": {
            "text/plain": [
              "<IPython.core.display.HTML object>"
            ],
            "text/html": [
              "<span class=\"tex2jax_ignore\"><div class=\"entities\" style=\"line-height: 2.5; direction: ltr\">\n",
              "<mark class=\"entity\" style=\"background: #aa9cfc; padding: 0.45em 0.6em; margin: 0 0.25em; line-height: 1; border-radius: 0.35em;\">\n",
              "    Abhishek Jha\n",
              "Application\n",
              "    <span style=\"font-size: 0.8em; font-weight: bold; line-height: 1; border-radius: 0.35em; vertical-align: middle; margin-left: 0.5rem\">PERSON</span>\n",
              "</mark>\n",
              " Development Associate - Accenture<br><br>\n",
              "<mark class=\"entity\" style=\"background: #feca74; padding: 0.45em 0.6em; margin: 0 0.25em; line-height: 1; border-radius: 0.35em;\">\n",
              "    Bengaluru\n",
              "    <span style=\"font-size: 0.8em; font-weight: bold; line-height: 1; border-radius: 0.35em; vertical-align: middle; margin-left: 0.5rem\">GPE</span>\n",
              "</mark>\n",
              ", \n",
              "<mark class=\"entity\" style=\"background: #aa9cfc; padding: 0.45em 0.6em; margin: 0 0.25em; line-height: 1; border-radius: 0.35em;\">\n",
              "    Karnataka - Email\n",
              "    <span style=\"font-size: 0.8em; font-weight: bold; line-height: 1; border-radius: 0.35em; vertical-align: middle; margin-left: 0.5rem\">PERSON</span>\n",
              "</mark>\n",
              " me on Indeed: indeed.com/r/Abhishek-Jha/10e7a8cb732bc43a<br><br>• To work for an organization which provides me the opportunity to improve my skills<br>and knowledge for my individual and company's growth in best possible ways.<br><br>Willing to relocate to: Bangalore, \n",
              "<mark class=\"entity\" style=\"background: #feca74; padding: 0.45em 0.6em; margin: 0 0.25em; line-height: 1; border-radius: 0.35em;\">\n",
              "    Karnataka\n",
              "    <span style=\"font-size: 0.8em; font-weight: bold; line-height: 1; border-radius: 0.35em; vertical-align: middle; margin-left: 0.5rem\">GPE</span>\n",
              "</mark>\n",
              "<br><br>WORK EXPERIENCE<br><br>Application Development Associate<br><br>Accenture -<br><br>\n",
              "<mark class=\"entity\" style=\"background: #bfe1d9; padding: 0.45em 0.6em; margin: 0 0.25em; line-height: 1; border-radius: 0.35em;\">\n",
              "    November 2017\n",
              "    <span style=\"font-size: 0.8em; font-weight: bold; line-height: 1; border-radius: 0.35em; vertical-align: middle; margin-left: 0.5rem\">DATE</span>\n",
              "</mark>\n",
              " to Present<br><br>Role: Currently working on Chat-bot. Developing Backend Oracle PeopleSoft Queries<br>for the Bot which will be triggered based on given input. Also, Training the bot for different possible<br>utterances (Both positive and negative), which will be given as<br>input by the user.<br><br>EDUCATION<br><br>\n",
              "<mark class=\"entity\" style=\"background: #7aecec; padding: 0.45em 0.6em; margin: 0 0.25em; line-height: 1; border-radius: 0.35em;\">\n",
              "    B.E in Information\n",
              "    <span style=\"font-size: 0.8em; font-weight: bold; line-height: 1; border-radius: 0.35em; vertical-align: middle; margin-left: 0.5rem\">ORG</span>\n",
              "</mark>\n",
              " science and engineering<br><br>\n",
              "<mark class=\"entity\" style=\"background: #feca74; padding: 0.45em 0.6em; margin: 0 0.25em; line-height: 1; border-radius: 0.35em;\">\n",
              "    B.v.b\n",
              "    <span style=\"font-size: 0.8em; font-weight: bold; line-height: 1; border-radius: 0.35em; vertical-align: middle; margin-left: 0.5rem\">GPE</span>\n",
              "</mark>\n",
              " college of engineering and technology -  \n",
              "<mark class=\"entity\" style=\"background: #7aecec; padding: 0.45em 0.6em; margin: 0 0.25em; line-height: 1; border-radius: 0.35em;\">\n",
              "    Hubli\n",
              "    <span style=\"font-size: 0.8em; font-weight: bold; line-height: 1; border-radius: 0.35em; vertical-align: middle; margin-left: 0.5rem\">ORG</span>\n",
              "</mark>\n",
              ", \n",
              "<mark class=\"entity\" style=\"background: #feca74; padding: 0.45em 0.6em; margin: 0 0.25em; line-height: 1; border-radius: 0.35em;\">\n",
              "    Karnataka\n",
              "    <span style=\"font-size: 0.8em; font-weight: bold; line-height: 1; border-radius: 0.35em; vertical-align: middle; margin-left: 0.5rem\">GPE</span>\n",
              "</mark>\n",
              "<br><br>\n",
              "<mark class=\"entity\" style=\"background: #bfe1d9; padding: 0.45em 0.6em; margin: 0 0.25em; line-height: 1; border-radius: 0.35em;\">\n",
              "    August 2013 to June 2017\n",
              "\n",
              "12th\n",
              "    <span style=\"font-size: 0.8em; font-weight: bold; line-height: 1; border-radius: 0.35em; vertical-align: middle; margin-left: 0.5rem\">DATE</span>\n",
              "</mark>\n",
              " in \n",
              "<mark class=\"entity\" style=\"background: #c887fb; padding: 0.45em 0.6em; margin: 0 0.25em; line-height: 1; border-radius: 0.35em;\">\n",
              "    Mathematics\n",
              "    <span style=\"font-size: 0.8em; font-weight: bold; line-height: 1; border-radius: 0.35em; vertical-align: middle; margin-left: 0.5rem\">NORP</span>\n",
              "</mark>\n",
              "<br><br>Woodbine modern school<br><br>\n",
              "<mark class=\"entity\" style=\"background: #bfe1d9; padding: 0.45em 0.6em; margin: 0 0.25em; line-height: 1; border-radius: 0.35em;\">\n",
              "    April 2011 to March 2013\n",
              "    <span style=\"font-size: 0.8em; font-weight: bold; line-height: 1; border-radius: 0.35em; vertical-align: middle; margin-left: 0.5rem\">DATE</span>\n",
              "</mark>\n",
              "<br><br>\n",
              "<mark class=\"entity\" style=\"background: #e4e7d2; padding: 0.45em 0.6em; margin: 0 0.25em; line-height: 1; border-radius: 0.35em;\">\n",
              "    10th\n",
              "    <span style=\"font-size: 0.8em; font-weight: bold; line-height: 1; border-radius: 0.35em; vertical-align: middle; margin-left: 0.5rem\">ORDINAL</span>\n",
              "</mark>\n",
              "<br><br>\n",
              "<mark class=\"entity\" style=\"background: #aa9cfc; padding: 0.45em 0.6em; margin: 0 0.25em; line-height: 1; border-radius: 0.35em;\">\n",
              "    Kendriya Vidyalaya\n",
              "    <span style=\"font-size: 0.8em; font-weight: bold; line-height: 1; border-radius: 0.35em; vertical-align: middle; margin-left: 0.5rem\">PERSON</span>\n",
              "</mark>\n",
              "<br><br>\n",
              "<mark class=\"entity\" style=\"background: #bfe1d9; padding: 0.45em 0.6em; margin: 0 0.25em; line-height: 1; border-radius: 0.35em;\">\n",
              "    April 2001 to March 2011\n",
              "    <span style=\"font-size: 0.8em; font-weight: bold; line-height: 1; border-radius: 0.35em; vertical-align: middle; margin-left: 0.5rem\">DATE</span>\n",
              "</mark>\n",
              "<br><br>SKILLS<br><br>C (\n",
              "<mark class=\"entity\" style=\"background: #bfe1d9; padding: 0.45em 0.6em; margin: 0 0.25em; line-height: 1; border-radius: 0.35em;\">\n",
              "    Less than 1 year\n",
              "    <span style=\"font-size: 0.8em; font-weight: bold; line-height: 1; border-radius: 0.35em; vertical-align: middle; margin-left: 0.5rem\">DATE</span>\n",
              "</mark>\n",
              "), Database (\n",
              "<mark class=\"entity\" style=\"background: #bfe1d9; padding: 0.45em 0.6em; margin: 0 0.25em; line-height: 1; border-radius: 0.35em;\">\n",
              "    Less than 1 year\n",
              "    <span style=\"font-size: 0.8em; font-weight: bold; line-height: 1; border-radius: 0.35em; vertical-align: middle; margin-left: 0.5rem\">DATE</span>\n",
              "</mark>\n",
              "), \n",
              "<mark class=\"entity\" style=\"background: #7aecec; padding: 0.45em 0.6em; margin: 0 0.25em; line-height: 1; border-radius: 0.35em;\">\n",
              "    Database Management\n",
              "    <span style=\"font-size: 0.8em; font-weight: bold; line-height: 1; border-radius: 0.35em; vertical-align: middle; margin-left: 0.5rem\">ORG</span>\n",
              "</mark>\n",
              " (\n",
              "<mark class=\"entity\" style=\"background: #bfe1d9; padding: 0.45em 0.6em; margin: 0 0.25em; line-height: 1; border-radius: 0.35em;\">\n",
              "    Less than 1 year\n",
              "    <span style=\"font-size: 0.8em; font-weight: bold; line-height: 1; border-radius: 0.35em; vertical-align: middle; margin-left: 0.5rem\">DATE</span>\n",
              "</mark>\n",
              "),<br>\n",
              "<mark class=\"entity\" style=\"background: #7aecec; padding: 0.45em 0.6em; margin: 0 0.25em; line-height: 1; border-radius: 0.35em;\">\n",
              "    Database Management System\n",
              "    <span style=\"font-size: 0.8em; font-weight: bold; line-height: 1; border-radius: 0.35em; vertical-align: middle; margin-left: 0.5rem\">ORG</span>\n",
              "</mark>\n",
              " (\n",
              "<mark class=\"entity\" style=\"background: #bfe1d9; padding: 0.45em 0.6em; margin: 0 0.25em; line-height: 1; border-radius: 0.35em;\">\n",
              "    Less than 1 year\n",
              "    <span style=\"font-size: 0.8em; font-weight: bold; line-height: 1; border-radius: 0.35em; vertical-align: middle; margin-left: 0.5rem\">DATE</span>\n",
              "</mark>\n",
              "), \n",
              "<mark class=\"entity\" style=\"background: #aa9cfc; padding: 0.45em 0.6em; margin: 0 0.25em; line-height: 1; border-radius: 0.35em;\">\n",
              "    Java\n",
              "    <span style=\"font-size: 0.8em; font-weight: bold; line-height: 1; border-radius: 0.35em; vertical-align: middle; margin-left: 0.5rem\">PERSON</span>\n",
              "</mark>\n",
              " (\n",
              "<mark class=\"entity\" style=\"background: #bfe1d9; padding: 0.45em 0.6em; margin: 0 0.25em; line-height: 1; border-radius: 0.35em;\">\n",
              "    Less than 1 year\n",
              "    <span style=\"font-size: 0.8em; font-weight: bold; line-height: 1; border-radius: 0.35em; vertical-align: middle; margin-left: 0.5rem\">DATE</span>\n",
              "</mark>\n",
              ")<br><br>ADDITIONAL INFORMATION<br><br>Technical Skills<br><br>https://www.indeed.com/r/Abhishek-Jha/10e7a8cb732bc43a?isid=rex-download&amp;ikw=download-top&amp;co=IN<br><br><br>\n",
              "<mark class=\"entity\" style=\"background: #bfeeb7; padding: 0.45em 0.6em; margin: 0 0.25em; line-height: 1; border-radius: 0.35em;\">\n",
              "    • Programming\n",
              "    <span style=\"font-size: 0.8em; font-weight: bold; line-height: 1; border-radius: 0.35em; vertical-align: middle; margin-left: 0.5rem\">PRODUCT</span>\n",
              "</mark>\n",
              " language: C, \n",
              "<mark class=\"entity\" style=\"background: #aa9cfc; padding: 0.45em 0.6em; margin: 0 0.25em; line-height: 1; border-radius: 0.35em;\">\n",
              "    C++\n",
              "    <span style=\"font-size: 0.8em; font-weight: bold; line-height: 1; border-radius: 0.35em; vertical-align: middle; margin-left: 0.5rem\">PERSON</span>\n",
              "</mark>\n",
              ", \n",
              "<mark class=\"entity\" style=\"background: #aa9cfc; padding: 0.45em 0.6em; margin: 0 0.25em; line-height: 1; border-radius: 0.35em;\">\n",
              "    Java\n",
              "• Oracle\n",
              "    <span style=\"font-size: 0.8em; font-weight: bold; line-height: 1; border-radius: 0.35em; vertical-align: middle; margin-left: 0.5rem\">PERSON</span>\n",
              "</mark>\n",
              " PeopleSoft<br>• Internet Of Things<br>• Machine Learning<br>• Database Management System<br>\n",
              "<mark class=\"entity\" style=\"background: #7aecec; padding: 0.45em 0.6em; margin: 0 0.25em; line-height: 1; border-radius: 0.35em;\">\n",
              "    • Computer Networks\n",
              "    <span style=\"font-size: 0.8em; font-weight: bold; line-height: 1; border-radius: 0.35em; vertical-align: middle; margin-left: 0.5rem\">ORG</span>\n",
              "</mark>\n",
              "<br>• Operating System worked on: \n",
              "<mark class=\"entity\" style=\"background: #feca74; padding: 0.45em 0.6em; margin: 0 0.25em; line-height: 1; border-radius: 0.35em;\">\n",
              "    Linux\n",
              "    <span style=\"font-size: 0.8em; font-weight: bold; line-height: 1; border-radius: 0.35em; vertical-align: middle; margin-left: 0.5rem\">GPE</span>\n",
              "</mark>\n",
              ", \n",
              "<mark class=\"entity\" style=\"background: #feca74; padding: 0.45em 0.6em; margin: 0 0.25em; line-height: 1; border-radius: 0.35em;\">\n",
              "    Windows\n",
              "    <span style=\"font-size: 0.8em; font-weight: bold; line-height: 1; border-radius: 0.35em; vertical-align: middle; margin-left: 0.5rem\">GPE</span>\n",
              "</mark>\n",
              ", Mac<br><br>\n",
              "<mark class=\"entity\" style=\"background: #7aecec; padding: 0.45em 0.6em; margin: 0 0.25em; line-height: 1; border-radius: 0.35em;\">\n",
              "    Non - Technical Skills\n",
              "\n",
              "• Honest\n",
              "    <span style=\"font-size: 0.8em; font-weight: bold; line-height: 1; border-radius: 0.35em; vertical-align: middle; margin-left: 0.5rem\">ORG</span>\n",
              "</mark>\n",
              " and Hard-Working<br>• Tolerant and Flexible to Different Situations<br>• Polite and \n",
              "<mark class=\"entity\" style=\"background: #aa9cfc; padding: 0.45em 0.6em; margin: 0 0.25em; line-height: 1; border-radius: 0.35em;\">\n",
              "    Calm\n",
              "• Team-Player\n",
              "    <span style=\"font-size: 0.8em; font-weight: bold; line-height: 1; border-radius: 0.35em; vertical-align: middle; margin-left: 0.5rem\">PERSON</span>\n",
              "</mark>\n",
              "</div></span>"
            ]
          },
          "metadata": {}
        }
      ]
    },
    {
      "cell_type": "markdown",
      "source": [
        "The built-in NER model performs well but mislabels most sections of the text without any customisations. We can use transfer learning or we can create our own model using the NER pipeline provided by SpaCy, we will be creating a custom model for this project."
      ],
      "metadata": {
        "id": "HVhLRec3VUk6"
      }
    },
    {
      "cell_type": "code",
      "source": [
        "import spacy\n",
        "from spacy.tokens import DocBin\n",
        "from tqdm import tqdm # Used to show progress bars also helps identify places with problems\n",
        "from spacy.util import filter_spans # To make sure there are no overlapping entities\n",
        "\n",
        "nlp = spacy.load('en_core_web_sm')\n",
        "\n",
        "labels = [\"Name\", \"College Name\", \"Degree\", \"Graduation Year\", \"Years of Experience\", \"Companies worked at\", \"Designation\", \"Skills\", \"Location\", \"Email Address\"]\n",
        "\n",
        "#ner = nlp.add_pipe(\"ner\") #only using the ner component for the pipeline provided by SpaCy\n",
        "ner = nlp.get_pipe('ner')\n",
        "\n",
        "# Add the pre-defined labels gathered from the dataset to the pipeline\n",
        "for label in labels:\n",
        "  ner.add_label(label)"
      ],
      "metadata": {
        "id": "oEso7kj8tZx7"
      },
      "execution_count": 14,
      "outputs": []
    },
    {
      "cell_type": "markdown",
      "source": [
        "Required format for SpaCy to train model.\n",
        "\n",
        "{\n",
        "    \"text\": \"Apple Inc. is headquartered in California.\",\n",
        "    \"entities\": [\n",
        "        {\"start\": 0, \"end\": 10, \"label\": \"ORG\"},\n",
        "        {\"start\": 36, \"end\": 46, \"label\": \"GPE\"}\n",
        "    ]\n",
        "}"
      ],
      "metadata": {
        "id": "5OAbpP-dpxnY"
      }
    },
    {
      "cell_type": "markdown",
      "source": [
        "Current format (After extracting from dataset)\n",
        "\n",
        "{\n",
        "  \"content\": \"Rumeth Randombage is a student at IIT, with one year Internship experience. Email .....\",\n",
        "\n",
        "annotation: [\n",
        "    { [label: \"Skills\"],  \n",
        "      [points:\n",
        "      {start: 1295,\n",
        "      end: 1621,\n",
        "      text: Python}\n",
        "      ]\n",
        "    }\n",
        "  ]\n",
        "}"
      ],
      "metadata": {
        "id": "A3gPGSPAp8RP"
      }
    },
    {
      "cell_type": "markdown",
      "source": [
        "We also need to make sure the entites start and end indexes are not overlapping. As well as to remove all punctuation marks from the text (except for the ones in the email entities)."
      ],
      "metadata": {
        "id": "fcX16R3QpTtr"
      }
    },
    {
      "cell_type": "code",
      "source": [
        "import string\n",
        "import re\n",
        "\n",
        "# Convert the data to spaCy's training data format\n",
        "formatted_data = []\n",
        "\n",
        "def process_dataset_entry(first_entry):\n",
        "  raw_text = first_entry[\"content\"]\n",
        "\n",
        "  # Clean text: remove punctuation and newline characters\n",
        "  cleaned_text = re.sub(r'[\\n\\r]', ' ', raw_text)\n",
        "  cleaned_text = cleaned_text.replace(\"'\", \"\")\n",
        "\n",
        "  #cleaned_text = raw_text.translate(str.maketrans('', '', string.punctuation)).replace('\\n', ' ')\n",
        "\n",
        "  # Process cleaned text with spaCy\n",
        "  doc = nlp.make_doc(cleaned_text)\n",
        "\n",
        "  # Retrieve cleaned text without punctuation and newline characters\n",
        "  cleaned_text = ' '.join(token.text for token in doc if not token.is_punct and not token.is_space)\n",
        "\n",
        "  formatted_entry = {\"text\": \"\", \"entities\": []}\n",
        "  formatted_entry[\"text\"] = cleaned_text\n",
        "\n",
        "  # Make sure that the given start and end points for specific label lines up with the text\n",
        "  entities = []\n",
        "\n",
        "  # This loop checks if the labels and annotations are correct.\n",
        "  for i in first_entry[\"annotation\"]:\n",
        "    try:\n",
        "      label = i['label'][0]\n",
        "      annotation_text = i[\"points\"][0][\"text\"]\n",
        "\n",
        "      #clean the annotation text as before, and get the start and end points within the larger text\n",
        "      annotation_text_clean = re.sub(r'[\\n\\r]', ' ', annotation_text)\n",
        "      annotation_text_clean = annotation_text_clean.replace(\"'\", \"\")\n",
        "\n",
        "      # Process cleaned text with spaCy\n",
        "      doc = nlp.make_doc(annotation_text_clean)\n",
        "\n",
        "      # Retrieve cleaned text without punctuation and newline characters\n",
        "      cleaned_annotation_text = ' '.join(token.text for token in doc if not token.is_punct and not token.is_space)\n",
        "\n",
        "      start_index = cleaned_text.find(cleaned_annotation_text)\n",
        "      end_index = start_index + len(cleaned_annotation_text) - 1 if start_index != -1 else -1\n",
        "      if label in labels: # In case there are some labels that are not needed/wrong\n",
        "        entities.append({\"start\": start_index, \"end\": end_index, \"label\": label})\n",
        "        formatted_entry[\"entities\"] = entities\n",
        "    except IndexError:\n",
        "      print(\"There was an error parsing a label, skipping entity\")\n",
        "      return\n",
        "\n",
        "  discard_entries = 0 # Discarded because of overlapping\n",
        "  checked_entry = prevent_overlapping(formatted_entry)\n",
        "  if len(checked_entry[\"entities\"]) == 0:\n",
        "    print(\"There was overlapping within all the entities\")\n",
        "    discard_entries = discard_entries + 1\n",
        "    return\n",
        "  else:\n",
        "    formatted_data.append(formatted_entry)\n",
        "\n",
        "\n",
        "# Make sure the entities do not overlap within the same text span\n",
        "def prevent_overlapping(entry):\n",
        "  # Overlapping refers to when two labels point to the same text span\n",
        "  entities = entry[\"entities\"]\n",
        "\n",
        "  # Sort entities by start index to check for overlaps\n",
        "  sorted_entities = sorted(entities, key=lambda x: x['start'])\\\n",
        "\n",
        "  previous_end = -1\n",
        "  non_overlapping_entities = []\n",
        "  overlapping_entities = []\n",
        "  for entity in sorted_entities:\n",
        "    if entity['start'] >= previous_end:\n",
        "        non_overlapping_entities.append(entity)\n",
        "        previous_end = entity['end']\n",
        "    else:\n",
        "      overlapping_entities.append(entry)\n",
        "      #print(\"Overlapping Detected on the following entity\")\n",
        "      #print(entity)\n",
        "\n",
        "  # Create and return a new entry with the only the non overlapping entities\n",
        "  if len(non_overlapping_entities) >= 1:\n",
        "    entry[\"entities\"] = non_overlapping_entities\n",
        "    return entry\n",
        "\n",
        "for entry in tqdm(dataset):\n",
        "  process_dataset_entry(entry)\n",
        "\n",
        "#print(formatted_data[0])\n",
        "print(len(formatted_data))\n"
      ],
      "metadata": {
        "colab": {
          "base_uri": "https://localhost:8080/"
        },
        "id": "FiUV0RRdnTHS",
        "outputId": "fee85b3e-56b8-44ec-f684-b92a8a1a095a"
      },
      "execution_count": 15,
      "outputs": [
        {
          "output_type": "stream",
          "name": "stderr",
          "text": [
            " 48%|████▊     | 106/220 [00:00<00:00, 118.82it/s]"
          ]
        },
        {
          "output_type": "stream",
          "name": "stdout",
          "text": [
            "There was an error parsing a label, skipping entity\n"
          ]
        },
        {
          "output_type": "stream",
          "name": "stderr",
          "text": [
            " 88%|████████▊ | 193/220 [00:01<00:00, 147.99it/s]"
          ]
        },
        {
          "output_type": "stream",
          "name": "stdout",
          "text": [
            "There was an error parsing a label, skipping entity\n"
          ]
        },
        {
          "output_type": "stream",
          "name": "stderr",
          "text": [
            "100%|██████████| 220/220 [00:01<00:00, 139.39it/s]"
          ]
        },
        {
          "output_type": "stream",
          "name": "stdout",
          "text": [
            "218\n"
          ]
        },
        {
          "output_type": "stream",
          "name": "stderr",
          "text": [
            "\n"
          ]
        }
      ]
    },
    {
      "cell_type": "markdown",
      "source": [
        "spaCy requires training data to be in 'Doc' objects. The output from the pipeline will also result in a Doc object. Finally the file will be saved in the runtime with the .spacy format."
      ],
      "metadata": {
        "id": "3FbHKXMuxeh-"
      }
    },
    {
      "cell_type": "code",
      "source": [
        "def create_doc_objects(entry):\n",
        "  text = entry[\"text\"]\n",
        "  doc = nlp.make_doc(text)\n",
        "  # Assuming you've already loaded the SpaCy model and created a 'doc' object from the text\n",
        "\n",
        "  annotations = entry[\"entities\"]\n",
        "\n",
        "  ents = []\n",
        "\n",
        "  for entity in annotations:\n",
        "      start = entity[\"start\"]\n",
        "      end = entity[\"end\"] + 1\n",
        "      label = entity[\"label\"]\n",
        "\n",
        "      # Initialize token indices\n",
        "      start_token_idx = None\n",
        "      end_token_idx = None\n",
        "\n",
        "      # Find the token indices that correspond to the character indices\n",
        "      for i, token in enumerate(doc):\n",
        "          if token.idx == start:\n",
        "              start_token_idx = i\n",
        "          if token.idx + len(token.text) == end:\n",
        "              end_token_idx = i\n",
        "\n",
        "      if start_token_idx is not None and end_token_idx is not None:\n",
        "          span = doc[start_token_idx:end_token_idx + 1]  # Create a span from tokens\n",
        "          span_label = (span.start_char, span.end_char, label)\n",
        "          span_to_add = doc.char_span(span.start_char, span.end_char, label=label)  # Format: (start_char, end_char, label)\n",
        "          ents.append(span_to_add)\n",
        "      else:\n",
        "          print(\"Invalid span detected:\", start, end)\n",
        "\n",
        "  # 'ents' will contain the entities in the format required for spaCy training\n",
        "  try:\n",
        "    doc.ents = ents\n",
        "    return doc\n",
        "  except ValueError:\n",
        "    print(\"Error while creating doc, skipping entry\")\n",
        "    return None\n",
        "\n",
        "db = DocBin()\n",
        "for entry in tqdm(formatted_data):\n",
        "  doc_obj = create_doc_objects(entry)\n",
        "  if doc_obj != None:\n",
        "    db.add(doc_obj)\n",
        "  else:\n",
        "    continue"
      ],
      "metadata": {
        "colab": {
          "base_uri": "https://localhost:8080/"
        },
        "id": "ONg9Pa-1_UH8",
        "outputId": "c85b8897-d386-402e-a64b-99d368090bd3"
      },
      "execution_count": 16,
      "outputs": [
        {
          "output_type": "stream",
          "name": "stderr",
          "text": [
            "  8%|▊         | 18/218 [00:00<00:01, 178.35it/s]"
          ]
        },
        {
          "output_type": "stream",
          "name": "stdout",
          "text": [
            "Invalid span detected: 900 1578\n",
            "Invalid span detected: 7303 7307\n",
            "Invalid span detected: 1790 2041\n",
            "Invalid span detected: 20 40\n"
          ]
        },
        {
          "output_type": "stream",
          "name": "stderr",
          "text": [
            "\r 18%|█▊        | 39/218 [00:00<00:00, 188.34it/s]"
          ]
        },
        {
          "output_type": "stream",
          "name": "stdout",
          "text": [
            "Invalid span detected: 120 126\n",
            "Invalid span detected: 377 381\n",
            "Invalid span detected: 923 970\n",
            "Invalid span detected: 1029 1033\n"
          ]
        },
        {
          "output_type": "stream",
          "name": "stderr",
          "text": [
            "\r 27%|██▋       | 58/218 [00:00<00:00, 163.80it/s]"
          ]
        },
        {
          "output_type": "stream",
          "name": "stdout",
          "text": [
            "Invalid span detected: 1711 1743\n",
            "Invalid span detected: 188 192\n",
            "Invalid span detected: 194 197\n",
            "Invalid span detected: 49 55\n",
            "Invalid span detected: 254 274\n"
          ]
        },
        {
          "output_type": "stream",
          "name": "stderr",
          "text": [
            " 43%|████▎     | 93/218 [00:00<00:00, 151.63it/s]"
          ]
        },
        {
          "output_type": "stream",
          "name": "stdout",
          "text": [
            "Error while creating doc, skipping entry\n",
            "Invalid span detected: 57 101\n"
          ]
        },
        {
          "output_type": "stream",
          "name": "stderr",
          "text": [
            " 70%|███████   | 153/218 [00:00<00:00, 223.86it/s]"
          ]
        },
        {
          "output_type": "stream",
          "name": "stdout",
          "text": [
            "Invalid span detected: -1 0\n",
            "Invalid span detected: 0 4\n",
            "Invalid span detected: 936 941\n",
            "Invalid span detected: 35 48\n",
            "Invalid span detected: -1 0\n",
            "Invalid span detected: 5060 5115\n",
            "Invalid span detected: -1 0\n",
            "Invalid span detected: 909 1028\n",
            "Invalid span detected: 0 17\n",
            "Invalid span detected: -1 0\n"
          ]
        },
        {
          "output_type": "stream",
          "name": "stderr",
          "text": [
            "100%|██████████| 218/218 [00:01<00:00, 198.47it/s]"
          ]
        },
        {
          "output_type": "stream",
          "name": "stdout",
          "text": [
            "Invalid span detected: 34 45\n",
            "Invalid span detected: 165 173\n"
          ]
        },
        {
          "output_type": "stream",
          "name": "stderr",
          "text": [
            "\n"
          ]
        }
      ]
    },
    {
      "cell_type": "markdown",
      "source": [
        "The train and test sets are made from the DocBin objects that was created before. And each set is saved in the .spacy format which is required for training the model."
      ],
      "metadata": {
        "id": "ISzjAQLBVNk0"
      }
    },
    {
      "cell_type": "code",
      "source": [
        "import random\n",
        "\n",
        "docs = list(db.get_docs(nlp.vocab))\n",
        "\n",
        "# Shuffle the Doc objects\n",
        "random.seed(42)  # Set seed for reproducibility\n",
        "random.shuffle(docs)\n",
        "\n",
        "# Train-test split (80% train, 20% test)\n",
        "train_ratio = 0.8\n",
        "num_docs = len(docs)\n",
        "train_size = int(train_ratio * num_docs)\n",
        "\n",
        "train_docs = docs[:train_size]\n",
        "test_docs = docs[train_size:]\n",
        "\n",
        "print(\"Number of Valid and usable data points for training: \", len(train_docs))\n",
        "print(\"Number of Valid and usable data points for testing: \", len(test_docs))\n",
        "\n",
        "train_doc_bin = DocBin(docs=train_docs)\n",
        "test_doc_bin = DocBin(docs=test_docs)\n",
        "\n",
        "# Save the train and test DocBins to separate files\n",
        "train_doc_bin.to_disk(\"./train.spacy\")\n",
        "test_doc_bin.to_disk(\"./test.spacy\")"
      ],
      "metadata": {
        "colab": {
          "base_uri": "https://localhost:8080/"
        },
        "id": "TVOiUdgEDhiV",
        "outputId": "04a6cb63-1684-4854-84d7-830030694af7"
      },
      "execution_count": 17,
      "outputs": [
        {
          "output_type": "stream",
          "name": "stdout",
          "text": [
            "Number of Valid and usable data points for training:  173\n",
            "Number of Valid and usable data points for testing:  44\n"
          ]
        }
      ]
    },
    {
      "cell_type": "markdown",
      "source": [
        "A config file is generated using the command line as this notebook needs to be self-contained."
      ],
      "metadata": {
        "id": "n2v_DSPbVkIA"
      }
    },
    {
      "cell_type": "code",
      "source": [
        "import os\n",
        "train_path = './train.spacy'\n",
        "test_path = \"./test.spacy\"\n",
        "\n",
        "print(\"Train file exists:\", os.path.exists(train_path))\n",
        "print(\"Test file exists:\", os.path.exists(train_path))\n",
        "\n",
        "config_path = \"./config.cfg\"\n",
        "\n",
        "if(os.path.exists(config_path)):\n",
        "  print(\"A config file is already defined\")\n",
        "else:\n",
        "  !python -m spacy init config - --lang en --pipeline ner --optimize efficiency > config.cfg"
      ],
      "metadata": {
        "colab": {
          "base_uri": "https://localhost:8080/"
        },
        "id": "Dopt5UnP-P6e",
        "outputId": "3975fbb7-1bf0-40cd-eef0-845919d135b0"
      },
      "execution_count": 33,
      "outputs": [
        {
          "output_type": "stream",
          "name": "stdout",
          "text": [
            "Train file exists: True\n",
            "Test file exists: True\n",
            "A config file is already defined\n"
          ]
        }
      ]
    },
    {
      "cell_type": "markdown",
      "source": [
        "The config.cfg file contains all the necessary hyperparameters to the model. This uses the default configuration. The optimizer is set to **Adam** by default, and the **learning rate to 0.001**. The number of Epochs can be set by adjusting the Max_epochs value, by default it is set to 0. The pipeline halts training when optimal results have been reached. batch size is set to 1000 by default."
      ],
      "metadata": {
        "id": "K9F4Dqa5Z8jM"
      }
    },
    {
      "cell_type": "code",
      "source": [
        "# WARNING: RUNNING THIS MIGHT TAKE A WHILE ~30mins\n",
        "!python -m spacy train config.cfg --paths.train /content/train.spacy --paths.dev /content/test.spacy --output output_folder"
      ],
      "metadata": {
        "id": "yLUI3IZmT-zd",
        "colab": {
          "base_uri": "https://localhost:8080/"
        },
        "outputId": "4658ba09-97f3-4cd5-bfc1-aa518a2d7d61"
      },
      "execution_count": 29,
      "outputs": [
        {
          "output_type": "stream",
          "name": "stdout",
          "text": [
            "2024-01-07 04:02:59.831850: E external/local_xla/xla/stream_executor/cuda/cuda_dnn.cc:9261] Unable to register cuDNN factory: Attempting to register factory for plugin cuDNN when one has already been registered\n",
            "2024-01-07 04:02:59.831930: E external/local_xla/xla/stream_executor/cuda/cuda_fft.cc:607] Unable to register cuFFT factory: Attempting to register factory for plugin cuFFT when one has already been registered\n",
            "2024-01-07 04:02:59.832854: E external/local_xla/xla/stream_executor/cuda/cuda_blas.cc:1515] Unable to register cuBLAS factory: Attempting to register factory for plugin cuBLAS when one has already been registered\n",
            "2024-01-07 04:03:00.823775: W tensorflow/compiler/tf2tensorrt/utils/py_utils.cc:38] TF-TRT Warning: Could not find TensorRT\n",
            "\u001b[38;5;4mℹ Saving to output directory: output_folder\u001b[0m\n",
            "\u001b[38;5;4mℹ Using CPU\u001b[0m\n",
            "\u001b[1m\n",
            "=========================== Initializing pipeline ===========================\u001b[0m\n",
            "\u001b[38;5;2m✔ Initialized pipeline\u001b[0m\n",
            "\u001b[1m\n",
            "============================= Training pipeline =============================\u001b[0m\n",
            "\u001b[38;5;4mℹ Pipeline: ['tok2vec', 'ner']\u001b[0m\n",
            "\u001b[38;5;4mℹ Initial learn rate: 0.001\u001b[0m\n",
            "E    #       LOSS TOK2VEC  LOSS NER  ENTS_F  ENTS_P  ENTS_R  SCORE \n",
            "---  ------  ------------  --------  ------  ------  ------  ------\n",
            "  0       0          0.00    440.31    0.00    0.00    0.00    0.00\n",
            "  1     200       2192.95  10476.13   27.27   40.09   20.67    0.27\n",
            "  2     400       1216.66   3210.42   40.83   54.80   32.54    0.41\n",
            "  3     600       5356.55   2398.24   47.02   60.45   38.48    0.47\n",
            "  4     800        685.24   1941.58   53.52   65.74   45.13    0.54\n",
            "  5    1000        603.01   1498.83   50.97   61.62   43.47    0.51\n",
            "  7    1200        448.64   1289.15   54.19   65.76   46.08    0.54\n",
            "  8    1400        665.23   1191.00   51.20   58.36   45.61    0.51\n",
            "  9    1600        428.91    912.97   51.32   57.52   46.32    0.51\n",
            " 10    1800        548.09    992.72   49.50   61.70   41.33    0.50\n",
            " 12    2000        526.23    794.99   50.32   54.75   46.56    0.50\n",
            " 13    2200        548.80    788.83   50.13   57.54   44.42    0.50\n",
            " 14    2400        558.53    680.71   50.73   57.53   45.37    0.51\n",
            " 15    2600        631.42    679.97   48.59   64.57   38.95    0.49\n",
            " 16    2800        816.07    589.98   50.99   63.16   42.76    0.51\n",
            "\u001b[38;5;2m✔ Saved pipeline to output directory\u001b[0m\n",
            "output_folder/model-last\n"
          ]
        }
      ]
    },
    {
      "cell_type": "markdown",
      "source": [
        "ENTS_F = F1 Score for each epoch in indentifying the entities\n",
        "\n",
        "ENTS_P = Precision Score for each epoch in indentifying the entities\n",
        "\n",
        "ENTS_R = Recall Score for each epoch in indentifying the entities"
      ],
      "metadata": {
        "id": "-F5vgqLMc9rN"
      }
    },
    {
      "cell_type": "code",
      "source": [
        "nlp_ner = spacy.load(\"/content/output_folder/model-best\")"
      ],
      "metadata": {
        "id": "pw_h0L_bUAwG"
      },
      "execution_count": 20,
      "outputs": []
    },
    {
      "cell_type": "markdown",
      "source": [
        "Let's see if the model works, using a datapoint in the dataset."
      ],
      "metadata": {
        "id": "9vQjfxDKjhBy"
      }
    },
    {
      "cell_type": "code",
      "source": [
        "from spacy import displacy\n",
        "\n",
        "doc = nlp_ner(\"Abhishek Jha Application Development Associate Accenture Bengaluru Karnataka Email me on Indeed indeed.com/r/Abhishek-Jha/10e7a8cb732bc43a To work for an organization which provides me the opportunity to improve my skills and knowledge for my individual and companys growth in best possible ways Willing to relocate to Bangalore Karnataka WORK EXPERIENCE Application Development Associate Accenture November 2017 to Present Role Currently working on Chat bot Developing Backend Oracle PeopleSoft Queries for the Bot which will be triggered based on given input Also Training the bot for different possible utterances Both positive and negative which will be given as input by the user EDUCATION B.E in Information science and engineering B.v.b college of engineering and technology Hubli Karnataka August 2013 to June 2017 12th in Mathematics Woodbine modern school April 2011 to March 2013 10th Kendriya Vidyalaya April 2001 to March 2011 SKILLS C Less than 1 year Database Less than 1 year Database Management Less than 1 year Database Management System Less than 1 year Java Less than 1 year ADDITIONAL INFORMATION Technical Skills https://www.indeed.com/r/Abhishek-Jha/10e7a8cb732bc43a?isid=rex-download&ikw=download-top&co=IN Programming language C C++ Java Oracle PeopleSoft Internet Of Things Machine Learning Database Management System Computer Networks Operating System worked on Linux Windows Mac Non Technical Skills Honest and Hard Working Tolerant and Flexible to Different Situations Polite and Calm Team Player\")\n",
        "\n",
        "colors = {\n",
        "    \"Name\": \"#ffcccb\",  # Name - light red\n",
        "    \"College Name\": \"#ffebcd\",  # College Name - blanched almond\n",
        "    \"Degree\": \"#add8e6\",  # Degree - light blue\n",
        "    \"Graduation Year\": \"#98fb98\",  # Graduation Year - pale green\n",
        "    \"Years of Experience\": \"#ffb6c1\",  # Years of Experience - light pink\n",
        "    \"Companies worked at\": \"#ffdead\",  # Companies worked at - navajo white\n",
        "    \"Designation\": \"#ffe4e1\",  # Designation - misty rose\n",
        "    \"Skills\": \"#f0e68c\",  # Skills - brown\n",
        "    \"Location\": \"#afeeee\",  # Location - pale turquoise\n",
        "    \"Email Address\": \"#d3d3d3\"  # Email Address - light gray\n",
        "}\n",
        "\n",
        "# Visualize named entities using displacy with custom colors for all labels\n",
        "options = {\"ents\": labels, \"colors\": colors}\n",
        "\n",
        "displacy.render(doc, style=\"ent\", jupyter=True, options = options)"
      ],
      "metadata": {
        "colab": {
          "base_uri": "https://localhost:8080/",
          "height": 262
        },
        "id": "dCGMdWzeZpOV",
        "outputId": "796ec0c1-9034-47d0-88a6-f11f2635658c"
      },
      "execution_count": 21,
      "outputs": [
        {
          "output_type": "display_data",
          "data": {
            "text/plain": [
              "<IPython.core.display.HTML object>"
            ],
            "text/html": [
              "<span class=\"tex2jax_ignore\"><div class=\"entities\" style=\"line-height: 2.5; direction: ltr\">\n",
              "<mark class=\"entity\" style=\"background: #ffcccb; padding: 0.45em 0.6em; margin: 0 0.25em; line-height: 1; border-radius: 0.35em;\">\n",
              "    Abhishek Jha\n",
              "    <span style=\"font-size: 0.8em; font-weight: bold; line-height: 1; border-radius: 0.35em; vertical-align: middle; margin-left: 0.5rem\">Name</span>\n",
              "</mark>\n",
              " \n",
              "<mark class=\"entity\" style=\"background: #ffe4e1; padding: 0.45em 0.6em; margin: 0 0.25em; line-height: 1; border-radius: 0.35em;\">\n",
              "    Application Development Associate\n",
              "    <span style=\"font-size: 0.8em; font-weight: bold; line-height: 1; border-radius: 0.35em; vertical-align: middle; margin-left: 0.5rem\">Designation</span>\n",
              "</mark>\n",
              " \n",
              "<mark class=\"entity\" style=\"background: #ffdead; padding: 0.45em 0.6em; margin: 0 0.25em; line-height: 1; border-radius: 0.35em;\">\n",
              "    Accenture\n",
              "    <span style=\"font-size: 0.8em; font-weight: bold; line-height: 1; border-radius: 0.35em; vertical-align: middle; margin-left: 0.5rem\">Companies worked at</span>\n",
              "</mark>\n",
              " \n",
              "<mark class=\"entity\" style=\"background: #afeeee; padding: 0.45em 0.6em; margin: 0 0.25em; line-height: 1; border-radius: 0.35em;\">\n",
              "    Bengaluru\n",
              "    <span style=\"font-size: 0.8em; font-weight: bold; line-height: 1; border-radius: 0.35em; vertical-align: middle; margin-left: 0.5rem\">Location</span>\n",
              "</mark>\n",
              " Karnataka Email me on \n",
              "<mark class=\"entity\" style=\"background: #d3d3d3; padding: 0.45em 0.6em; margin: 0 0.25em; line-height: 1; border-radius: 0.35em;\">\n",
              "    Indeed indeed.com/r/Abhishek-Jha/10e7a8cb732bc43a\n",
              "    <span style=\"font-size: 0.8em; font-weight: bold; line-height: 1; border-radius: 0.35em; vertical-align: middle; margin-left: 0.5rem\">Email Address</span>\n",
              "</mark>\n",
              " To work for an organization which provides me the opportunity to improve my skills and knowledge for my individual and companys growth in best possible ways Willing to relocate to Bangalore Karnataka WORK EXPERIENCE Application Development Associate Accenture November 2017 to Present Role Currently working on Chat bot Developing Backend Oracle PeopleSoft Queries for the Bot which will be triggered based on given input Also Training the bot for different possible utterances Both positive and negative which will be given as input by the user EDUCATION \n",
              "<mark class=\"entity\" style=\"background: #add8e6; padding: 0.45em 0.6em; margin: 0 0.25em; line-height: 1; border-radius: 0.35em;\">\n",
              "    B.E in Information science and engineering\n",
              "    <span style=\"font-size: 0.8em; font-weight: bold; line-height: 1; border-radius: 0.35em; vertical-align: middle; margin-left: 0.5rem\">Degree</span>\n",
              "</mark>\n",
              " \n",
              "<mark class=\"entity\" style=\"background: #ffebcd; padding: 0.45em 0.6em; margin: 0 0.25em; line-height: 1; border-radius: 0.35em;\">\n",
              "    B.v.b college of engineering and technology\n",
              "    <span style=\"font-size: 0.8em; font-weight: bold; line-height: 1; border-radius: 0.35em; vertical-align: middle; margin-left: 0.5rem\">College Name</span>\n",
              "</mark>\n",
              " Hubli Karnataka August 2013 to June 2017 12th in Mathematics \n",
              "<mark class=\"entity\" style=\"background: #ffebcd; padding: 0.45em 0.6em; margin: 0 0.25em; line-height: 1; border-radius: 0.35em;\">\n",
              "    Woodbine modern school\n",
              "    <span style=\"font-size: 0.8em; font-weight: bold; line-height: 1; border-radius: 0.35em; vertical-align: middle; margin-left: 0.5rem\">College Name</span>\n",
              "</mark>\n",
              " April 2011 to March 2013 10th \n",
              "<mark class=\"entity\" style=\"background: #ffebcd; padding: 0.45em 0.6em; margin: 0 0.25em; line-height: 1; border-radius: 0.35em;\">\n",
              "    Kendriya Vidyalaya\n",
              "    <span style=\"font-size: 0.8em; font-weight: bold; line-height: 1; border-radius: 0.35em; vertical-align: middle; margin-left: 0.5rem\">College Name</span>\n",
              "</mark>\n",
              " April 2001 to March 2011 SKILLS \n",
              "<mark class=\"entity\" style=\"background: #f0e68c; padding: 0.45em 0.6em; margin: 0 0.25em; line-height: 1; border-radius: 0.35em;\">\n",
              "    C Less than 1 year Database Less than 1 year Database Management Less than 1 year Database Management System Less than 1 year Java Less than 1 year\n",
              "    <span style=\"font-size: 0.8em; font-weight: bold; line-height: 1; border-radius: 0.35em; vertical-align: middle; margin-left: 0.5rem\">Skills</span>\n",
              "</mark>\n",
              " ADDITIONAL INFORMATION Technical Skills https://www.indeed.com/r/Abhishek-Jha/10e7a8cb732bc43a?isid=rex-download&amp;ikw=download-top&amp;co=IN \n",
              "<mark class=\"entity\" style=\"background: #f0e68c; padding: 0.45em 0.6em; margin: 0 0.25em; line-height: 1; border-radius: 0.35em;\">\n",
              "    Programming language C C++ Java Oracle PeopleSoft Internet Of Things Machine Learning Database Management System Computer Networks Operating System worked on Linux Windows Mac Non Technical Skills Honest and Hard Working Tolerant and Flexible to Different Situations Polite and Calm Team Player\n",
              "    <span style=\"font-size: 0.8em; font-weight: bold; line-height: 1; border-radius: 0.35em; vertical-align: middle; margin-left: 0.5rem\">Skills</span>\n",
              "</mark>\n",
              "</div></span>"
            ]
          },
          "metadata": {}
        }
      ]
    },
    {
      "cell_type": "code",
      "source": [
        "from spacy.training.example import Example\n",
        "\n",
        "# Load the test data from the .spacy file\n",
        "test_data = DocBin().from_disk(\"/content/test.spacy\")  # Replace with your file path\n",
        "\n",
        "# Convert DocBin back to individual Doc objects\n",
        "test_docs = list(test_data.get_docs(nlp.vocab))\n",
        "\n",
        "# Initialize a list to store Example objects for evaluation\n",
        "eval_examples = []\n",
        "\n",
        "# Create Example objects from the test documents\n",
        "for doc in test_docs:\n",
        "    entities = [(ent.start_char, ent.end_char, ent.label_) for ent in doc.ents]\n",
        "    example = Example.from_dict(doc, {\"entities\": entities})\n",
        "    eval_examples.append(example)\n",
        "\n",
        "# Evaluate the model with the created Example objects\n",
        "scores = nlp.evaluate(eval_examples)\n",
        "print(scores)"
      ],
      "metadata": {
        "colab": {
          "base_uri": "https://localhost:8080/"
        },
        "id": "LK0z05dPduu4",
        "outputId": "3feb94e0-fe8b-4d14-c040-b93b5a494fcf"
      },
      "execution_count": 34,
      "outputs": [
        {
          "output_type": "stream",
          "name": "stdout",
          "text": [
            "{'token_acc': 1.0, 'token_p': 1.0, 'token_r': 1.0, 'token_f': 1.0, 'tag_acc': None, 'sents_p': None, 'sents_r': None, 'sents_f': None, 'dep_uas': None, 'dep_las': None, 'dep_las_per_type': None, 'pos_acc': None, 'morph_acc': None, 'morph_micro_p': None, 'morph_micro_r': None, 'morph_micro_f': None, 'morph_per_feat': None, 'lemma_acc': None, 'ents_p': 0.1783142736128759, 'ents_r': 1.0, 'ents_f': 0.30265995686556435, 'ents_per_type': {'Name': {'p': 1.0, 'r': 1.0, 'f': 1.0}, 'Designation': {'p': 1.0, 'r': 1.0, 'f': 1.0}, 'Companies worked at': {'p': 1.0, 'r': 1.0, 'f': 1.0}, 'Location': {'p': 1.0, 'r': 1.0, 'f': 1.0}, 'Email Address': {'p': 1.0, 'r': 1.0, 'f': 1.0}, 'ORG': {'p': 0.0, 'r': 0.0, 'f': 0.0}, 'Graduation Year': {'p': 1.0, 'r': 1.0, 'f': 1.0}, 'DATE': {'p': 0.0, 'r': 0.0, 'f': 0.0}, 'Degree': {'p': 1.0, 'r': 1.0, 'f': 1.0}, 'College Name': {'p': 1.0, 'r': 1.0, 'f': 1.0}, 'PERSON': {'p': 0.0, 'r': 0.0, 'f': 0.0}, 'Skills': {'p': 1.0, 'r': 1.0, 'f': 1.0}, 'CARDINAL': {'p': 0.0, 'r': 0.0, 'f': 0.0}, 'WORK_OF_ART': {'p': 0.0, 'r': 0.0, 'f': 0.0}, 'NORP': {'p': 0.0, 'r': 0.0, 'f': 0.0}, 'TIME': {'p': 0.0, 'r': 0.0, 'f': 0.0}, 'FAC': {'p': 0.0, 'r': 0.0, 'f': 0.0}, 'EVENT': {'p': 0.0, 'r': 0.0, 'f': 0.0}, 'LOC': {'p': 0.0, 'r': 0.0, 'f': 0.0}, 'PRODUCT': {'p': 0.0, 'r': 0.0, 'f': 0.0}, 'QUANTITY': {'p': 0.0, 'r': 0.0, 'f': 0.0}, 'GPE': {'p': 0.0, 'r': 0.0, 'f': 0.0}, 'MONEY': {'p': 0.0, 'r': 0.0, 'f': 0.0}, 'ORDINAL': {'p': 0.0, 'r': 0.0, 'f': 0.0}, 'Years of Experience': {'p': 1.0, 'r': 1.0, 'f': 1.0}, 'LAW': {'p': 0.0, 'r': 0.0, 'f': 0.0}, 'PERCENT': {'p': 0.0, 'r': 0.0, 'f': 0.0}}, 'speed': 12022.712085523519}\n"
          ]
        }
      ]
    },
    {
      "cell_type": "markdown",
      "source": [
        "# Part D: Testing\n",
        "\n",
        "The following metrics are retrived through the return value (Score object) of the evaluate function provided by spaCy. And visualized using Matplotlib."
      ],
      "metadata": {
        "id": "24ZUTSsl49kg"
      }
    },
    {
      "cell_type": "markdown",
      "source": [
        "One major drawback of spaCy is the unavailability of straighforward model evaluation metrics. Unlike other similar frameworks such as Tensorflow or Sci-kit-learn spaCy comes with a minimal number of evaluation metrics for NER models. Precision, Recall and F1 these metrics provided by spaCy can provide a good understanding about the performance and the areas of improvement that are needed.\n",
        "\n",
        "> Precision: accuracy of the true positive predictions made by the model\n",
        "\n",
        "> Recall: ability to find all the relevant instances in the dataset.\n",
        "\n",
        "> F1 Score: Average of precision and recall\n",
        "\n",
        "\n",
        "\n",
        "\n",
        "\n"
      ],
      "metadata": {
        "id": "-yXRvkSUUbds"
      }
    },
    {
      "cell_type": "code",
      "source": [
        "import matplotlib.pyplot as plt\n",
        "import numpy as np\n",
        "\n",
        "overall_precision = scores[\"ents_p\"]\n",
        "overall_recall = scores[\"ents_r\"]\n",
        "overall_f1 = scores[\"ents_f\"]\n",
        "\n",
        "overall_metrics = ['Overall Precision', 'Overall Recall', 'Overall F1 Score']\n",
        "overall_scores = [overall_precision, overall_recall, overall_f1]\n",
        "\n",
        "plt.figure(figsize=(8, 6))\n",
        "\n",
        "plt.bar(overall_metrics, overall_scores, color=['red', 'green', 'blue'])\n",
        "\n",
        "plt.xlabel('Overall Metrics')\n",
        "plt.ylabel('Scores')\n",
        "plt.title('Overall NER Metrics')\n",
        "plt.ylim(0.1, 1.0)  # Adjust the y-axis limits if needed\n",
        "plt.tight_layout()\n",
        "\n",
        "plt.show()"
      ],
      "metadata": {
        "colab": {
          "base_uri": "https://localhost:8080/",
          "height": 607
        },
        "id": "z1ou-ORA7NxX",
        "outputId": "255d3b80-33a8-41c6-cf58-90e8f03f740d"
      },
      "execution_count": 23,
      "outputs": [
        {
          "output_type": "display_data",
          "data": {
            "text/plain": [
              "<Figure size 800x600 with 1 Axes>"
            ],
            "image/png": "[encoded data removed]"
          },
          "metadata": {}
        }
      ]
    },
    {
      "cell_type": "markdown",
      "source": [
        "We can also use the values provided by evaluate to plot a graph for each enitity type and it's respective performance."
      ],
      "metadata": {
        "id": "_1ZZfNSfTbk-"
      }
    },
    {
      "cell_type": "code",
      "source": [
        "# Plotting\n",
        "plt.figure(figsize=(10, 6))\n",
        "\n",
        "# Visualising overall metrics\n",
        "entity_types = list(scores.keys())\n",
        "\n",
        "performance_metrics = []\n",
        "for entity in scores[\"ents_per_type\"]:\n",
        "  if entity in labels:\n",
        "    performance_metrics.append({entity: scores[\"ents_per_type\"][entity]})\n",
        "\n",
        "\n",
        "entity_types = [list(d.keys())[0] for d in performance_metrics]\n",
        "precision = [list(d.values())[0]['p'] for d in performance_metrics]\n",
        "recall = [list(d.values())[0]['r'] for d in performance_metrics]\n",
        "f1 = [list(d.values())[0]['f'] for d in performance_metrics]\n",
        "\n",
        "# Plotting\n",
        "plt.figure(figsize=(12, 6))\n",
        "\n",
        "bar_width = 0.25\n",
        "index = np.arange(len(entity_types))  # Using numpy's arange for more control\n",
        "\n",
        "plt.bar(index, precision, width=bar_width, label='Precision', align='center')\n",
        "plt.bar(index + bar_width, recall, width=bar_width, label='Recall', align='center')\n",
        "plt.bar(index + 2 * bar_width, f1, width=bar_width, label='F1 Score', align='center')\n",
        "\n",
        "plt.xlabel('Entity Types')\n",
        "plt.ylabel('Scores')\n",
        "plt.title('NER Metrics by Entity Type')\n",
        "plt.xticks(index + bar_width, entity_types, rotation=90)  # Aligning xticks properly\n",
        "plt.legend()\n",
        "plt.tight_layout()\n",
        "\n",
        "plt.show()"
      ],
      "metadata": {
        "colab": {
          "base_uri": "https://localhost:8080/",
          "height": 624
        },
        "id": "DNEmrEndR23m",
        "outputId": "a036498a-6504-4555-fd29-f635700939a2"
      },
      "execution_count": 24,
      "outputs": [
        {
          "output_type": "display_data",
          "data": {
            "text/plain": [
              "<Figure size 1000x600 with 0 Axes>"
            ]
          },
          "metadata": {}
        },
        {
          "output_type": "display_data",
          "data": {
            "text/plain": [
              "<Figure size 1200x600 with 1 Axes>"
            ],
            "image/png": "[encoded data removed]"
          },
          "metadata": {}
        }
      ]
    },
    {
      "cell_type": "markdown",
      "source": [
        "Finally we can run inference on the model, with some unseen data. The following datapoint was extracted from testing dataset."
      ],
      "metadata": {
        "id": "PrbAwi1x7H8j"
      }
    },
    {
      "cell_type": "code",
      "source": [
        "test_text = test_docs[0]\n",
        "print(test_text)\n",
        "\n",
        "nlp_ner(test_text)\n",
        "displacy.render(test_text, style=\"ent\", jupyter=True, options=options)"
      ],
      "metadata": {
        "colab": {
          "base_uri": "https://localhost:8080/",
          "height": 719
        },
        "id": "e0ecpjUuEezz",
        "outputId": "386daeeb-4ddf-4c7e-c700-bde7f7e42ddd"
      },
      "execution_count": 28,
      "outputs": [
        {
          "output_type": "stream",
          "name": "stdout",
          "text": [
            "Srabani Das software engineer Oracle Business Objects Bishnupur MANIPUR 722122 IN Email me on Indeed indeed.com/r/Srabani- Das/152269fb5b986c26 To secure a challenging position where I can effectively contribute my skills as Software Professional which will boost my career and can be effectively achieve company objective WORK EXPERIENCE software engineer Oracle Business Objects June 2015 to Present A highly accomplished professional with 2.8 years of IT experience as a software developer working with technologies like Teradata Oracle Business Objects Working as software engineer with Apple client in Exilant Technologies Pvt Ltd. from June 2015 to till date Working in multiple domains like Retail and Concierge EDUCATION B tech in Electronics and Telecommunication College of engineering Bhubaneshwar Orissa 2015 CBSE ODM Pubic school Bhubaneshwar Orissa 2011 CBSE Green Field school 2009 SKILLS RETAIL 2 years RETAIL MARKETING 2 years TERADATA 2 years ACCEPTANCE TESTING Less than 1 year APS Less than 1 year ADDITIONAL INFORMATION SKILLS https://www.indeed.com/r/Srabani-Das/152269fb5b986c26?isid=rex-download&ikw=download-top&co=IN https://www.indeed.com/r/Srabani-Das/152269fb5b986c26?isid=rex-download&ikw=download-top&co=IN Databases Primary Teradata Oracle SQL PL SQL OS Unix Windows Mac OS Teradata Tools Utilities BTEQ Muti Load Fast Load Tpump TPT Reporting Tools BO Reporting Crystal Report Universe design tool BOBJ Migration tool Other Tools Radar Espresso SQL Workbench SQL Developer ETL Metadata UI iCheck Global deployment tool Ms office Power Point Ms Excel Workload Automation Applications Central Station GitLab SVN KEY PROJECTS Leaderboard Project Leaderboard Client Apple Description Leader Board is an iPad based application for single Point of entry to GBI Retail mobile applications It is to provide automated and centralized access to different apps Its a location to get key actionable metrics around Sales Services related transactions of Apple retail store It is widely used by all managers and employees in Apple stores This is a diverse application which has 4 sub applications Store Pulse Benchmark Session and RedZone Mobile Real time as well as historical data are displayed in this application Peak Team Size 6 Roles and Responsibility Working as a database developer in this project Worked in complete revamp of Leader board application and done multiple enhancements to develop logic for multiple sales and service related metrics Created design documents and Logical Data flow Model from source study according to Business requirements Created multiple Replication setup process Export and Load using Apple ETL framework tool Worked on Business Objects SAP Crysral report and universe for report creation and modifcation Coding and Support for all phases of Testing Implementation in production for project go live Production support till warranty phase Transition KT to APS team Technology Used Teradata Oracle BO Universe and Reporting Crystal Report Unix and Autosys ETL Framework Reporting Tools Used Business Objects BOBJ Migration tool Universe design tool SAP Crystal Report Apple Retail Expansion Project Apple Retail Expansion Client Apple Description As part of New Apple Store Country Expansion Store Market Country level metadata setups are done with real time and history performance reports are sent to business users periodically Peak Team Size 3 Roles and Responsibility Involved in Designing technical specification docs and gathering functional requirements Carried out DB changes alone with Unit Integration Functional Regression testing and test case preparation of all the modules impacted for it Implemented Reporting side changes for new Store expansion Technology Used Teradata Oracle BO Reporting Crystal Report Unix and Autosys ETL Framework Reporting Tools Used Business Objects SAP Crystal Report Genius Forum Dashboard Project Genius Forum Dashboard Client Apple Description This Dashboards acts as a reporting solution for Concierge the service oriented wing of Apple Genius and Forum Dashboard has been developed as the reporting layer to report the Genius Bar Workshops events Repair related metrics Helps the store leaders to take decisions on the floor to improve customer experience analyzing the trend of the store Store leaders can plan for scheduling of employees based on the demand of symptoms/ categories Peak Team Size 6 Roles and Responsibility Understanding the functional requirement Design Document preparation Coding and Units testing Preparing test cases and conduct Integration Testing Support for User Acceptance Testing Implementation Support Technology Used Teradata Oracle Unix and Autosys ETL Framework Reporting Tools Used Business Objects BOBJ Migration tool Universe design tool\n"
          ]
        },
        {
          "output_type": "display_data",
          "data": {
            "text/plain": [
              "<IPython.core.display.HTML object>"
            ],
            "text/html": [
              "<span class=\"tex2jax_ignore\"><div class=\"entities\" style=\"line-height: 2.5; direction: ltr\">\n",
              "<mark class=\"entity\" style=\"background: #ffcccb; padding: 0.45em 0.6em; margin: 0 0.25em; line-height: 1; border-radius: 0.35em;\">\n",
              "    Srabani Das\n",
              "    <span style=\"font-size: 0.8em; font-weight: bold; line-height: 1; border-radius: 0.35em; vertical-align: middle; margin-left: 0.5rem\">Name</span>\n",
              "</mark>\n",
              " \n",
              "<mark class=\"entity\" style=\"background: #ffe4e1; padding: 0.45em 0.6em; margin: 0 0.25em; line-height: 1; border-radius: 0.35em;\">\n",
              "    software engineer\n",
              "    <span style=\"font-size: 0.8em; font-weight: bold; line-height: 1; border-radius: 0.35em; vertical-align: middle; margin-left: 0.5rem\">Designation</span>\n",
              "</mark>\n",
              " \n",
              "<mark class=\"entity\" style=\"background: #ffdead; padding: 0.45em 0.6em; margin: 0 0.25em; line-height: 1; border-radius: 0.35em;\">\n",
              "    Oracle\n",
              "    <span style=\"font-size: 0.8em; font-weight: bold; line-height: 1; border-radius: 0.35em; vertical-align: middle; margin-left: 0.5rem\">Companies worked at</span>\n",
              "</mark>\n",
              " Business Objects \n",
              "<mark class=\"entity\" style=\"background: #afeeee; padding: 0.45em 0.6em; margin: 0 0.25em; line-height: 1; border-radius: 0.35em;\">\n",
              "    Bishnupur\n",
              "    <span style=\"font-size: 0.8em; font-weight: bold; line-height: 1; border-radius: 0.35em; vertical-align: middle; margin-left: 0.5rem\">Location</span>\n",
              "</mark>\n",
              " MANIPUR 722122 IN Email me on Indeed \n",
              "<mark class=\"entity\" style=\"background: #d3d3d3; padding: 0.45em 0.6em; margin: 0 0.25em; line-height: 1; border-radius: 0.35em;\">\n",
              "    indeed.com/r/Srabani- Das/152269fb5b986c26\n",
              "    <span style=\"font-size: 0.8em; font-weight: bold; line-height: 1; border-radius: 0.35em; vertical-align: middle; margin-left: 0.5rem\">Email Address</span>\n",
              "</mark>\n",
              " To secure a challenging position where I can effectively contribute my skills as Software Professional which will boost my career and can be effectively achieve company objective WORK EXPERIENCE \n",
              "<mark class=\"entity\" style=\"background: #ffe4e1; padding: 0.45em 0.6em; margin: 0 0.25em; line-height: 1; border-radius: 0.35em;\">\n",
              "    software engineer\n",
              "    <span style=\"font-size: 0.8em; font-weight: bold; line-height: 1; border-radius: 0.35em; vertical-align: middle; margin-left: 0.5rem\">Designation</span>\n",
              "</mark>\n",
              " Oracle Business Objects June \n",
              "<mark class=\"entity\" style=\"background: #98fb98; padding: 0.45em 0.6em; margin: 0 0.25em; line-height: 1; border-radius: 0.35em;\">\n",
              "    2015\n",
              "    <span style=\"font-size: 0.8em; font-weight: bold; line-height: 1; border-radius: 0.35em; vertical-align: middle; margin-left: 0.5rem\">Graduation Year</span>\n",
              "</mark>\n",
              " to Present A highly accomplished professional with \n",
              "<mark class=\"entity\" style=\"background: #ffb6c1; padding: 0.45em 0.6em; margin: 0 0.25em; line-height: 1; border-radius: 0.35em;\">\n",
              "    2.8 years\n",
              "    <span style=\"font-size: 0.8em; font-weight: bold; line-height: 1; border-radius: 0.35em; vertical-align: middle; margin-left: 0.5rem\">Years of Experience</span>\n",
              "</mark>\n",
              " of IT experience as a software developer working with technologies like Teradata Oracle Business Objects Working as software engineer with Apple client in Exilant Technologies Pvt Ltd. from June 2015 to till date Working in multiple domains like Retail and Concierge EDUCATION \n",
              "<mark class=\"entity\" style=\"background: #add8e6; padding: 0.45em 0.6em; margin: 0 0.25em; line-height: 1; border-radius: 0.35em;\">\n",
              "    B tech in Electronics and Telecommunication\n",
              "    <span style=\"font-size: 0.8em; font-weight: bold; line-height: 1; border-radius: 0.35em; vertical-align: middle; margin-left: 0.5rem\">Degree</span>\n",
              "</mark>\n",
              " \n",
              "<mark class=\"entity\" style=\"background: #ffebcd; padding: 0.45em 0.6em; margin: 0 0.25em; line-height: 1; border-radius: 0.35em;\">\n",
              "    College of engineering\n",
              "    <span style=\"font-size: 0.8em; font-weight: bold; line-height: 1; border-radius: 0.35em; vertical-align: middle; margin-left: 0.5rem\">College Name</span>\n",
              "</mark>\n",
              " Bhubaneshwar Orissa 2015 \n",
              "<mark class=\"entity\" style=\"background: #add8e6; padding: 0.45em 0.6em; margin: 0 0.25em; line-height: 1; border-radius: 0.35em;\">\n",
              "    CBSE\n",
              "    <span style=\"font-size: 0.8em; font-weight: bold; line-height: 1; border-radius: 0.35em; vertical-align: middle; margin-left: 0.5rem\">Degree</span>\n",
              "</mark>\n",
              " \n",
              "<mark class=\"entity\" style=\"background: #ffebcd; padding: 0.45em 0.6em; margin: 0 0.25em; line-height: 1; border-radius: 0.35em;\">\n",
              "    ODM Pubic school\n",
              "    <span style=\"font-size: 0.8em; font-weight: bold; line-height: 1; border-radius: 0.35em; vertical-align: middle; margin-left: 0.5rem\">College Name</span>\n",
              "</mark>\n",
              " Bhubaneshwar Orissa 2011 CBSE Green Field school 2009 SKILLS \n",
              "<mark class=\"entity\" style=\"background: #f0e68c; padding: 0.45em 0.6em; margin: 0 0.25em; line-height: 1; border-radius: 0.35em;\">\n",
              "    RETAIL 2 years RETAIL MARKETING 2 years TERADATA 2 years ACCEPTANCE TESTING Less than 1 year APS Less than 1 year\n",
              "    <span style=\"font-size: 0.8em; font-weight: bold; line-height: 1; border-radius: 0.35em; vertical-align: middle; margin-left: 0.5rem\">Skills</span>\n",
              "</mark>\n",
              " ADDITIONAL INFORMATION SKILLS https://www.indeed.com/r/Srabani-Das/152269fb5b986c26?isid=rex-download&amp;ikw=download-top&amp;co=IN https://www.indeed.com/r/Srabani-Das/152269fb5b986c26?isid=rex-download&amp;ikw=download-top&amp;co=IN \n",
              "<mark class=\"entity\" style=\"background: #f0e68c; padding: 0.45em 0.6em; margin: 0 0.25em; line-height: 1; border-radius: 0.35em;\">\n",
              "    Databases Primary Teradata Oracle SQL PL SQL OS Unix Windows Mac OS Teradata Tools Utilities BTEQ Muti Load Fast Load Tpump TPT Reporting Tools BO Reporting Crystal Report Universe design tool BOBJ Migration tool Other Tools Radar Espresso SQL Workbench SQL Developer ETL Metadata UI iCheck Global deployment tool Ms office Power Point Ms Excel Workload Automation Applications Central Station GitLab SVN\n",
              "    <span style=\"font-size: 0.8em; font-weight: bold; line-height: 1; border-radius: 0.35em; vertical-align: middle; margin-left: 0.5rem\">Skills</span>\n",
              "</mark>\n",
              " KEY PROJECTS Leaderboard Project Leaderboard Client Apple Description Leader Board is an iPad based application for single Point of entry to GBI Retail mobile applications It is to provide automated and centralized access to different apps Its a location to get key actionable metrics around Sales Services related transactions of Apple retail store It is widely used by all managers and employees in Apple stores This is a diverse application which has 4 sub applications Store Pulse Benchmark Session and RedZone Mobile Real time as well as historical data are displayed in this application Peak Team Size 6 Roles and Responsibility Working as a database developer in this project Worked in complete revamp of Leader board application and done multiple enhancements to develop logic for multiple sales and service related metrics Created design documents and Logical Data flow Model from source study according to Business requirements Created multiple Replication setup process Export and Load using Apple ETL framework tool Worked on Business Objects SAP Crysral report and universe for report creation and modifcation Coding and Support for all phases of Testing Implementation in production for project go live Production support till warranty phase Transition KT to APS team Technology Used Teradata Oracle BO Universe and Reporting Crystal Report Unix and Autosys ETL Framework Reporting Tools Used Business Objects BOBJ Migration tool Universe design tool SAP Crystal Report Apple Retail Expansion Project Apple Retail Expansion Client Apple Description As part of New Apple Store Country Expansion Store Market Country level metadata setups are done with real time and history performance reports are sent to business users periodically Peak Team Size 3 Roles and Responsibility Involved in Designing technical specification docs and gathering functional requirements Carried out DB changes alone with Unit Integration Functional Regression testing and test case preparation of all the modules impacted for it Implemented Reporting side changes for new Store expansion Technology Used Teradata Oracle BO Reporting Crystal Report Unix and Autosys ETL Framework Reporting Tools Used Business Objects SAP Crystal Report Genius Forum Dashboard Project Genius Forum Dashboard Client Apple Description This Dashboards acts as a reporting solution for Concierge the service oriented wing of Apple Genius and Forum Dashboard has been developed as the reporting layer to report the Genius Bar Workshops events Repair related metrics Helps the store leaders to take decisions on the floor to improve customer experience analyzing the trend of the store Store leaders can plan for scheduling of employees based on the demand of symptoms/ categories Peak Team Size 6 Roles and Responsibility Understanding the functional requirement Design Document preparation Coding and Units testing Preparing test cases and conduct Integration Testing Support for User Acceptance Testing Implementation Support Technology Used Teradata Oracle Unix and Autosys ETL Framework Reporting Tools Used Business Objects BOBJ Migration tool Universe design tool</div></span>"
            ]
          },
          "metadata": {}
        }
      ]
    },
    {
      "cell_type": "markdown",
      "source": [
        "When the data point is similar in format to what was in the dataset the model performs extremely well. The following data for inference was generated by ChatGPT to mimic the style and format of text in the other data points. The model performs well enough to identity a small number of the custom enitites."
      ],
      "metadata": {
        "id": "2ckN502KFQEQ"
      }
    },
    {
      "cell_type": "code",
      "source": [
        "doc = nlp_ner(\"John Doe Senior Software Engineer Google Mountain View California Email me at indeed.com/r/john.doe@example.com Experienced software engineer adept at developing scalable applications. Currently working at Google in Mountain View, California. Skilled in Java, Python, and cloud computing. Graduated with a Bachelor's degree in Computer Science from Stanford University in 2015. Prior experience includes internships at Microsoft and Amazon. Passionate about machine learning, big data, and cybersecurity.\")\n",
        "displacy.render(doc, style=\"ent\", jupyter=True, options = options)"
      ],
      "metadata": {
        "colab": {
          "base_uri": "https://localhost:8080/",
          "height": 87
        },
        "id": "DiNJEh6ZUCoM",
        "outputId": "361b52a4-7135-4ce0-96d7-e01bad13cc4c"
      },
      "execution_count": 32,
      "outputs": [
        {
          "output_type": "display_data",
          "data": {
            "text/plain": [
              "<IPython.core.display.HTML object>"
            ],
            "text/html": [
              "<span class=\"tex2jax_ignore\"><div class=\"entities\" style=\"line-height: 2.5; direction: ltr\">\n",
              "<mark class=\"entity\" style=\"background: #ffcccb; padding: 0.45em 0.6em; margin: 0 0.25em; line-height: 1; border-radius: 0.35em;\">\n",
              "    John Doe\n",
              "    <span style=\"font-size: 0.8em; font-weight: bold; line-height: 1; border-radius: 0.35em; vertical-align: middle; margin-left: 0.5rem\">Name</span>\n",
              "</mark>\n",
              " Senior Software Engineer Google Mountain View California Email me at indeed.com/r/john.doe@example.com Experienced software engineer adept at developing scalable applications. Currently working at Google in Mountain View, California. Skilled in Java, Python, and cloud computing. Graduated with a Bachelor's degree in Computer Science \n",
              "<mark class=\"entity\" style=\"background: #ffebcd; padding: 0.45em 0.6em; margin: 0 0.25em; line-height: 1; border-radius: 0.35em;\">\n",
              "    from Stanford University in\n",
              "    <span style=\"font-size: 0.8em; font-weight: bold; line-height: 1; border-radius: 0.35em; vertical-align: middle; margin-left: 0.5rem\">College Name</span>\n",
              "</mark>\n",
              " 2015. Prior experience includes internships at Microsoft and Amazon. Passionate about machine learning, big data, and cybersecurity</div></span>"
            ]
          },
          "metadata": {}
        }
      ]
    },
    {
      "cell_type": "markdown",
      "source": [
        "This particular data point is quite different to the format of the training data that the model was exposed to, but the model performs well enough to identify several entities. These results likely will not have been possible with a pre-trained model (pre-trained model would have likely mislabeled) offered by spaCy as mentioned in the last section. However certain aspects of the model can be adjusted to improve results."
      ],
      "metadata": {
        "id": "kb79h0T5WJfE"
      }
    },
    {
      "cell_type": "markdown",
      "source": [
        "Now let's try a raw entry (without pre-processing) from the dataset with our model."
      ],
      "metadata": {
        "id": "xDAmXAWWNZxP"
      }
    },
    {
      "cell_type": "code",
      "source": [
        "test_entry = dataset[0][\"content\"]\n",
        "doc = nlp_ner(test_entry)\n",
        "\n",
        "displacy.render(doc, style=\"ent\", jupyter=True, options=options)"
      ],
      "metadata": {
        "colab": {
          "base_uri": "https://localhost:8080/",
          "height": 1000
        },
        "id": "volwH1KVNiVW",
        "outputId": "2112ae63-8423-46a6-e877-a6e0194f8eed"
      },
      "execution_count": 39,
      "outputs": [
        {
          "output_type": "display_data",
          "data": {
            "text/plain": [
              "<IPython.core.display.HTML object>"
            ],
            "text/html": [
              "<span class=\"tex2jax_ignore\"><div class=\"entities\" style=\"line-height: 2.5; direction: ltr\">\n",
              "<mark class=\"entity\" style=\"background: #ffcccb; padding: 0.45em 0.6em; margin: 0 0.25em; line-height: 1; border-radius: 0.35em;\">\n",
              "    Abhishek Jha\n",
              "    <span style=\"font-size: 0.8em; font-weight: bold; line-height: 1; border-radius: 0.35em; vertical-align: middle; margin-left: 0.5rem\">Name</span>\n",
              "</mark>\n",
              "<br>Application Development Associate - \n",
              "<mark class=\"entity\" style=\"background: #ffdead; padding: 0.45em 0.6em; margin: 0 0.25em; line-height: 1; border-radius: 0.35em;\">\n",
              "    Accenture\n",
              "\n",
              "\n",
              "    <span style=\"font-size: 0.8em; font-weight: bold; line-height: 1; border-radius: 0.35em; vertical-align: middle; margin-left: 0.5rem\">Companies worked at</span>\n",
              "</mark>\n",
              "Bengaluru, Karnataka - Email me on Indeed\n",
              "<mark class=\"entity\" style=\"background: #afeeee; padding: 0.45em 0.6em; margin: 0 0.25em; line-height: 1; border-radius: 0.35em;\">\n",
              "    : indeed.com/r/Abhishek-Jha/10e7a8cb732bc43a\n",
              "    <span style=\"font-size: 0.8em; font-weight: bold; line-height: 1; border-radius: 0.35em; vertical-align: middle; margin-left: 0.5rem\">Location</span>\n",
              "</mark>\n",
              "<br><br>• To work for an organization which provides me the opportunity to improve my skills<br>and knowledge for my individual and company's growth in best possible ways.<br><br>Willing to relocate to: Bangalore, Karnataka<br><br>WORK EXPERIENCE<br><br>Application Development Associate<br><br>Accenture -<br><br>November 2017 to Present<br><br>Role: Currently working on Chat-bot. Developing Backend Oracle PeopleSoft Queries<br>for the Bot which will be triggered based on given input. Also, Training the bot for different possible<br>utterances (Both positive and negative), which will be given as<br>input by the user.<br><br>EDUCATION<br><br>\n",
              "<mark class=\"entity\" style=\"background: #add8e6; padding: 0.45em 0.6em; margin: 0 0.25em; line-height: 1; border-radius: 0.35em;\">\n",
              "    B.E in Information science and engineering\n",
              "    <span style=\"font-size: 0.8em; font-weight: bold; line-height: 1; border-radius: 0.35em; vertical-align: middle; margin-left: 0.5rem\">Degree</span>\n",
              "</mark>\n",
              "<br><br>\n",
              "<mark class=\"entity\" style=\"background: #ffebcd; padding: 0.45em 0.6em; margin: 0 0.25em; line-height: 1; border-radius: 0.35em;\">\n",
              "    B.v.b college of engineering and technology -  Hubli\n",
              "    <span style=\"font-size: 0.8em; font-weight: bold; line-height: 1; border-radius: 0.35em; vertical-align: middle; margin-left: 0.5rem\">College Name</span>\n",
              "</mark>\n",
              ", Karnataka<br><br>August 2013 to June 2017<br><br>12th in Mathematics<br><br>Woodbine modern school<br><br>April 2011 to March 2013<br><br>10th<br><br>\n",
              "<mark class=\"entity\" style=\"background: #ffebcd; padding: 0.45em 0.6em; margin: 0 0.25em; line-height: 1; border-radius: 0.35em;\">\n",
              "    Kendriya Vidyalaya\n",
              "\n",
              "\n",
              "    <span style=\"font-size: 0.8em; font-weight: bold; line-height: 1; border-radius: 0.35em; vertical-align: middle; margin-left: 0.5rem\">College Name</span>\n",
              "</mark>\n",
              "April 2001 to March 2011<br><br>SKILLS<br><br>C (Less than 1 year), Database (Less than 1 year), Database Management (Less than 1 year),<br>Database Management System (Less than 1 year), Java (Less than 1 year)<br><br>ADDITIONAL INFORMATION<br><br>Technical Skills<br><br>https://www.indeed.com/r/Abhishek-Jha/10e7a8cb732bc43a?isid=rex-download&amp;ikw=download-top&amp;co=IN<br><br><br>• Programming language: C, C++, Java<br>• Oracle PeopleSoft<br>• Internet Of Things<br>• Machine Learning<br>• Database Management System<br>• Computer Networks<br>• Operating System worked on: Linux, Windows, Mac<br><br>Non - Technical Skills<br><br>• Honest and Hard-Working<br>• Tolerant and Flexible to Different Situations<br>• Polite and Calm<br>• Team-Player</div></span>"
            ]
          },
          "metadata": {}
        }
      ]
    },
    {
      "cell_type": "markdown",
      "source": [
        "As you can see the model performs quite well (although there is some mislabelling happening), when comapred to the pre-trained model offered by spaCy, but as seen before pre-processing the data will increase valid results immensely."
      ],
      "metadata": {
        "id": "gpe-eEqhONVb"
      }
    },
    {
      "cell_type": "markdown",
      "source": [
        "# Part E: Evaluation"
      ],
      "metadata": {
        "id": "oYibqI7i6rcr"
      }
    },
    {
      "cell_type": "markdown",
      "source": [
        "Even a small dataset like the one that was used to train this specific model, performs well when the input data matches closely to the format of the trained data. But performance quickly deteriorates under less optimal and less familiar text formats as mentioned in the last section. Data augmentation, and simply using a larger dataset with a wide variety of formats will be needed to train a more accurate model that can generalise well.\n",
        "\n",
        "The derived accuracy figures are quite biassed as the model is only exposed to a very limited number of data. Specially for entities such as College Name, Degree, Designation and other similar entities where the model cannot generalise well with limited data, most likely it will not detect unknown Company names, designations, degrees well.\n",
        "\n",
        "In the context of parsing information from CVs, the most challenging task will be to pre-process the extracted data in a standard way for a NER model. Creating a domain specific NER model using spaCy abstracts a lot of elements that are present within NLP such as tokenization and word embeddings, the library provides a straightforward way to train, test and deploy NER models. Having a large well balanced data set (equal number of datapoints for each annotation) of a wide variety of CVs in combination with spaCy’s NER pipeline have the ability to create a well rounded model.\n"
      ],
      "metadata": {
        "id": "nh1Rvd-EMLYx"
      }
    },
    {
      "cell_type": "markdown",
      "source": [
        "# References\n",
        "\n",
        "Includes references for all of the above sections of the notebook"
      ],
      "metadata": {
        "id": "mfdKFI73e88o"
      }
    },
    {
      "cell_type": "markdown",
      "source": [
        "Ghosh, S., Majumder, S. and Santosh Kumar Das. (2023). Artificial Intelligence Techniques in Human Resource Management. Apple Academic Press (CRC Press). Available from https://doi.org/10.1201/9781003328346.\n",
        "\n",
        "<br/>\n",
        "\n",
        "Pawan Budhwar et al. (2023). Human resource management in the age of generative artificial intelligence: Perspectives and research directions on ChatGPT. Human resource management in the age of generative artificial intelligence: Perspectives and research directions on ChatGPT, 33 (3). Available from https://doi.org/10.1111/1748-8583.12524.\n",
        "\n",
        "<br/>\n",
        "\n",
        "Rahmani, D. and Kamberaj, H. (2021). Implementation and Usage of Artificial Intelligence Powered Chatbots in Human Resources Management Systems. International Conference on Social and Applied Sciences. May 2021. Available from https://www.researchgate.net/profile/Hiqmet-Kamberaj/publication/351345726_Implementation_and_Usage_of_Artificial_Intelligence_Powered_Chatbots_in_Human_Resources_Management_Systems/links/60926106299bf1ad8d78e1d1/Implementation-and-Usage-of-Artificial-Intelligence-Powered-Chatbots-in-Human-Resources-Management-Systems.pdf [Accessed 19 December 2023].\n",
        "\n",
        "<br/>\n",
        "\n",
        "Rosenbaum, E. (2019). IBM artificial intelligence can predict with 95% accuracy which workers are about to quit their jobs. CNBC. Available from https://www.cnbc.com/2019/04/03/ibm-ai-can-predict-with-95-percent-accuracy-which-employees-will-quit.html [Accessed 1 January 2024].\n",
        "\n",
        "<br/>\n",
        "\n",
        "Tambe, P., Cappelli, P. and Yakubovich, V. (2019). Artificial Intelligence in Human Resources Management: Challenges and a Path Forward. California Management Review, 61 (4), 15–42. Available from https://doi.org/10.1177/0008125619867910.\n",
        "\n",
        "<br/>\n",
        "\n",
        "Vrontis, D. et al. (2021). Artificial intelligence, robotics, advanced technologies and human resource management: a systematic review. The International Journal of Human Resource Management, 33 (6), 1–30. Available from https://doi.org/10.1080/09585192.2020.1871398.\n",
        "\n",
        "\n",
        "<br/>\n",
        "\n",
        "Goel, N. (2023). Building a Custom NER Model with SpaCy: A Step-by-Step Guide. FutureSmart AI Blog. Available from https://blog.futuresmart.ai/building-a-custom-ner-model-with-spacy-a-step-by-step-guide [Accessed 7 January 2024]."
      ],
      "metadata": {
        "id": "zNQyVKnZg6KD"
      }
    },
    {
      "cell_type": "markdown",
      "source": [
        "Dataset: https://www.kaggle.com/datasets/dataturks/resume-entities-for-ner\n",
        "\n",
        "spaCy documentation: https://spacy.io/usage/training\n",
        "\n",
        "NER model using spaCy guide: (Goel, 2023) https://blog.futuresmart.ai/building-a-custom-ner-model-with-spacy-a-step-by-step-guide"
      ],
      "metadata": {
        "id": "xQKUgJxCUW18"
      }
    }
  ]
}