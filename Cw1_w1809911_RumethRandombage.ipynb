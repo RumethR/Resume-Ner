{
  "nbformat": 4,
  "nbformat_minor": 0,
  "metadata": {
    "colab": {
      "provenance": [],
      "collapsed_sections": [
        "Kg-JhFakYlkM",
        "OWvidz0phH8z",
        "mfdKFI73e88o"
      ],
      "authorship_tag": "ABX9TyP3I7a4HcYgdbrXmu0Sjzz8",
      "include_colab_link": true
    },
    "kernelspec": {
      "name": "python3",
      "display_name": "Python 3"
    },
    "language_info": {
      "name": "python"
    }
  },
  "cells": [
    {
      "cell_type": "markdown",
      "metadata": {
        "id": "view-in-github",
        "colab_type": "text"
      },
      "source": [
        "<a href=\"https://colab.research.google.com/github/RumethR/Resume-Ner/blob/main/Cw1_w1809911_RumethRandombage.ipynb\" target=\"_parent\"><img src=\"https://colab.research.google.com/assets/colab-badge.svg\" alt=\"Open In Colab\"/></a>"
      ]
    },
    {
      "cell_type": "markdown",
      "source": [
        "# Part A: Application Area Review\n",
        "\n",
        "**Selected Domain: Human resources and computing.**\n"
      ],
      "metadata": {
        "id": "Kg-JhFakYlkM"
      }
    },
    {
      "cell_type": "markdown",
      "source": [
        "\n",
        "The domain of human resources within an organisation entails a wide variety of operations and responsibilities ranging from employee compensation to organisational structure. This poses a great opportunity for Artificial Intelligent (AI) systems to contribute towards the Human Resource Management (HRM) tasks within an organisation. One of the most common areas where AI has been highly used is within the realm of recruitment and talent acquisition. A study by the ‘Oracle’ corporation has revealed that professionals in the human resource management industry believe that AI can boost productivity among other statistics (Rahmani and Kamberaj, 2021). Other sources believe that AI will enable new application procedures for candidates, increase applicant discovery rates and even reduce vacancy times as these systems can traverse through applications faster than trained professionals (Vrontis et al., 2021). AI powered applications in HRM are also able to process large amounts of data at high speeds, faster and more accurately than any trained professional, this allows organisations to gain insights that would otherwise be impossible with manual labour. The use of these systems are also more likely to be less biassed towards factors that do not affect performance such as age, gender or race (assuming that they are developed properly). Repetitive tasks within the domain of HRM are more likely to be successfully automated with AI powered applications according to *Vrontis et al. (2021)*.\n",
        "\n",
        "The overall effect of bias that is induced when training was studied by the influential work of *Tambe, Cappelli and Yakubovich (2019)* who observed that the data that these systems were built on had a major impact in how these systems performed. This underlying data itself has the opportunity to represent industry swings and unspoken ethics (i.e. the system might be trained on data that indicated towards hiring from a specific university), hence it is important that these systems work in tandem with trained professionals.This study also looks into how Machine Learning algorithms have fared against several different HR operations within organisations. AI powered HRM task management systems such as Quine, BenefitFocus and Jobvite are now widely available for any organisation of any scale to incorporate into their workflows (Tambe, Cappelli and Yakubovich, 2019).\n",
        "\n",
        "On the opposite side of the spectrum, employees now have access to tools such as IBM’s ‘Blue Match’ presents viable job openings for their specific skill set, similarly AI powered tools have helped IBM to identify possible flight risks and retain employees for much longer according to their former CEO Ginni Rometty (Rosenbaum, 2019). These HRM service vendors however do not provide any information about the type of AI techniques that are used internally within their products. It is also important to note that most AI powered solutions can typically be applied on a small portion of a HRM task, for example in the task of vetting candidates these tools can only provide a suggestion or score of desirability is most cases rather than performing the entire stack of recruiting tasks that go alongside the vetting process (Ghosh, Majumder and Santosh Kumar Das, 2023). The common theme among most studies that observe the usage of AI in HRM is that they are heavily reliant on the quality and the quantity of the data that they are being built upon.\n",
        "\n",
        "With the rise of open source Large Language Models (LLM) it is easier than ever for organisations to create a custom tailored algorithm that can perform trivial tasks within HRM such as answering frequently asked questions from employees through chatbots *Pawan Budhwar et al. (2023)* studied the use of popular generative AI tool ChatGPT in a HRM context and how it affects areas other than productivity such as employment relations, employee wellbeing and engagement. This study revealed that employees prefer tools such as ChatGPT in many scenarios that require understanding and perceiving information more than their human co-workers. However long term social, ethical and legal implications of using such technologies are difficult to quantify (Pawan Budhwar et al., 2023). Listed below are some other AI-based techniques used in the HRM context (Ghosh, Majumder and Santosh Kumar Das, 2023).\n",
        "\n",
        "*   Turnover Prediction with Artificial Neural Networks\n",
        "*   Candidate Search With Knowledge-Based Search Engines\n",
        "*   Sentiment Analysis on employee engagement and relations\n",
        "*   Résumé data acquisition using NLP\n",
        "\n",
        "\n"
      ],
      "metadata": {
        "id": "PdkdKZArfPO4"
      }
    },
    {
      "cell_type": "markdown",
      "source": [
        "# Part B: Comparision and evaluation of AI Techniques used in Human Resources"
      ],
      "metadata": {
        "id": "OWvidz0phH8z"
      }
    },
    {
      "cell_type": "markdown",
      "source": [
        "As mentioned before all HRM tasks in an organization cannot be supplemented or automated by one singular system. The scope of this specific section will cover the task of utilizing Machine Learning techniques for the purpose of recruiting, vetting and staffing employees using a CV/Résumé. This project will focus on using Named Entity Recognition (NER) on CVs to identify talent that best suites a given job posting. NER is classified as a Sequence Labelling Task within the domain of Natural Language Processing (NLP), there are many different ways of addressing these sequence labelling tasks listed below are three such approaches."
      ],
      "metadata": {
        "id": "itzimModhSzc"
      }
    },
    {
      "cell_type": "markdown",
      "source": [
        "### NER using Conditional Random Fields (CRF)"
      ],
      "metadata": {
        "id": "m5YLiQ2f9-h1"
      }
    },
    {
      "cell_type": "markdown",
      "source": [
        "Using Conditional Random Fields for NER tasks is a popular machine learning based approach which uses a probabilistic model. CRFs capture dependencies among neighbouring labels in a sequence and have the ability to consider the entire input sequence when making predictions. Feature functions are used to define relationships between input features (words) and output labels (entities). These relationships have to be manually defined by the trainer. CRFs calculate the probability distribution of an output sequence (labels) given an input sequence.Transition weights in Conditional Random Fields represent the likelihood of moving from one label to another in the sequence. During the training phase, the relationships between input features, their corresponding output labels (using data from the feature functions) and the effect of the transition weights are learned from the training data.\n",
        "\n",
        "For training a model that can perform NER using CRF text data with entities as labels are required. Necessary words in the training data sequence need to be accompanied by its corresponding entity label. Datasets for training NER models are widely available under different platforms such as Kaggle and the UCI Machine Learning Repository. One of the most common dataset and evaluation benchmark for NER is the CoNLL-2003 [dataset](https://www.clips.uantwerpen.be/conll2003/ner/). CRF based models tend to perform well as they have the ability to capture contextual information about the data. However performance is heavily dependent on the quality and relevance of engineered features, this is one of the major drawbacks of CRF based models. Feature engineering will mostly depend on the domain that the information is extracted from, and in the context of CVs people vary in the way they express information hence engineering features that capture necessary information will be quite a difficult task. Generally, CRF based models tend to be computationally efficient compared to their Deep Learning based counterparts who in turn will be better at capturing more intricate patterns within the data."
      ],
      "metadata": {
        "id": "YT0ru1sb-qMD"
      }
    },
    {
      "cell_type": "markdown",
      "source": [
        "### NER using Neural Networks and pre-trained models"
      ],
      "metadata": {
        "id": "uQRcMfG2-IX8"
      }
    },
    {
      "cell_type": "markdown",
      "source": [
        "Currently there are many frameworks and pre-trained models that ease the task of NER. Similar to Tensorflow there are libraries that are built for performing NLP tasks. [SpaCy](https://spacy.io/usage/spacy-101) is one such Python package that offers pre-trained models for tasks such as NER. SpaCy’s default models use Convolutional Neural Networks (CNN) for the task of feature extraction and entity recognition. These models are trained on large labelled datasets hence they cover a wide range of contexts and features. By default the SpaCy package can identify entities within a  given text such as locations, dates, persons and organisations. These can be customised through a variety of API’s that are also included within the library. Similar to CRF and Transformer based models SpaCy’s CNNs can also understand contextual information regarding the input data, allowing the model to capture relationships between entities.\n",
        "\n",
        "Efficiency of a custom built CRF based model for NER depends heavily on the training data and the quality of the engineered features. Comparatively pre-trained models from SpaCy can offer similar accuracy scores and be more computationally efficient at  the same time. However by using a pre-built model the level of customization is limited. There are other libraries that have packaged in pre-trained models for NER such as [NLTK](https://www.nltk.org/) (Natural Language Toolkit) which can offer similar functionality to SpaCy, each library has their own strengths and weaknesses."
      ],
      "metadata": {
        "id": "5LRr3UGx_Jat"
      }
    },
    {
      "cell_type": "markdown",
      "source": [
        "### NER using pre-trained Transformer based models (BERT)"
      ],
      "metadata": {
        "id": "E399fVqg-Mmc"
      }
    },
    {
      "cell_type": "markdown",
      "source": [
        "With the rise of pre-trained Transformer based models such as BERT and GPT, the application of these models for NLP tasks has proven to yield competitive results. The Bi-directional approach considers text preceding from both the left and the right of a given word in a sentence. This helps the model to understand a much broader context (and longer text sequences) compared to the default pre-trained models offered by SpaCy which uses a CNN. This can be especially useful in the context of parsing data from CVs which can contain ambiguous and complex sentences. There are many more pre-trained Transformer based models which can have this characteristic, these are available through the [Hugging Face](https://huggingface.co/) community platform. BERT specifically is trained on a large corpus of text using 2 unsupervised learning techniques, masked language modelling and next sentence prediction.\n",
        "\n",
        "Unlike SpaCy, BERT is not an out-of-the-box solution for most NER tasks. This model needs to be fine-tuned in order to be used for NER purposes. This allows BERT to be domain specific and can in theory lead to better performance on very complex and domain specific NER tasks. The drawback of this level of customization is that a BERT model is more resource intensive and technically challenging to develop compared to SpaCy or NLTK. It also requires a labelled dataset for training before it can be used. Fine-tuning a BERT model requires large amounts of data to yield competitive results, which might not be publicly available in the case of CVs. In summary, BERT models can perform better than the other two approaches given that they are fine-tuned correctly, whilst SpaCy offers a better efficiency to performance ratio without requiring extensive training or customization. Although compared to training a CRF based model for NER form scratch customising a BERT model will yield better results, one drawback is it being more computationally intensive to train and use.\n",
        "\n"
      ],
      "metadata": {
        "id": "Nf2NHgPdLZsG"
      }
    },
    {
      "cell_type": "markdown",
      "source": [
        "# Part C: Implementation"
      ],
      "metadata": {
        "id": "bbGLUtHfjtY-"
      }
    },
    {
      "cell_type": "markdown",
      "source": [
        "We will be using a text-based resume dataset available from Kaggle, the dataset will be accessed directly via this notebook using the Kaggle API. The credentials are hardcoded onto this notebook for ease-of-use during the viva. (Not Recommended)"
      ],
      "metadata": {
        "id": "HQY7HRr3tl_6"
      }
    },
    {
      "cell_type": "code",
      "source": [
        "!pip install kaggle\n",
        "\n",
        "!mkdir ~/.kaggle\n",
        "!echo '{\"username\":\"rumethrandombage\",\"key\":\"6c49cc180f0498fccf2dabb3d22f0236\"}' > ~/.kaggle/kaggle.json\n",
        "!chmod 600 ~/.kaggle/kaggle.json\n",
        "\n",
        "import json\n",
        "\n",
        "!kaggle datasets download -d dataturks/resume-entities-for-ner\n",
        "!unzip resume-entities-for-ner.zip #Extracts to ./content\n",
        "\n",
        "dataset = [] # Each element contains a json object\n",
        "with open('/content/Entity Recognition in Resumes.json', 'r') as file:\n",
        "    for line in file:\n",
        "        dataset.append(json.loads(line))\n",
        "\n",
        "print(\"Number of elements in dataset list\", len(dataset))"
      ],
      "metadata": {
        "colab": {
          "base_uri": "https://localhost:8080/"
        },
        "id": "_I-uBUKswCVZ",
        "outputId": "2620ce72-0c9f-4de4-b988-8b128ebb3ff6"
      },
      "execution_count": 3,
      "outputs": [
        {
          "output_type": "stream",
          "name": "stdout",
          "text": [
            "Requirement already satisfied: kaggle in /usr/local/lib/python3.10/dist-packages (1.5.16)\n",
            "Requirement already satisfied: six>=1.10 in /usr/local/lib/python3.10/dist-packages (from kaggle) (1.16.0)\n",
            "Requirement already satisfied: certifi in /usr/local/lib/python3.10/dist-packages (from kaggle) (2023.11.17)\n",
            "Requirement already satisfied: python-dateutil in /usr/local/lib/python3.10/dist-packages (from kaggle) (2.8.2)\n",
            "Requirement already satisfied: requests in /usr/local/lib/python3.10/dist-packages (from kaggle) (2.31.0)\n",
            "Requirement already satisfied: tqdm in /usr/local/lib/python3.10/dist-packages (from kaggle) (4.66.1)\n",
            "Requirement already satisfied: python-slugify in /usr/local/lib/python3.10/dist-packages (from kaggle) (8.0.1)\n",
            "Requirement already satisfied: urllib3 in /usr/local/lib/python3.10/dist-packages (from kaggle) (2.0.7)\n",
            "Requirement already satisfied: bleach in /usr/local/lib/python3.10/dist-packages (from kaggle) (6.1.0)\n",
            "Requirement already satisfied: webencodings in /usr/local/lib/python3.10/dist-packages (from bleach->kaggle) (0.5.1)\n",
            "Requirement already satisfied: text-unidecode>=1.3 in /usr/local/lib/python3.10/dist-packages (from python-slugify->kaggle) (1.3)\n",
            "Requirement already satisfied: charset-normalizer<4,>=2 in /usr/local/lib/python3.10/dist-packages (from requests->kaggle) (3.3.2)\n",
            "Requirement already satisfied: idna<4,>=2.5 in /usr/local/lib/python3.10/dist-packages (from requests->kaggle) (3.6)\n",
            "Downloading resume-entities-for-ner.zip to /content\n",
            "  0% 0.00/323k [00:00<?, ?B/s]\n",
            "100% 323k/323k [00:00<00:00, 73.5MB/s]\n",
            "Archive:  resume-entities-for-ner.zip\n",
            "  inflating: Entity Recognition in Resumes.json  \n",
            "Number of elements in dataset list 220\n"
          ]
        }
      ]
    },
    {
      "cell_type": "markdown",
      "source": [
        "The dataset consists of 220 JSON objects. The structure of each JSON object is as follows:\n",
        "\n",
        "> \"content\" -> (contains all the data in the CV as a string)\n",
        "\n",
        "> \"annotations\" -> annotation label (\"Name\", \"Skills\", etc.) -> points (\"start and stop index where the label is contained\") - > text for label\n",
        "\n",
        "\n",
        "\n",
        "\n"
      ],
      "metadata": {
        "id": "HpyO5Zi-CGmr"
      }
    },
    {
      "cell_type": "markdown",
      "source": [
        "SpaCy is packaged with a CNN based pre-built model that can perform NER for general entity types (Persons, Organizations, Locations, etc.)."
      ],
      "metadata": {
        "id": "XftpgsXqj1BT"
      }
    },
    {
      "cell_type": "code",
      "source": [
        "import spacy\n",
        "\n",
        "# Access one string of text without any annotations from the datset and pass it into the pre-trained spacy model\n",
        "first_entry = dataset[0]\n",
        "\n",
        "nlp = spacy.load(\"en_core_web_sm\")\n",
        "doc = nlp(first_entry[\"content\"])\n",
        "\n",
        "# Let's see how the pre-trained Model performed\n",
        "for ent in doc.ents:\n",
        "  print(ent.text, ent.label_)"
      ],
      "metadata": {
        "colab": {
          "base_uri": "https://localhost:8080/"
        },
        "id": "VCYOyakvCGJN",
        "outputId": "a057f07d-a831-4924-9f35-5419d4f0b8fb"
      },
      "execution_count": 4,
      "outputs": [
        {
          "output_type": "stream",
          "name": "stdout",
          "text": [
            "Abhishek Jha\n",
            "Application PERSON\n",
            "Bengaluru GPE\n",
            "Karnataka - Email PERSON\n",
            "Karnataka GPE\n",
            "November 2017 DATE\n",
            "B.E in Information ORG\n",
            "B.v.b GPE\n",
            "Hubli ORG\n",
            "Karnataka GPE\n",
            "August 2013 to June 2017\n",
            "\n",
            "12th DATE\n",
            "Mathematics NORP\n",
            "April 2011 to March 2013 DATE\n",
            "10th ORDINAL\n",
            "Kendriya Vidyalaya PERSON\n",
            "April 2001 to March 2011 DATE\n",
            "Less than 1 year DATE\n",
            "Less than 1 year DATE\n",
            "Database Management ORG\n",
            "Less than 1 year DATE\n",
            "Database Management System ORG\n",
            "Less than 1 year DATE\n",
            "Java PERSON\n",
            "Less than 1 year DATE\n",
            "• Programming PRODUCT\n",
            "C++ PERSON\n",
            "Java\n",
            "• Oracle PERSON\n",
            "• Computer Networks ORG\n",
            "Linux GPE\n",
            "Windows GPE\n",
            "Non - Technical Skills\n",
            "\n",
            "• Honest ORG\n",
            "Calm\n",
            "• Team-Player PERSON\n"
          ]
        }
      ]
    },
    {
      "cell_type": "markdown",
      "source": [
        "The built-in NER model performs extremely poorly without any customisations. We can use transfer learning or we can create our own model using the NER pipeline provided by SpaCy, we will be creating a custom model for this project."
      ],
      "metadata": {
        "id": "HVhLRec3VUk6"
      }
    },
    {
      "cell_type": "code",
      "source": [
        "import spacy\n",
        "from spacy.tokens import DocBin\n",
        "from tqdm import tqdm # Used to show progress bars\n",
        "from spacy.util import filter_spans # To make sure there are no overlapping entities\n",
        "\n",
        "\n",
        "nlp = spacy.blank(\"en\")\n",
        "labels = [\"Name\", \"College Name\", \"Degree\", \"Graduation Year\", \"Years of Experience\", \"Companies worked at\", \"Designation\", \"Skills\", \"Location\", \"Email Address\"]\n",
        "\n",
        "ner = nlp.add_pipe(\"ner\") #only using the ner component for the pipeline provided by SpaCy\n",
        "\n",
        "# Add the pre-defined labels gathered from the dataset to the pipeline\n",
        "for label in labels:\n",
        "  ner.add_label(label)"
      ],
      "metadata": {
        "id": "oEso7kj8tZx7"
      },
      "execution_count": 5,
      "outputs": []
    },
    {
      "cell_type": "markdown",
      "source": [
        "Required format for SpaCy to train model.\n",
        "\n",
        "{\n",
        "    \"text\": \"Apple Inc. is headquartered in California.\",\n",
        "    \"entities\": [\n",
        "        {\"start\": 0, \"end\": 10, \"label\": \"ORG\"},\n",
        "        {\"start\": 36, \"end\": 46, \"label\": \"GPE\"}\n",
        "    ]\n",
        "}"
      ],
      "metadata": {
        "id": "5OAbpP-dpxnY"
      }
    },
    {
      "cell_type": "markdown",
      "source": [
        "Current format (After extracting from dataset)\n",
        "\n",
        "{\n",
        "  \"content\": \"Rumeth Randombage is a student at IIT, with one year Internship experience. Email .....\",\n",
        "\n",
        "  annotation: [\n",
        "    { [label: \"Skills\"],  \n",
        "      [points:\n",
        "      {start: 1295,\n",
        "      end: 1621,\n",
        "      text: Python}\n",
        "      ]\n",
        "    }\n",
        "  ]\n",
        "}"
      ],
      "metadata": {
        "id": "A3gPGSPAp8RP"
      }
    },
    {
      "cell_type": "code",
      "source": [
        "import string\n",
        "import re\n",
        "\n",
        "# Read the dataset and pre-process as needed for SpaCy\n",
        "print(\"Example before preprocessing data\")\n",
        "print(dataset[0])\n",
        "\n",
        "# Convert the data to spaCy's training data format\n",
        "formatted_data = []\n",
        "\n",
        "#First we are going to convert one record in the dataset and see if it meets the required format.\n",
        "first_entry = dataset[0] #Each entry contains a 'content', 'annotation' and 'extras'\n",
        "\n",
        "def process_dataset_entry(first_entry):\n",
        "  raw_text = first_entry[\"content\"]\n",
        "\n",
        "  # Clean text: remove punctuation and newline characters\n",
        "  cleaned_text = re.sub(r'[\\n\\r]', ' ', raw_text)\n",
        "  cleaned_text = cleaned_text.replace(\"'\", \"\")\n",
        "\n",
        "  #cleaned_text = raw_text.translate(str.maketrans('', '', string.punctuation)).replace('\\n', ' ')\n",
        "\n",
        "  # Process cleaned text with spaCy\n",
        "  doc = nlp.make_doc(cleaned_text)\n",
        "\n",
        "  # Retrieve cleaned text without punctuation and newline characters\n",
        "  cleaned_text = ' '.join(token.text for token in doc if not token.is_punct and not token.is_space)\n",
        "\n",
        "  formatted_entry = {\"text\": \"\", \"entities\": []}\n",
        "  formatted_entry[\"text\"] = cleaned_text\n",
        "\n",
        "  # Make sure that the given start and end points for specific label lines up with the text\n",
        "  entities = []\n",
        "\n",
        "  # This loop checks if the labels and annotations are correct.\n",
        "  for i in first_entry[\"annotation\"]:\n",
        "    try:\n",
        "      label = i['label'][0]\n",
        "      annotation_text = i[\"points\"][0][\"text\"]\n",
        "\n",
        "      #clean the annotation text as before, and get the start and end points within the larger text\n",
        "      annotation_text_clean = re.sub(r'[\\n\\r]', ' ', annotation_text)\n",
        "      annotation_text_clean = annotation_text_clean.replace(\"'\", \"\")\n",
        "\n",
        "      # Process cleaned text with spaCy\n",
        "      doc = nlp.make_doc(annotation_text_clean)\n",
        "\n",
        "      # Retrieve cleaned text without punctuation and newline characters\n",
        "      cleaned_annotation_text = ' '.join(token.text for token in doc if not token.is_punct and not token.is_space)\n",
        "\n",
        "      start_index = cleaned_text.find(cleaned_annotation_text)\n",
        "      end_index = start_index + len(cleaned_annotation_text) - 1 if start_index != -1 else -1\n",
        "      if label in labels: # In case there are some labels that are not needed/wrong\n",
        "        entities.append({\"start\": start_index, \"end\": end_index, \"label\": label})\n",
        "        formatted_entry[\"entities\"] = entities\n",
        "    except IndexError:\n",
        "      print(\"There was an error parsing the label\")\n",
        "      print(first_entry)\n",
        "      return\n",
        "\n",
        "  discard_entries = 0 # Discarded because of overlapping\n",
        "  checked_entry = prevent_overlapping(formatted_entry)\n",
        "  if len(checked_entry[\"entities\"]) == 0:\n",
        "    print(\"There was overlapping within all the entities\")\n",
        "    discard_entries = discard_entries + 1\n",
        "    return\n",
        "  else:\n",
        "    formatted_data.append(formatted_entry)\n",
        "\n",
        "\n",
        "# Make sure the entities do not overlap within the same text span\n",
        "def prevent_overlapping(entry):\n",
        "  # Overlapping refers to when two labels point to the same text span\n",
        "  entities = entry[\"entities\"]\n",
        "\n",
        "  # Sort entities by start index to check for overlaps\n",
        "  sorted_entities = sorted(entities, key=lambda x: x['start'])\\\n",
        "\n",
        "  previous_end = -1\n",
        "  non_overlapping_entities = []\n",
        "  overlapping_entities = []\n",
        "  for entity in sorted_entities:\n",
        "    if entity['start'] >= previous_end:\n",
        "        non_overlapping_entities.append(entity)\n",
        "        previous_end = entity['end']\n",
        "    else:\n",
        "      overlapping_entities.append(entry)\n",
        "      #print(\"Overlapping Detected on the following entity\")\n",
        "      #print(entity)\n",
        "\n",
        "  # Create and return a new entry with the only the non overlapping entities\n",
        "  if len(non_overlapping_entities) >= 1:\n",
        "    entry[\"entities\"] = non_overlapping_entities\n",
        "    return entry\n",
        "\n",
        "for entry in dataset:\n",
        "  process_dataset_entry(entry)\n",
        "\n",
        "#print(formatted_data[0])\n",
        "print(len(formatted_data))\n"
      ],
      "metadata": {
        "colab": {
          "base_uri": "https://localhost:8080/"
        },
        "id": "FiUV0RRdnTHS",
        "outputId": "b514bab6-8dab-441f-c904-0733e36c8d56"
      },
      "execution_count": 9,
      "outputs": [
        {
          "output_type": "stream",
          "name": "stdout",
          "text": [
            "Example before preprocessing data\n",
            "{'content': \"Abhishek Jha\\nApplication Development Associate - Accenture\\n\\nBengaluru, Karnataka - Email me on Indeed: indeed.com/r/Abhishek-Jha/10e7a8cb732bc43a\\n\\n• To work for an organization which provides me the opportunity to improve my skills\\nand knowledge for my individual and company's growth in best possible ways.\\n\\nWilling to relocate to: Bangalore, Karnataka\\n\\nWORK EXPERIENCE\\n\\nApplication Development Associate\\n\\nAccenture -\\n\\nNovember 2017 to Present\\n\\nRole: Currently working on Chat-bot. Developing Backend Oracle PeopleSoft Queries\\nfor the Bot which will be triggered based on given input. Also, Training the bot for different possible\\nutterances (Both positive and negative), which will be given as\\ninput by the user.\\n\\nEDUCATION\\n\\nB.E in Information science and engineering\\n\\nB.v.b college of engineering and technology -  Hubli, Karnataka\\n\\nAugust 2013 to June 2017\\n\\n12th in Mathematics\\n\\nWoodbine modern school\\n\\nApril 2011 to March 2013\\n\\n10th\\n\\nKendriya Vidyalaya\\n\\nApril 2001 to March 2011\\n\\nSKILLS\\n\\nC (Less than 1 year), Database (Less than 1 year), Database Management (Less than 1 year),\\nDatabase Management System (Less than 1 year), Java (Less than 1 year)\\n\\nADDITIONAL INFORMATION\\n\\nTechnical Skills\\n\\nhttps://www.indeed.com/r/Abhishek-Jha/10e7a8cb732bc43a?isid=rex-download&ikw=download-top&co=IN\\n\\n\\n• Programming language: C, C++, Java\\n• Oracle PeopleSoft\\n• Internet Of Things\\n• Machine Learning\\n• Database Management System\\n• Computer Networks\\n• Operating System worked on: Linux, Windows, Mac\\n\\nNon - Technical Skills\\n\\n• Honest and Hard-Working\\n• Tolerant and Flexible to Different Situations\\n• Polite and Calm\\n• Team-Player\", 'annotation': [{'label': ['Skills'], 'points': [{'start': 1295, 'end': 1621, 'text': '\\n• Programming language: C, C++, Java\\n• Oracle PeopleSoft\\n• Internet Of Things\\n• Machine Learning\\n• Database Management System\\n• Computer Networks\\n• Operating System worked on: Linux, Windows, Mac\\n\\nNon - Technical Skills\\n\\n• Honest and Hard-Working\\n• Tolerant and Flexible to Different Situations\\n• Polite and Calm\\n• Team-Player'}]}, {'label': ['Skills'], 'points': [{'start': 993, 'end': 1153, 'text': 'C (Less than 1 year), Database (Less than 1 year), Database Management (Less than 1 year),\\nDatabase Management System (Less than 1 year), Java (Less than 1 year)'}]}, {'label': ['College Name'], 'points': [{'start': 939, 'end': 956, 'text': 'Kendriya Vidyalaya'}]}, {'label': ['College Name'], 'points': [{'start': 883, 'end': 904, 'text': 'Woodbine modern school'}]}, {'label': ['Graduation Year'], 'points': [{'start': 856, 'end': 860, 'text': '2017\\n'}]}, {'label': ['College Name'], 'points': [{'start': 771, 'end': 813, 'text': 'B.v.b college of engineering and technology'}]}, {'label': ['Designation'], 'points': [{'start': 727, 'end': 769, 'text': 'B.E in Information science and engineering\\n'}]}, {'label': ['Companies worked at'], 'points': [{'start': 407, 'end': 415, 'text': 'Accenture'}]}, {'label': ['Designation'], 'points': [{'start': 372, 'end': 404, 'text': 'Application Development Associate'}]}, {'label': ['Email Address'], 'points': [{'start': 95, 'end': 145, 'text': 'Indeed: indeed.com/r/Abhishek-Jha/10e7a8cb732bc43a\\n'}]}, {'label': ['Location'], 'points': [{'start': 60, 'end': 68, 'text': 'Bengaluru'}]}, {'label': ['Companies worked at'], 'points': [{'start': 49, 'end': 57, 'text': 'Accenture'}]}, {'label': ['Designation'], 'points': [{'start': 13, 'end': 45, 'text': 'Application Development Associate'}]}, {'label': ['Name'], 'points': [{'start': 0, 'end': 11, 'text': 'Abhishek Jha'}]}], 'extras': None}\n",
            "There was an error parsing the label\n",
            "{'content': \"Shrishti Chauhan\\nHave total work experience of 2.5 years on Oracle Fusion Middleware -\\nSOA, WebLogic and MFT Module.\\n\\nBilaspur, Chhattisgarh - Email me on Indeed: indeed.com/r/Shrishti-\\nChauhan/89d7feb4b3957524\\n\\nSeeking to hone and enhance my technical skills in Oracle Fusion Middleware while working as\\na professional in challenging and goal oriented environment.\\n\\nWilling to relocate to: Bengaluru, Karnataka\\n\\nWORK EXPERIENCE\\n\\nTechnical Consultant\\n\\nOracle -  Bengaluru, Karnataka -\\n\\nOctober 2015 to Present\\n\\n• Have total work experience of 2.5 years on Oracle Fusion Middleware - SOA, WebLogic and\\nMFT Module.\\n\\n• Have extensively worked on Support, Testing, Cloning, Monitoring and Maintenance support\\nand Enhancement for the E-Commerce Project with multi system module.\\n\\n• Have good understanding on End-to-End Business Process.\\n\\n• Experience in developing and deploying BPEL Processes using technology adapters (DB\\nAdapter, File Adapter, FTP Adapter and JMS Adapter).\\n\\n• Part of a team for developing a BPEL process to integrate Oracle Fusion Applications. This\\nOrchestrated BPEL Process had process activities like data conversion, transformation and fault\\nhandling.\\n\\n• Developed and deployed BPEL processes to import sales order and add lines to the sales order\\nimported from external sources (Files and Databases) into Order Orchestration Module.\\n\\n• Worked on BPEL process to create sales order within Order Orchestration Module using SOAPUI\\nand Enterprise Manage.\\n\\n• Have good understanding on Synchronous and Asynchronous processes, Transformations, XSD,\\nXSLT and XPath\\n\\n• Installation of Middle tier application server (SOA Suite 11g), configuring and deploying\\napplication adapters and integrating with other ERP or 3rd Party Services.\\n\\n• Working with the client team and communicating with the business teams regarding integration\\nwith external Delivery System.\\n\\nhttps://www.indeed.com/r/Shrishti-Chauhan/89d7feb4b3957524?isid=rex-download&ikw=download-top&co=IN\\nhttps://www.indeed.com/r/Shrishti-Chauhan/89d7feb4b3957524?isid=rex-download&ikw=download-top&co=IN\\n\\n\\n• As an Oracle Technical Consultant I was responsible for providing End-to-End support in the\\nproject for Oracle Fusion Middleware.\\n\\n• Good understanding of Service Oriented Architecture (SOA) with the middleware technologies\\nfor application integration.\\n\\nTechnical Consultant\\n\\nOracle\\n\\nHave total work experience of 2.5 years on Oracle Fusion Middleware - SOA, WebLogic and MFT\\nModule.\\n\\nEDUCATION\\n\\nC.S.\\n\\nCHHATTISGARH SWAMI VIVEKANANDA TECHNICAL UNIVERSITY\\n\\n2011 to 2015\\n\\nSKILLS\\n\\nXml, Oracle MFT, Core Java, Oracle SOA, WSDL, ODI\\n\\nADDITIONAL INFORMATION\\n\\nTECHNICAL SKILL SET\\nERP Packages Oracle Fusion Middleware and Oracle Fusion Application (DOO/GOP)\\nFusion Middleware Modules Oracle SOA, MFT and Web Logic (11G and 12C Version)\\nAdapters Database, JMS, FTP and File\\nTools JDeveloper, Enterprise Manager, Administrative Console, SOAP UI and BI Publisher\\nProgramming Languages XML, C++ and Core Java\\nDatabases SQL\\nOperating System Unix and Windows\\n\\nPROJECT DETAILS\\nProject Client HOLTS RENFREW\\nRole & Duration Technical Consultant Oct-15\\nScope of Project Oracle Fusion Middleware 11G and Oracle Fusion Application R12\\nProject Description\\nHolt Renfrew is 180 years old chain of high-end Canadian department stores specializing in an\\narray of luxury brands and designer boutiques.\\n\\nResponsibilities\\n• Worked as Technical Consultant to the customer for the issues related to Oracle SOA (mainly\\nBPEL and Mediator Components).\\n• Providing daily Server Health Check for SOA and DOO/GOP (SCM) to the customer.\\n• Attending/Conducting weekly customer calls and providing an update about the progress of\\nthe issues.\\n\\n\\n\\n• Interacting with the Clients to understand the requirement and details of the issues and\\nproviding suggestions/answers to their queries.\\n• Resolving technical issues and enhancement raised by the customer.\\n• Reviewing work products from the Team Members and delivering products to the client on time\\nwith high quality.\\n• RCA for the Complex Issues in client's version of Oracle SOA and SCM.\\n• Partially worked on functional issues related to DOO/GOP - Order Management and Inventory\\nManagement.\\n• Working effectively with Oracle Product Support for any issue related to Standard Functionality.\\n\\nProject Client WHITBREAD PLC\\nRole & Duration Technical Consultant SEPT-17\\nScope of Project Oracle Fusion Middleware 12C and Oracle SAAS\\nProject Description\\nWhitbread PLC is the UK's largest hospitality company, owning Premier Inn and Costa Coffee, as\\nwell as Beefeater, Brewers Fayre, and Bar Block.\\n\\nResponsibilities\\n• Worked as Technical Consultant to the customer for the issues related to Oracle SOA and MFT.\\n• Monitoring Critical Process and fixing the concurrent process running on SOA, MFT and ODI.\\n• Worked on developing and executing Integration Regression Test Script.\\n• Developing Application Understanding Documents for the Standard functionalities.\\n• Interacting with the Clients to understand the requirement and details of the issues and\\nproviding suggestions/answers to their queries.\\n• Resolving technical issues and enhancement raised by the customer.\\n• Reviewing work products from the Team Members and delivering products to the client on time\\nwith high quality.\\n• RCA for the Complex Issues in client's version of Oracle SOA and SCM.\\n• Working effectively with Oracle Product Support for any issue related to Standard Functionality.\\n• Co-ordinate internally with various teams, executives in providing the decisions to various\\nfactors influencing the project implementation\", 'annotation': [{'label': ['Companies worked at'], 'points': [{'start': 5365, 'end': 5370, 'text': 'Oracle'}]}, {'label': ['Companies worked at'], 'points': [{'start': 5318, 'end': 5323, 'text': 'Oracle'}]}, {'label': ['Companies worked at'], 'points': [{'start': 4676, 'end': 4681, 'text': 'Oracle'}]}, {'label': ['Designation'], 'points': [{'start': 4613, 'end': 4632, 'text': 'Technical Consultant'}]}, {'label': ['Companies worked at'], 'points': [{'start': 4407, 'end': 4412, 'text': 'Oracle'}]}, {'label': ['Companies worked at'], 'points': [{'start': 4374, 'end': 4397, 'text': 'Oracle Fusion Middleware'}]}, {'label': ['Companies worked at'], 'points': [{'start': 4374, 'end': 4379, 'text': 'Oracle'}]}, {'label': ['Designation'], 'points': [{'start': 4328, 'end': 4347, 'text': 'Technical Consultant'}]}, {'label': ['Companies worked at'], 'points': [{'start': 4210, 'end': 4215, 'text': 'Oracle'}]}, {'label': ['Companies worked at'], 'points': [{'start': 4059, 'end': 4064, 'text': 'Oracle'}]}, {'label': ['Companies worked at'], 'points': [{'start': 3449, 'end': 3454, 'text': 'Oracle'}]}, {'label': ['Designation'], 'points': [{'start': 3386, 'end': 3405, 'text': 'Technical Consultant'}]}, {'label': ['Companies worked at'], 'points': [{'start': 3165, 'end': 3170, 'text': 'Oracle'}]}, {'label': ['Companies worked at'], 'points': [{'start': 3132, 'end': 3155, 'text': 'Oracle Fusion Middleware'}]}, {'label': ['Companies worked at'], 'points': [{'start': 3132, 'end': 3137, 'text': 'Oracle'}]}, {'label': ['Designation'], 'points': [{'start': 3087, 'end': 3106, 'text': 'Technical Consultant'}]}, {'label': ['Companies worked at'], 'points': [{'start': 2756, 'end': 2761, 'text': 'Oracle'}]}, {'label': ['Companies worked at'], 'points': [{'start': 2694, 'end': 2699, 'text': 'Oracle'}]}, {'label': ['Companies worked at'], 'points': [{'start': 2665, 'end': 2688, 'text': 'Oracle Fusion Middleware'}]}, {'label': ['Companies worked at'], 'points': [{'start': 2665, 'end': 2670, 'text': 'Oracle'}]}, {'label': [], 'points': [{'start': 2585, 'end': 2590, 'text': 'Oracle'}]}, {'label': ['Skills'], 'points': [{'start': 2562, 'end': 2567, 'text': 'Oracle'}]}, {'label': ['Skills'], 'points': [{'start': 2557, 'end': 2605, 'text': 'Xml, Oracle MFT, Core Java, Oracle SOA, WSDL, ODI'}]}, {'label': ['Graduation Year'], 'points': [{'start': 2543, 'end': 2546, 'text': '2015'}]}, {'label': ['College Name'], 'points': [{'start': 2482, 'end': 2532, 'text': 'CHHATTISGARH SWAMI VIVEKANANDA TECHNICAL UNIVERSITY'}]}, {'label': ['Degree'], 'points': [{'start': 2476, 'end': 2479, 'text': 'C.S.'}]}, {'label': ['Companies worked at'], 'points': [{'start': 2407, 'end': 2430, 'text': 'Oracle Fusion Middleware'}]}, {'label': ['Companies worked at'], 'points': [{'start': 2407, 'end': 2412, 'text': 'Oracle'}]}, {'label': ['Years of Experience'], 'points': [{'start': 2394, 'end': 2402, 'text': '2.5 years'}]}, {'label': ['Companies worked at'], 'points': [{'start': 2356, 'end': 2361, 'text': 'Oracle'}]}, {'label': ['Designation'], 'points': [{'start': 2334, 'end': 2353, 'text': 'Technical Consultant'}]}, {'label': ['Companies worked at'], 'points': [{'start': 2184, 'end': 2207, 'text': 'Oracle Fusion Middleware'}]}, {'label': ['Companies worked at'], 'points': [{'start': 2184, 'end': 2189, 'text': 'Oracle'}]}, {'label': ['Designation'], 'points': [{'start': 2093, 'end': 2112, 'text': 'Technical Consultant'}]}, {'label': ['Companies worked at'], 'points': [{'start': 2086, 'end': 2091, 'text': 'Oracle'}]}, {'label': ['Companies worked at'], 'points': [{'start': 1034, 'end': 1039, 'text': 'Oracle'}]}, {'label': ['Companies worked at'], 'points': [{'start': 556, 'end': 579, 'text': 'Oracle Fusion Middleware'}]}, {'label': ['Companies worked at'], 'points': [{'start': 556, 'end': 561, 'text': 'Oracle'}]}, {'label': ['Years of Experience'], 'points': [{'start': 543, 'end': 551, 'text': '2.5 years'}]}, {'label': ['Graduation Year'], 'points': [{'start': 494, 'end': 497, 'text': '2015'}]}, {'label': ['Companies worked at'], 'points': [{'start': 452, 'end': 457, 'text': 'Oracle'}]}, {'label': ['Designation'], 'points': [{'start': 430, 'end': 449, 'text': 'Technical Consultant'}]}, {'label': ['Companies worked at'], 'points': [{'start': 263, 'end': 286, 'text': 'Oracle Fusion Middleware'}]}, {'label': ['Companies worked at'], 'points': [{'start': 263, 'end': 268, 'text': 'Oracle'}]}, {'label': ['Location'], 'points': [{'start': 118, 'end': 125, 'text': 'Bilaspur'}]}, {'label': ['Companies worked at'], 'points': [{'start': 60, 'end': 83, 'text': 'Oracle Fusion Middleware'}]}, {'label': ['Companies worked at'], 'points': [{'start': 60, 'end': 65, 'text': 'Oracle'}]}, {'label': ['Years of Experience'], 'points': [{'start': 47, 'end': 55, 'text': '2.5 years'}]}, {'label': ['Name'], 'points': [{'start': 0, 'end': 15, 'text': 'Shrishti Chauhan'}]}], 'extras': None}\n",
            "There was an error parsing the label\n",
            "{'content': 'Debasish Dasgupta\\nTrainer-Finacle-Core Banking Solutions-Infosys - Onward eServices\\nlimited\\n\\nQasba, Bihar - Email me on Indeed: indeed.com/r/Debasish-Dasgupta/a20561e10f83ae3f\\n\\n✓ Worked as a faculty for Infosys in PTC ( Postal Training Centre) of DOP (Department of Post-\\nIndia)\\n✓ Undertaken Classes for Banking Theory and practices.\\n✓ Trainer- Finacle Core Banking Solutions\\n✓ Maintaining client base of 20 Crores.\\n✓ Investment Banking ( H.N.I section)\\n✓ Admin and ATM manager (IT and branch)\\n✓ Management and smooth functioning of ATM network and administration.\\n✓ Implementation of Finacle10.2 in the branch level (Axis Bank)\\n✓ Successfully completed the task of Transition Supervisor in the migration from Finacle7 to\\nFinacle 10.2.\\n✓ Over 4 years of rich experience in financial sector\\n✓ Ability to support and sustain a positive work environment that fosters team performance with\\nstrong communication and negotiation skills.\\n✓ Thorough understanding of cash management services involving bulk payments for large\\ncorporate and processing of cash and cheque collections from them.\\n✓ Thorough working knowledge Branch Banking &amp; routine banking operations.\\n✓ Possess excellent interpersonal, communication and organizational skills with demonstrated\\nabilities in team management and customer relationship management.\\n✓ Developing Customer base for the Bank and be strong player in the growth of overall business\\n\\nWORK EXPERIENCE\\n\\nTrainer-Finacle-Core Banking Solutions-Infosys\\n\\nOnward eServices limited -  Chennai, Tamil Nadu -\\n\\n2014 to Present\\n\\nJob Summary: Trainer in PTC (Postal Training centre) - Department of Post.\\n\\n• Training clients about Finacle CBS menu opttions.\\n• Training postal employees about the day to day banking practice.\\n• Training postal employees about Finacle 10.2 implementation in the department.\\n• Supervising in the migration from manual data entry to core banking application.\\n• Training client about the package.\\n• Migration of the system to new software.\\n\\nBranch Manager\\n\\nRainbow Financial Services -  Kolkata, West Bengal -\\n\\n2012 to April 2014\\n\\nhttps://www.indeed.com/r/Debasish-Dasgupta/a20561e10f83ae3f?isid=rex-download&ikw=download-top&co=IN\\n\\n\\nInvestment Banking- salt Lake- Kolkata)\\nJob role: Branch Manager\\n\\nJob Summary:\\n• Cash flow management.\\n• Providing trading solutions to all clients.\\n• Providing working capital solutions to small scale and big firms.\\n• Treasury management.\\n• Worked as Financial Product consultant (H N I)\\n• Responsibility to provide financial solution to the customers\\n• Channelizing the liquidity of the customer to proper fund.\\n\\nAsst Manager\\n\\nAXIS Bank Ltd -\\n\\nJuly 2007 to 2012\\n\\nJamshedpur_\\n\\nJob Role: Admin and ATM coordinator of branch.\\n\\n* Job summary: Admin (Branch &amp; IT)\\n➢ Implementation of Finacle 10.2 (banking software) in the region.\\n➢ Training the branch staffs In Finacle 10.2 module and supervising the transition period of every\\ndepartment from Finacle 7 to Finacle 10.2. at the time of migration.\\n➢ Fixed asset management through FAMS software in the region assigned to me.\\n➢ Responsible of procurement of new assets and stationery through e-shop software, sale and\\npurchase of old assets through quotations from different vendors.\\n\\n➢ Space management of the branch level and 5\\'s implementation in the branch through proper\\ncoordination with the team.\\n➢ Attendance record management in the HR software.\\n➢ Maintenance of all important branch documents for e.g. personal HR file, govt. document\\nmaintained by all banks, all notices to be displayed in the branch.\\n➢ Attending security meetings with local authorities on fortnightly basis.\\n➢ Coordination with concurrent auditor and external auditor to ensure \"AAA\" ratings for the\\nBranch through proper compliance in yearly audit.\\n➢ Decision making authority of all petty expenses on a branch level.\\n➢ IT related issues to be coordinated with the help desk (WIPRO)\\n➢ Software and hardware management of all the branches in the region\\n➢ Network logbook maintenance and record keeping of all the issues faced by the branches.\\n➢ Record management of all the branch data and to keep a back up of the same in the main\\nserver.\\n➢ Responsible of smooth functioning of the server and network through regular track keeping\\nand ensuring all the service request or call lodged should attended within proper TAT.\\n* Job summary: ATM Manager:\\n\\n♦ Before outsourcing and centralization of ATM\\'s\\n➢ Reconciliation of the all ATM\\'s manually and in software.\\n\\n\\n\\n➢ Member of Circle Audit Team for compliance in ATM reconciliation of other branches.\\n➢ Reversal of all excess and short cash issues of the ATM\\'s.\\n➢ Maintaining TAT for own bank and other bank customer disputes on a regular basis.\\n➢ Coordination of ATM team and local logistics &amp; courier for smooth functioning of ATM.\\n➢ Keeping track of cash replenishment of all ATM\\'s in the region.\\n➢ Getting approval and maintaining record of all ATM related expenditure.\\n➢ Procurement of new ATM machine through different vendors and also to decide new location\\nof ATM site.\\n➢ Fortnight audit and verification of ATM\\'s and cash vaults\\n➢ Rent agreements of ATM\\'s and renewal of the same.\\n\\nAfter outsourcing and centralization of ATM\\'s\\n➢ Handing over the reconciliation of all the ATM\\'s to the central ATM nodal cell at the time of\\ncentralization of ATM\\'s.\\n➢ Coordination with outsource agency for smooth and proper functioning of ATM\\'s under the\\nbranch and also coordinating in acquisition of new ATM site.\\n➢ Daily updating of all the details in the respective software.\\n➢ Coordination with local CRA agency for smooth cash replenishment of all ATM\\'s.\\n➢ Coordination with the central reconciliation team to solve own bank and other bank disputes\\nwithin the given TAT.\\n\\n* Having through knowledge on implementation of Finacle7 &amp; Finacle10.2 (Core Banking\\nSolution Software developed by Infosys)\\n* Head cashier for 2.5 years, serving ATM cash Requirement, Cash remittance to currency Chest\\nand managing CDP (Cash delivery &amp; pick-up) by strictly following clean note policy.\\n* Handled Cash Management Services.\\n* Handled Front desk banking Operation for e.g. - D.D printing, cheque transfer, fixed deposit,\\nLocker Facility, GBM challan.\\n* Handling Customer Related Queries and KYC compliance and AML.\\n\\nKey Learning\\'s\\n• A complete training of Finacle 10.2 (Classroom and on the job)\\n• A holistic experience of overall administration, logistics and operation of banking procedures\\nto serve the HNI clients of the Bank and also to receive appreciation and acknowledgement from\\nboth the sides.\\n\\n• Thorough knowledge of Audit Compliance.\\n\\nFront Office Credit Coordinator\\n\\nH.D.F.C. Ltd -  Kolkata, West Bengal -\\n\\nSeptember 2005 to June 2007\\n\\nKolkata\\n\\nKey Result Areas across assignments:\\n\\nJob Responsibilities:\\n* Worked as Front Office Credit Coordinator.\\n\\n\\n\\n* Preparation of Housing loan Sanction report.\\n* Coordinating sales team and their sales promotional activities\\n\\nKey Learning\\'s\\n• Exposure to Housing Loan industry.\\n\\nFinancial Product consultant\\n\\nI.C.I.C.I PRUDENTIAL LIFE INSURANCE -  Kolkata, West Bengal -\\n\\nJanuary 2004 to February 2005\\n\\nH N I)\\n• Responsibility to provide financial solution to the customers\\n• Channelizing the liquidity of the customer to proper fund.\\n• different industries.\\n• Strong P.R build quality developed due to daily customer interaction.\\n• Successfully completed 5 years of banking as an ATM manager and branch admin.\\n• Many recognition from branch level and as well as circle level.\\n• Proper migration and implementation of banking software from Finacle 7 to Finacle10.2.\\n• Error free audit in Spam of 2.5 years as a Branch Main Cashier.\\n• Achievements Of targets in Third party Products.\\n• Managing complete branch operations with key focus on bottom line profitability by ensuring\\noptimal utilization of available resources.\\n• Implementation &amp; Achievement of 5S for the Branch.\\n\\nEDUCATION\\n\\nB.B.M\\n\\nAndhra University\\n\\n2003\\n\\nGulmohar High School -  Jamshedpur, Jharkhand\\n\\n2000', 'annotation': [{'label': [], 'points': [{'start': 7878, 'end': 7882, 'text': 'B.B.M'}]}, {'label': ['Companies worked at'], 'points': [{'start': 5840, 'end': 5846, 'text': 'Infosys'}]}, {'label': ['Email Address'], 'points': [{'start': 2090, 'end': 2136, 'text': 'indeed.com/r/Debasish-Dasgupta/a20561e10f83ae3f'}]}, {'label': ['Companies worked at'], 'points': [{'start': 1471, 'end': 1477, 'text': 'Infosys'}]}, {'label': ['Designation'], 'points': [{'start': 1432, 'end': 1469, 'text': 'Trainer-Finacle-Core Banking Solutions'}]}, {'label': ['Companies worked at'], 'points': [{'start': 203, 'end': 209, 'text': 'Infosys'}]}, {'label': ['Email Address'], 'points': [{'start': 128, 'end': 174, 'text': 'indeed.com/r/Debasish-Dasgupta/a20561e10f83ae3f'}]}, {'label': ['Location'], 'points': [{'start': 93, 'end': 97, 'text': 'Qasba'}]}, {'label': ['Companies worked at'], 'points': [{'start': 57, 'end': 63, 'text': 'Infosys'}]}, {'label': ['Designation'], 'points': [{'start': 18, 'end': 55, 'text': 'Trainer-Finacle-Core Banking Solutions'}]}, {'label': ['Name'], 'points': [{'start': 0, 'end': 16, 'text': 'Debasish Dasgupta'}]}], 'extras': None}\n",
            "218\n"
          ]
        }
      ]
    },
    {
      "cell_type": "markdown",
      "source": [
        "spaCy requires training data to be in 'Doc' objects. The output from the pipeline will also result in a Doc object. Finally the file will be saved in the runtime with the .spacy format."
      ],
      "metadata": {
        "id": "3FbHKXMuxeh-"
      }
    },
    {
      "cell_type": "code",
      "source": [
        "from spacy.training.example import Example\n",
        "from spacy.scorer import Scorer\n",
        "import random\n",
        "\n",
        "# Assuming formatted_data is a list of dictionaries with \"text\" and \"entities\" fields\n",
        "train_data = []\n",
        "for entry in formatted_data:\n",
        "    text = entry[\"text\"]\n",
        "    doc = nlp.make_doc(text)\n",
        "    entities = []\n",
        "    for entity in entry[\"entities\"]:\n",
        "        start, end, label = entity[\"start\"], entity[\"end\"], entity[\"label\"]\n",
        "        entities.append((start, end, label))\n",
        "    example = Example.from_dict(doc, {\"entities\": entities})\n",
        "    train_data.append(example)\n",
        "\n",
        "split_ratio = 0.8  # 80% for training, 20% for validation\n",
        "train_size = int(len(train_data) * split_ratio)\n",
        "train_set = train_data[:train_size]\n",
        "valid_set = train_data[train_size:]\n",
        "\n",
        "# Disable other pipelines during training\n",
        "other_pipes = [pipe for pipe in nlp.pipe_names if pipe != \"ner\"]\n",
        "with nlp.disable_pipes(*other_pipes):\n",
        "    optimizer = nlp.begin_training()\n",
        "    for itn in range(12):  # Adjust the number of iterations as needed\n",
        "        print(\"Starting Iteration \" + str(itn))\n",
        "        losses = {}\n",
        "        random.shuffle(train_data)\n",
        "        nlp.update(train_data, sgd=optimizer, losses=losses)\n",
        "        print(losses)\n",
        "\n",
        "        scorer = Scorer()\n",
        "        scores = scorer.score(valid_set)\n",
        "        print(scores)"
      ],
      "metadata": {
        "colab": {
          "base_uri": "https://localhost:8080/"
        },
        "id": "RCK3_MaBBwPa",
        "outputId": "c5812850-4aa7-4abf-9e46-795cb3058c98"
      },
      "execution_count": 26,
      "outputs": [
        {
          "output_type": "stream",
          "name": "stderr",
          "text": [
            "/usr/local/lib/python3.10/dist-packages/spacy/training/iob_utils.py:149: UserWarning: [W030] Some entities could not be aligned in the text \"Abhishek Jha Application Development Associate Acc...\" with entities \"[(0, 11, 'Name'), (13, 45, 'Designation'), (47, 55...\". Use `spacy.training.offsets_to_biluo_tags(nlp.make_doc(text), entities)` to check the alignment. Misaligned entities ('-') will be ignored during training.\n",
            "  warnings.warn(\n",
            "/usr/local/lib/python3.10/dist-packages/spacy/training/iob_utils.py:149: UserWarning: [W030] Some entities could not be aligned in the text \"Afreen Jamadar Active member of IIIT Committee in ...\" with entities \"[(0, 13, 'Name'), (61, 66, 'Location'), (99, 142, ...\". Use `spacy.training.offsets_to_biluo_tags(nlp.make_doc(text), entities)` to check the alignment. Misaligned entities ('-') will be ignored during training.\n",
            "  warnings.warn(\n",
            "/usr/local/lib/python3.10/dist-packages/spacy/training/iob_utils.py:149: UserWarning: [W030] Some entities could not be aligned in the text \"Akhil Yadav Polemaina Hyderabad Telangana Email me...\" with entities \"[(0, 20, 'Name'), (22, 30, 'Location'), (61, 112, ...\". Use `spacy.training.offsets_to_biluo_tags(nlp.make_doc(text), entities)` to check the alignment. Misaligned entities ('-') will be ignored during training.\n",
            "  warnings.warn(\n",
            "/usr/local/lib/python3.10/dist-packages/spacy/training/iob_utils.py:149: UserWarning: [W030] Some entities could not be aligned in the text \"Alok Khandai Operational Analyst SQL DBA Engineer ...\" with entities \"[(0, 11, 'Name'), (13, 48, 'Designation'), (50, 55...\". Use `spacy.training.offsets_to_biluo_tags(nlp.make_doc(text), entities)` to check the alignment. Misaligned entities ('-') will be ignored during training.\n",
            "  warnings.warn(\n",
            "/usr/local/lib/python3.10/dist-packages/spacy/training/iob_utils.py:149: UserWarning: [W030] Some entities could not be aligned in the text \"Ananya Chavan lecturer oracle tutorials Mumbai Mah...\" with entities \"[(0, 12, 'Name'), (14, 21, 'Designation'), (23, 38...\". Use `spacy.training.offsets_to_biluo_tags(nlp.make_doc(text), entities)` to check the alignment. Misaligned entities ('-') will be ignored during training.\n",
            "  warnings.warn(\n",
            "/usr/local/lib/python3.10/dist-packages/spacy/training/iob_utils.py:149: UserWarning: [W030] Some entities could not be aligned in the text \"Anvitha Rao Automation developer Email me on Indee...\" with entities \"[(0, 10, 'Name'), (12, 31, 'Designation'), (52, 92...\". Use `spacy.training.offsets_to_biluo_tags(nlp.make_doc(text), entities)` to check the alignment. Misaligned entities ('-') will be ignored during training.\n",
            "  warnings.warn(\n",
            "/usr/local/lib/python3.10/dist-packages/spacy/training/iob_utils.py:149: UserWarning: [W030] Some entities could not be aligned in the text \"arjun ks Senior Program coordinator oracle India L...\" with entities \"[(0, 7, 'Name'), (9, 34, 'Designation'), (36, 41, ...\". Use `spacy.training.offsets_to_biluo_tags(nlp.make_doc(text), entities)` to check the alignment. Misaligned entities ('-') will be ignored during training.\n",
            "  warnings.warn(\n",
            "/usr/local/lib/python3.10/dist-packages/spacy/training/iob_utils.py:149: UserWarning: [W030] Some entities could not be aligned in the text \"Arun Elumalai QA Tester Chennai Tamil Nadu Email m...\" with entities \"[(0, 12, 'Name'), (14, 22, 'Designation'), (24, 30...\". Use `spacy.training.offsets_to_biluo_tags(nlp.make_doc(text), entities)` to check the alignment. Misaligned entities ('-') will be ignored during training.\n",
            "  warnings.warn(\n",
            "/usr/local/lib/python3.10/dist-packages/spacy/training/iob_utils.py:149: UserWarning: [W030] Some entities could not be aligned in the text \"Ashalata Bisoyi Transaction Processor Oracle India...\" with entities \"[(918, 953, 'Degree'), (955, 983, 'College Name'),...\". Use `spacy.training.offsets_to_biluo_tags(nlp.make_doc(text), entities)` to check the alignment. Misaligned entities ('-') will be ignored during training.\n",
            "  warnings.warn(\n",
            "/usr/local/lib/python3.10/dist-packages/spacy/training/iob_utils.py:149: UserWarning: [W030] Some entities could not be aligned in the text \"Ashok Kunam Team Lead Microsoft Email me on Indeed...\" with entities \"[(0, 10, 'Name'), (12, 20, 'Designation'), (22, 30...\". Use `spacy.training.offsets_to_biluo_tags(nlp.make_doc(text), entities)` to check the alignment. Misaligned entities ('-') will be ignored during training.\n",
            "  warnings.warn(\n",
            "/usr/local/lib/python3.10/dist-packages/spacy/training/iob_utils.py:149: UserWarning: [W030] Some entities could not be aligned in the text \"Asish Ratha Subject matter Expert Accenture Chenna...\" with entities \"[(0, 10, 'Name'), (12, 32, 'Designation'), (34, 42...\". Use `spacy.training.offsets_to_biluo_tags(nlp.make_doc(text), entities)` to check the alignment. Misaligned entities ('-') will be ignored during training.\n",
            "  warnings.warn(\n",
            "/usr/local/lib/python3.10/dist-packages/spacy/training/iob_utils.py:149: UserWarning: [W030] Some entities could not be aligned in the text \"Avin Sharma Senior Associate Consultant Infosys Li...\" with entities \"[(0, 10, 'Name'), (12, 38, 'Designation'), (40, 54...\". Use `spacy.training.offsets_to_biluo_tags(nlp.make_doc(text), entities)` to check the alignment. Misaligned entities ('-') will be ignored during training.\n",
            "  warnings.warn(\n",
            "/usr/local/lib/python3.10/dist-packages/spacy/training/iob_utils.py:149: UserWarning: [W030] Some entities could not be aligned in the text \"Ayesha B Team member Oracle Bangalore Karnataka Em...\" with entities \"[(0, 7, 'Name'), (9, 19, 'Designation'), (21, 26, ...\". Use `spacy.training.offsets_to_biluo_tags(nlp.make_doc(text), entities)` to check the alignment. Misaligned entities ('-') will be ignored during training.\n",
            "  warnings.warn(\n",
            "/usr/local/lib/python3.10/dist-packages/spacy/training/iob_utils.py:149: UserWarning: [W030] Some entities could not be aligned in the text \"Ayushi Srivastava Senior Analyst Cisco New Delhi D...\" with entities \"[(0, 16, 'Name'), (18, 31, 'Designation'), (33, 37...\". Use `spacy.training.offsets_to_biluo_tags(nlp.make_doc(text), entities)` to check the alignment. Misaligned entities ('-') will be ignored during training.\n",
            "  warnings.warn(\n",
            "/usr/local/lib/python3.10/dist-packages/spacy/training/iob_utils.py:149: UserWarning: [W030] Some entities could not be aligned in the text \"Bhawana Daf Pune Maharashtra Email me on Indeed in...\" with entities \"[(0, 10, 'Name'), (12, 15, 'Location'), (48, 88, '...\". Use `spacy.training.offsets_to_biluo_tags(nlp.make_doc(text), entities)` to check the alignment. Misaligned entities ('-') will be ignored during training.\n",
            "  warnings.warn(\n",
            "/usr/local/lib/python3.10/dist-packages/spacy/training/iob_utils.py:149: UserWarning: [W030] Some entities could not be aligned in the text \"Darshan G. Financial Analyst Oracle Bengaluru Karn...\" with entities \"[(0, 9, 'Name'), (11, 27, 'Designation'), (29, 34,...\". Use `spacy.training.offsets_to_biluo_tags(nlp.make_doc(text), entities)` to check the alignment. Misaligned entities ('-') will be ignored during training.\n",
            "  warnings.warn(\n",
            "/usr/local/lib/python3.10/dist-packages/spacy/training/iob_utils.py:149: UserWarning: [W030] Some entities could not be aligned in the text \"Dhanushkodi Raj Technology Analyst Infosys Limited...\" with entities \"[(0, 14, 'Name'), (16, 33, 'Designation'), (35, 49...\". Use `spacy.training.offsets_to_biluo_tags(nlp.make_doc(text), entities)` to check the alignment. Misaligned entities ('-') will be ignored during training.\n",
            "  warnings.warn(\n",
            "/usr/local/lib/python3.10/dist-packages/spacy/training/iob_utils.py:149: UserWarning: [W030] Some entities could not be aligned in the text \"Dinesh Reddy Deployed chef for configuration manag...\" with entities \"[(0, 11, 'Name'), (13, 69, 'Designation'), (71, 75...\". Use `spacy.training.offsets_to_biluo_tags(nlp.make_doc(text), entities)` to check the alignment. Misaligned entities ('-') will be ignored during training.\n",
            "  warnings.warn(\n",
            "/usr/local/lib/python3.10/dist-packages/spacy/training/iob_utils.py:149: UserWarning: [W030] Some entities could not be aligned in the text \"Dipesh Gulati Co coordinator of CODE HUNTER at CGC...\" with entities \"[(0, 12, 'Name'), (14, 54, 'Designation'), (56, 60...\". Use `spacy.training.offsets_to_biluo_tags(nlp.make_doc(text), entities)` to check the alignment. Misaligned entities ('-') will be ignored during training.\n",
            "  warnings.warn(\n",
            "/usr/local/lib/python3.10/dist-packages/spacy/training/iob_utils.py:149: UserWarning: [W030] Some entities could not be aligned in the text \"Dushyant Bhatt BI Big Data/ Azure Hyderabad Deccan...\" with entities \"[(0, 13, 'Name'), (34, 42, 'Location'), (83, 134, ...\". Use `spacy.training.offsets_to_biluo_tags(nlp.make_doc(text), entities)` to check the alignment. Misaligned entities ('-') will be ignored during training.\n",
            "  warnings.warn(\n",
            "/usr/local/lib/python3.10/dist-packages/spacy/training/iob_utils.py:149: UserWarning: [W030] Some entities could not be aligned in the text \"Govardhana K Senior Software Engineer Bengaluru Ka...\" with entities \"[(0, 11, 'Name'), (13, 36, 'Designation'), (38, 46...\". Use `spacy.training.offsets_to_biluo_tags(nlp.make_doc(text), entities)` to check the alignment. Misaligned entities ('-') will be ignored during training.\n",
            "  warnings.warn(\n",
            "/usr/local/lib/python3.10/dist-packages/spacy/training/iob_utils.py:149: UserWarning: [W030] Some entities could not be aligned in the text \"Harini Komaravelli Test Analyst at Oracle Hyderaba...\" with entities \"[(0, 17, 'Name'), (19, 30, 'Designation'), (35, 40...\". Use `spacy.training.offsets_to_biluo_tags(nlp.make_doc(text), entities)` to check the alignment. Misaligned entities ('-') will be ignored during training.\n",
            "  warnings.warn(\n",
            "/usr/local/lib/python3.10/dist-packages/spacy/training/iob_utils.py:149: UserWarning: [W030] Some entities could not be aligned in the text \"Hartej Kathuria Data Analyst Intern Oracle Retail ...\" with entities \"[(0, 14, 'Name'), (16, 34, 'Designation'), (36, 48...\". Use `spacy.training.offsets_to_biluo_tags(nlp.make_doc(text), entities)` to check the alignment. Misaligned entities ('-') will be ignored during training.\n",
            "  warnings.warn(\n",
            "/usr/local/lib/python3.10/dist-packages/spacy/training/iob_utils.py:149: UserWarning: [W030] Some entities could not be aligned in the text \"Ijas Nizamuddin Associate Consultant State Street ...\" with entities \"[(0, 14, 'Name'), (16, 35, 'Designation'), (37, 48...\". Use `spacy.training.offsets_to_biluo_tags(nlp.make_doc(text), entities)` to check the alignment. Misaligned entities ('-') will be ignored during training.\n",
            "  warnings.warn(\n",
            "/usr/local/lib/python3.10/dist-packages/spacy/training/iob_utils.py:149: UserWarning: [W030] Some entities could not be aligned in the text \"Imgeeyaul Ansari java developer Pune Maharashtra E...\" with entities \"[(0, 15, 'Name'), (17, 30, 'Designation'), (32, 35...\". Use `spacy.training.offsets_to_biluo_tags(nlp.make_doc(text), entities)` to check the alignment. Misaligned entities ('-') will be ignored during training.\n",
            "  warnings.warn(\n",
            "/usr/local/lib/python3.10/dist-packages/spacy/training/iob_utils.py:149: UserWarning: [W030] Some entities could not be aligned in the text \"Jay Madhavi Navi Mumbai Maharashtra Email me on In...\" with entities \"[(0, 10, 'Name'), (12, 22, 'Location'), (48, 96, '...\". Use `spacy.training.offsets_to_biluo_tags(nlp.make_doc(text), entities)` to check the alignment. Misaligned entities ('-') will be ignored during training.\n",
            "  warnings.warn(\n",
            "/usr/local/lib/python3.10/dist-packages/spacy/training/iob_utils.py:149: UserWarning: [W030] Some entities could not be aligned in the text \"Jitendra Babu FI CO Consultant in Tech Mahindra SA...\" with entities \"[(0, 12, 'Name'), (14, 46, 'Designation'), (48, 55...\". Use `spacy.training.offsets_to_biluo_tags(nlp.make_doc(text), entities)` to check the alignment. Misaligned entities ('-') will be ignored during training.\n",
            "  warnings.warn(\n",
            "/usr/local/lib/python3.10/dist-packages/spacy/training/iob_utils.py:149: UserWarning: [W030] Some entities could not be aligned in the text \"Jyotirbindu Patnaik Associate consultant@SAP labs ...\" with entities \"[(0, 18, 'Name'), (20, 39, 'Designation'), (70, 78...\". Use `spacy.training.offsets_to_biluo_tags(nlp.make_doc(text), entities)` to check the alignment. Misaligned entities ('-') will be ignored during training.\n",
            "  warnings.warn(\n",
            "/usr/local/lib/python3.10/dist-packages/spacy/training/iob_utils.py:149: UserWarning: [W030] Some entities could not be aligned in the text \"Karthihayini C Systems Engineer Infosys Limited Ra...\" with entities \"[(0, 13, 'Name'), (15, 30, 'Designation'), (32, 46...\". Use `spacy.training.offsets_to_biluo_tags(nlp.make_doc(text), entities)` to check the alignment. Misaligned entities ('-') will be ignored during training.\n",
            "  warnings.warn(\n",
            "/usr/local/lib/python3.10/dist-packages/spacy/training/iob_utils.py:149: UserWarning: [W030] Some entities could not be aligned in the text \"Karthik GV Architect Microsoft India Hyderabad Tel...\" with entities \"[(0, 9, 'Name'), (11, 19, 'Designation'), (21, 35,...\". Use `spacy.training.offsets_to_biluo_tags(nlp.make_doc(text), entities)` to check the alignment. Misaligned entities ('-') will be ignored during training.\n",
            "  warnings.warn(\n",
            "/usr/local/lib/python3.10/dist-packages/spacy/training/iob_utils.py:149: UserWarning: [W030] Some entities could not be aligned in the text \"Kartik Sharma Systems Engineer Infosys Ltd Delhi D...\" with entities \"[(0, 12, 'Name'), (14, 29, 'Designation'), (31, 41...\". Use `spacy.training.offsets_to_biluo_tags(nlp.make_doc(text), entities)` to check the alignment. Misaligned entities ('-') will be ignored during training.\n",
            "  warnings.warn(\n",
            "/usr/local/lib/python3.10/dist-packages/spacy/training/iob_utils.py:149: UserWarning: [W030] Some entities could not be aligned in the text \"Kasturika Borah Team Member Cisco Bengaluru Karnat...\" with entities \"[(0, 14, 'Name'), (16, 26, 'Designation'), (28, 32...\". Use `spacy.training.offsets_to_biluo_tags(nlp.make_doc(text), entities)` to check the alignment. Misaligned entities ('-') will be ignored during training.\n",
            "  warnings.warn(\n",
            "/usr/local/lib/python3.10/dist-packages/spacy/training/iob_utils.py:149: UserWarning: [W030] Some entities could not be aligned in the text \"Kavitha K Senior System Engineer Infosys Limited S...\" with entities \"[(0, 8, 'Name'), (10, 31, 'Designation'), (33, 47,...\". Use `spacy.training.offsets_to_biluo_tags(nlp.make_doc(text), entities)` to check the alignment. Misaligned entities ('-') will be ignored during training.\n",
            "  warnings.warn(\n",
            "/usr/local/lib/python3.10/dist-packages/spacy/training/iob_utils.py:149: UserWarning: [W030] Some entities could not be aligned in the text \"Kavya U. Network Ops Associate Accenture Bengaluru...\" with entities \"[(0, 7, 'Name'), (9, 29, 'Designation'), (31, 39, ...\". Use `spacy.training.offsets_to_biluo_tags(nlp.make_doc(text), entities)` to check the alignment. Misaligned entities ('-') will be ignored during training.\n",
            "  warnings.warn(\n",
            "/usr/local/lib/python3.10/dist-packages/spacy/training/iob_utils.py:149: UserWarning: [W030] Some entities could not be aligned in the text \"Khushboo Choudhary Developer Noida Uttar Pradesh E...\" with entities \"[(0, 17, 'Name'), (19, 27, 'Designation'), (29, 33...\". Use `spacy.training.offsets_to_biluo_tags(nlp.make_doc(text), entities)` to check the alignment. Misaligned entities ('-') will be ignored during training.\n",
            "  warnings.warn(\n",
            "/usr/local/lib/python3.10/dist-packages/spacy/training/iob_utils.py:149: UserWarning: [W030] Some entities could not be aligned in the text \"kimaya sonawane Thane Maharashtra Email me on Inde...\" with entities \"[(0, 14, 'Name'), (16, 20, 'Location'), (53, 98, '...\". Use `spacy.training.offsets_to_biluo_tags(nlp.make_doc(text), entities)` to check the alignment. Misaligned entities ('-') will be ignored during training.\n",
            "  warnings.warn(\n",
            "/usr/local/lib/python3.10/dist-packages/spacy/training/iob_utils.py:149: UserWarning: [W030] Some entities could not be aligned in the text \"Koushik Katta Devops Hyderabad Telangana Email me ...\" with entities \"[(0, 12, 'Name'), (21, 29, 'Location'), (60, 102, ...\". Use `spacy.training.offsets_to_biluo_tags(nlp.make_doc(text), entities)` to check the alignment. Misaligned entities ('-') will be ignored during training.\n",
            "  warnings.warn(\n",
            "/usr/local/lib/python3.10/dist-packages/spacy/training/iob_utils.py:149: UserWarning: [W030] Some entities could not be aligned in the text \"Kowsick Somasundaram Certified Network Associate T...\" with entities \"[(0, 19, 'Name'), (21, 64, 'Designation'), (66, 70...\". Use `spacy.training.offsets_to_biluo_tags(nlp.make_doc(text), entities)` to check the alignment. Misaligned entities ('-') will be ignored during training.\n",
            "  warnings.warn(\n",
            "/usr/local/lib/python3.10/dist-packages/spacy/training/iob_utils.py:149: UserWarning: [W030] Some entities could not be aligned in the text \"Lakshika Neelakshi Senior Systems Engineer Infosys...\" with entities \"[(0, 17, 'Name'), (19, 41, 'Designation'), (43, 57...\". Use `spacy.training.offsets_to_biluo_tags(nlp.make_doc(text), entities)` to check the alignment. Misaligned entities ('-') will be ignored during training.\n",
            "  warnings.warn(\n",
            "/usr/local/lib/python3.10/dist-packages/spacy/training/iob_utils.py:149: UserWarning: [W030] Some entities could not be aligned in the text \"Madas Peddaiah Anantapur Andhra Pradesh Email me o...\" with entities \"[(0, 13, 'Name'), (15, 23, 'Location'), (59, 103, ...\". Use `spacy.training.offsets_to_biluo_tags(nlp.make_doc(text), entities)` to check the alignment. Misaligned entities ('-') will be ignored during training.\n",
            "  warnings.warn(\n",
            "/usr/local/lib/python3.10/dist-packages/spacy/training/iob_utils.py:149: UserWarning: [W030] Some entities could not be aligned in the text \"Madhuri Sripathi Banglore Karnataka Karnataka Emai...\" with entities \"[(0, 15, 'Name'), (17, 24, 'Location'), (58, 111, ...\". Use `spacy.training.offsets_to_biluo_tags(nlp.make_doc(text), entities)` to check the alignment. Misaligned entities ('-') will be ignored during training.\n",
            "  warnings.warn(\n",
            "/usr/local/lib/python3.10/dist-packages/spacy/training/iob_utils.py:149: UserWarning: [W030] Some entities could not be aligned in the text \"Mahesh Vijay Bengaluru Karnataka Email me on Indee...\" with entities \"[(0, 11, 'Name'), (13, 21, 'Location'), (52, 93, '...\". Use `spacy.training.offsets_to_biluo_tags(nlp.make_doc(text), entities)` to check the alignment. Misaligned entities ('-') will be ignored during training.\n",
            "  warnings.warn(\n",
            "/usr/local/lib/python3.10/dist-packages/spacy/training/iob_utils.py:149: UserWarning: [W030] Some entities could not be aligned in the text \"Manisha Bharti Software Automation Engineer Pune M...\" with entities \"[(0, 13, 'Name'), (15, 42, 'Designation'), (44, 47...\". Use `spacy.training.offsets_to_biluo_tags(nlp.make_doc(text), entities)` to check the alignment. Misaligned entities ('-') will be ignored during training.\n",
            "  warnings.warn(\n",
            "/usr/local/lib/python3.10/dist-packages/spacy/training/iob_utils.py:149: UserWarning: [W030] Some entities could not be aligned in the text \"Manjari Singh Senior Software Analyst Accenture Be...\" with entities \"[(0, 12, 'Name'), (14, 36, 'Designation'), (38, 46...\". Use `spacy.training.offsets_to_biluo_tags(nlp.make_doc(text), entities)` to check the alignment. Misaligned entities ('-') will be ignored during training.\n",
            "  warnings.warn(\n",
            "/usr/local/lib/python3.10/dist-packages/spacy/training/iob_utils.py:149: UserWarning: [W030] Some entities could not be aligned in the text \"Mohamed Ameen System engineer Bengaluru Karnataka ...\" with entities \"[(0, 12, 'Name'), (14, 28, 'Designation'), (30, 38...\". Use `spacy.training.offsets_to_biluo_tags(nlp.make_doc(text), entities)` to check the alignment. Misaligned entities ('-') will be ignored during training.\n",
            "  warnings.warn(\n",
            "/usr/local/lib/python3.10/dist-packages/spacy/training/iob_utils.py:149: UserWarning: [W030] Some entities could not be aligned in the text \"Mohini Gupta Server Support Engineer Gurgaon Harya...\" with entities \"[(0, 11, 'Name'), (13, 35, 'Designation'), (37, 43...\". Use `spacy.training.offsets_to_biluo_tags(nlp.make_doc(text), entities)` to check the alignment. Misaligned entities ('-') will be ignored during training.\n",
            "  warnings.warn(\n",
            "/usr/local/lib/python3.10/dist-packages/spacy/training/iob_utils.py:149: UserWarning: [W030] Some entities could not be aligned in the text \"Navas Koya Test Engineer Mangalore Karnataka Email...\" with entities \"[(0, 9, 'Name'), (11, 23, 'Designation'), (25, 33,...\". Use `spacy.training.offsets_to_biluo_tags(nlp.make_doc(text), entities)` to check the alignment. Misaligned entities ('-') will be ignored during training.\n",
            "  warnings.warn(\n",
            "/usr/local/lib/python3.10/dist-packages/spacy/training/iob_utils.py:149: UserWarning: [W030] Some entities could not be aligned in the text \"Navjyot Singh Rathore Ulhasnagar Maharashtra Email...\" with entities \"[(0, 20, 'Name'), (22, 31, 'Location'), (64, 115, ...\". Use `spacy.training.offsets_to_biluo_tags(nlp.make_doc(text), entities)` to check the alignment. Misaligned entities ('-') will be ignored during training.\n",
            "  warnings.warn(\n",
            "/usr/local/lib/python3.10/dist-packages/spacy/training/iob_utils.py:149: UserWarning: [W030] Some entities could not be aligned in the text \"Nazish Alam Consultant SAP ABAP Ghaziabad Uttar Pr...\" with entities \"[(0, 10, 'Name'), (12, 21, 'Designation'), (23, 30...\". Use `spacy.training.offsets_to_biluo_tags(nlp.make_doc(text), entities)` to check the alignment. Misaligned entities ('-') will be ignored during training.\n",
            "  warnings.warn(\n",
            "/usr/local/lib/python3.10/dist-packages/spacy/training/iob_utils.py:149: UserWarning: [W030] Some entities could not be aligned in the text \"Nidhi Pandit Test Engineer Infosys Limited Email m...\" with entities \"[(0, 11, 'Name'), (13, 25, 'Designation'), (27, 41...\". Use `spacy.training.offsets_to_biluo_tags(nlp.make_doc(text), entities)` to check the alignment. Misaligned entities ('-') will be ignored during training.\n",
            "  warnings.warn(\n",
            "/usr/local/lib/python3.10/dist-packages/spacy/training/iob_utils.py:149: UserWarning: [W030] Some entities could not be aligned in the text \"Nikhileshkumar Ikhar Product development engineer ...\" with entities \"[(0, 19, 'Name'), (21, 48, 'Designation'), (55, 63...\". Use `spacy.training.offsets_to_biluo_tags(nlp.make_doc(text), entities)` to check the alignment. Misaligned entities ('-') will be ignored during training.\n",
            "  warnings.warn(\n",
            "/usr/local/lib/python3.10/dist-packages/spacy/training/iob_utils.py:149: UserWarning: [W030] Some entities could not be aligned in the text \"Nitin Tr PeopleSoft Consultant Bangalore Urban Kar...\" with entities \"[(0, 7, 'Name'), (31, 45, 'Location'), (76, 113, '...\". Use `spacy.training.offsets_to_biluo_tags(nlp.make_doc(text), entities)` to check the alignment. Misaligned entities ('-') will be ignored during training.\n",
            "  warnings.warn(\n",
            "/usr/local/lib/python3.10/dist-packages/spacy/training/iob_utils.py:149: UserWarning: [W030] Some entities could not be aligned in the text \"Pradeeba V LEAD ENGINEER CISCO Email me on Indeed ...\" with entities \"[(0, 9, 'Name'), (11, 23, 'Designation'), (25, 29,...\". Use `spacy.training.offsets_to_biluo_tags(nlp.make_doc(text), entities)` to check the alignment. Misaligned entities ('-') will be ignored during training.\n",
            "  warnings.warn(\n",
            "/usr/local/lib/python3.10/dist-packages/spacy/training/iob_utils.py:149: UserWarning: [W030] Some entities could not be aligned in the text \"Prakriti Shaurya Senior System Engineer Infosys Li...\" with entities \"[(0, 15, 'Name'), (17, 38, 'Designation'), (40, 54...\". Use `spacy.training.offsets_to_biluo_tags(nlp.make_doc(text), entities)` to check the alignment. Misaligned entities ('-') will be ignored during training.\n",
            "  warnings.warn(\n",
            "/usr/local/lib/python3.10/dist-packages/spacy/training/iob_utils.py:149: UserWarning: [W030] Some entities could not be aligned in the text \"PRASHANTH BADALA Devops Engineer Cloud Engineer -O...\" with entities \"[(0, 15, 'Name'), (17, 31, 'Designation'), (33, 37...\". Use `spacy.training.offsets_to_biluo_tags(nlp.make_doc(text), entities)` to check the alignment. Misaligned entities ('-') will be ignored during training.\n",
            "  warnings.warn(\n",
            "/usr/local/lib/python3.10/dist-packages/spacy/training/iob_utils.py:149: UserWarning: [W030] Some entities could not be aligned in the text \"Pratibha P Principal Consultant at Oracle Bengalur...\" with entities \"[(0, 9, 'Name'), (11, 30, 'Designation'), (35, 40,...\". Use `spacy.training.offsets_to_biluo_tags(nlp.make_doc(text), entities)` to check the alignment. Misaligned entities ('-') will be ignored during training.\n",
            "  warnings.warn(\n",
            "/usr/local/lib/python3.10/dist-packages/spacy/training/iob_utils.py:149: UserWarning: [W030] Some entities could not be aligned in the text \"Prem Koshti Officer HR Administration in H. R. Joh...\" with entities \"[(0, 10, 'Name'), (12, 59, 'Designation'), (61, 63...\". Use `spacy.training.offsets_to_biluo_tags(nlp.make_doc(text), entities)` to check the alignment. Misaligned entities ('-') will be ignored during training.\n",
            "  warnings.warn(\n",
            "/usr/local/lib/python3.10/dist-packages/spacy/training/iob_utils.py:149: UserWarning: [W030] Some entities could not be aligned in the text \"Pulkit Saxena New Delhi Delhi Email me on Indeed i...\" with entities \"[(0, 12, 'Name'), (14, 22, 'Location'), (49, 91, '...\". Use `spacy.training.offsets_to_biluo_tags(nlp.make_doc(text), entities)` to check the alignment. Misaligned entities ('-') will be ignored during training.\n",
            "  warnings.warn(\n",
            "/usr/local/lib/python3.10/dist-packages/spacy/training/iob_utils.py:149: UserWarning: [W030] Some entities could not be aligned in the text \"Puneet Singh Associate Software Engineer Bengaluru...\" with entities \"[(0, 11, 'Name'), (13, 39, 'Designation'), (41, 49...\". Use `spacy.training.offsets_to_biluo_tags(nlp.make_doc(text), entities)` to check the alignment. Misaligned entities ('-') will be ignored during training.\n",
            "  warnings.warn(\n",
            "/usr/local/lib/python3.10/dist-packages/spacy/training/iob_utils.py:149: UserWarning: [W030] Some entities could not be aligned in the text \"Rahul Bollu Software Engineer Disney Hyderabad Tel...\" with entities \"[(0, 10, 'Name'), (12, 28, 'Designation'), (30, 35...\". Use `spacy.training.offsets_to_biluo_tags(nlp.make_doc(text), entities)` to check the alignment. Misaligned entities ('-') will be ignored during training.\n",
            "  warnings.warn(\n",
            "/usr/local/lib/python3.10/dist-packages/spacy/training/iob_utils.py:149: UserWarning: [W030] Some entities could not be aligned in the text \"Rajeev Kumar Senior Associate Consultant Infosys O...\" with entities \"[(0, 11, 'Name'), (13, 39, 'Designation'), (41, 61...\". Use `spacy.training.offsets_to_biluo_tags(nlp.make_doc(text), entities)` to check the alignment. Misaligned entities ('-') will be ignored during training.\n",
            "  warnings.warn(\n",
            "/usr/local/lib/python3.10/dist-packages/spacy/training/iob_utils.py:149: UserWarning: [W030] Some entities could not be aligned in the text \"Ram Edupuganti Software Development Director Oracl...\" with entities \"[(0, 13, 'Name'), (15, 43, 'Designation'), (45, 54...\". Use `spacy.training.offsets_to_biluo_tags(nlp.make_doc(text), entities)` to check the alignment. Misaligned entities ('-') will be ignored during training.\n",
            "  warnings.warn(\n",
            "/usr/local/lib/python3.10/dist-packages/spacy/training/iob_utils.py:149: UserWarning: [W030] Some entities could not be aligned in the text \"Ramesh HP CES ASSOCIATE CONSULTANT Bangalore Karna...\" with entities \"[(0, 8, 'Name'), (10, 33, 'Designation'), (35, 43,...\". Use `spacy.training.offsets_to_biluo_tags(nlp.make_doc(text), entities)` to check the alignment. Misaligned entities ('-') will be ignored during training.\n",
            "  warnings.warn(\n",
            "/usr/local/lib/python3.10/dist-packages/spacy/training/iob_utils.py:149: UserWarning: [W030] Some entities could not be aligned in the text \"Ramya P Hyderabad Telangana Email me on Indeed ind...\" with entities \"[(0, 6, 'Name'), (8, 16, 'Location'), (47, 83, 'Em...\". Use `spacy.training.offsets_to_biluo_tags(nlp.make_doc(text), entities)` to check the alignment. Misaligned entities ('-') will be ignored during training.\n",
            "  warnings.warn(\n",
            "/usr/local/lib/python3.10/dist-packages/spacy/training/iob_utils.py:149: UserWarning: [W030] Some entities could not be aligned in the text \"R Arunravi Functional Consultant WM Lead SAP EWM B...\" with entities \"[(0, 9, 'Name'), (11, 39, 'Designation'), (41, 47,...\". Use `spacy.training.offsets_to_biluo_tags(nlp.make_doc(text), entities)` to check the alignment. Misaligned entities ('-') will be ignored during training.\n",
            "  warnings.warn(\n",
            "/usr/local/lib/python3.10/dist-packages/spacy/training/iob_utils.py:149: UserWarning: [W030] Some entities could not be aligned in the text \"Ravi Shankar Working as Escalation Engineer with M...\" with entities \"[(0, 11, 'Name'), (13, 42, 'Designation'), (49, 57...\". Use `spacy.training.offsets_to_biluo_tags(nlp.make_doc(text), entities)` to check the alignment. Misaligned entities ('-') will be ignored during training.\n",
            "  warnings.warn(\n",
            "/usr/local/lib/python3.10/dist-packages/spacy/training/iob_utils.py:149: UserWarning: [W030] Some entities could not be aligned in the text \"Ravi Shivgond Bidar Karnataka Email me on Indeed i...\" with entities \"[(0, 12, 'Name'), (14, 18, 'Location'), (49, 91, '...\". Use `spacy.training.offsets_to_biluo_tags(nlp.make_doc(text), entities)` to check the alignment. Misaligned entities ('-') will be ignored during training.\n",
            "  warnings.warn(\n",
            "/usr/local/lib/python3.10/dist-packages/spacy/training/iob_utils.py:149: UserWarning: [W030] Some entities could not be aligned in the text \"Rohit Bijlani JAVA Developer Senior Systems Engine...\" with entities \"[(0, 12, 'Name'), (14, 51, 'Designation'), (53, 67...\". Use `spacy.training.offsets_to_biluo_tags(nlp.make_doc(text), entities)` to check the alignment. Misaligned entities ('-') will be ignored during training.\n",
            "  warnings.warn(\n",
            "/usr/local/lib/python3.10/dist-packages/spacy/training/iob_utils.py:149: UserWarning: [W030] Some entities could not be aligned in the text \"Roshan Sinha Application Developer SAP ABAP Kolkat...\" with entities \"[(0, 11, 'Name'), (13, 33, 'Designation'), (35, 42...\". Use `spacy.training.offsets_to_biluo_tags(nlp.make_doc(text), entities)` to check the alignment. Misaligned entities ('-') will be ignored during training.\n",
            "  warnings.warn(\n",
            "/usr/local/lib/python3.10/dist-packages/spacy/training/iob_utils.py:149: UserWarning: [W030] Some entities could not be aligned in the text \"Sai Dhir Email me on Indeed indeed.com/r/Sai-Dhir/...\" with entities \"[(0, 7, 'Name'), (28, 65, 'Email Address'), (83, 1...\". Use `spacy.training.offsets_to_biluo_tags(nlp.make_doc(text), entities)` to check the alignment. Misaligned entities ('-') will be ignored during training.\n",
            "  warnings.warn(\n",
            "/usr/local/lib/python3.10/dist-packages/spacy/training/iob_utils.py:149: UserWarning: [W030] Some entities could not be aligned in the text \"Sai Patha Mule ESB Integration Developer Cisco Sys...\" with entities \"[(0, 8, 'Name'), (10, 39, 'Designation'), (41, 53,...\". Use `spacy.training.offsets_to_biluo_tags(nlp.make_doc(text), entities)` to check the alignment. Misaligned entities ('-') will be ignored during training.\n",
            "  warnings.warn(\n",
            "/usr/local/lib/python3.10/dist-packages/spacy/training/iob_utils.py:149: UserWarning: [W030] Some entities could not be aligned in the text \"Sai Vivek Venkatraman Decisive Data driven and res...\" with entities \"[(0, 20, 'Name'), (86, 93, 'Years of Experience'),...\". Use `spacy.training.offsets_to_biluo_tags(nlp.make_doc(text), entities)` to check the alignment. Misaligned entities ('-') will be ignored during training.\n",
            "  warnings.warn(\n",
            "/usr/local/lib/python3.10/dist-packages/spacy/training/iob_utils.py:149: UserWarning: [W030] Some entities could not be aligned in the text \"Sameer Kujur Orrisha Email me on Indeed indeed.com...\" with entities \"[(0, 11, 'Name'), (13, 19, 'Location'), (40, 81, '...\". Use `spacy.training.offsets_to_biluo_tags(nlp.make_doc(text), entities)` to check the alignment. Misaligned entities ('-') will be ignored during training.\n",
            "  warnings.warn(\n",
            "/usr/local/lib/python3.10/dist-packages/spacy/training/iob_utils.py:149: UserWarning: [W030] Some entities could not be aligned in the text \"Samyuktha Shivakumar Looking for strategic opportu...\" with entities \"[(0, 19, 'Name'), (83, 91, 'Location'), (122, 172,...\". Use `spacy.training.offsets_to_biluo_tags(nlp.make_doc(text), entities)` to check the alignment. Misaligned entities ('-') will be ignored during training.\n",
            "  warnings.warn(\n",
            "/usr/local/lib/python3.10/dist-packages/spacy/training/iob_utils.py:149: UserWarning: [W030] Some entities could not be aligned in the text \"Santosh Ganta Senior Systems Engineer mainframe Be...\" with entities \"[(0, 12, 'Name'), (14, 36, 'Designation'), (48, 56...\". Use `spacy.training.offsets_to_biluo_tags(nlp.make_doc(text), entities)` to check the alignment. Misaligned entities ('-') will be ignored during training.\n",
            "  warnings.warn(\n",
            "/usr/local/lib/python3.10/dist-packages/spacy/training/iob_utils.py:149: UserWarning: [W030] Some entities could not be aligned in the text \"Sarfaraz Ahmad Associate network engineer TATA Com...\" with entities \"[(0, 13, 'Name'), (15, 40, 'Designation'), (42, 64...\". Use `spacy.training.offsets_to_biluo_tags(nlp.make_doc(text), entities)` to check the alignment. Misaligned entities ('-') will be ignored during training.\n",
            "  warnings.warn(\n",
            "/usr/local/lib/python3.10/dist-packages/spacy/training/iob_utils.py:149: UserWarning: [W030] Some entities could not be aligned in the text \"Senthil Kumar Senior Technical Lead HCL Cisco Emai...\" with entities \"[(0, 12, 'Name'), (14, 34, 'Designation'), (36, 38...\". Use `spacy.training.offsets_to_biluo_tags(nlp.make_doc(text), entities)` to check the alignment. Misaligned entities ('-') will be ignored during training.\n",
            "  warnings.warn(\n",
            "/usr/local/lib/python3.10/dist-packages/spacy/training/iob_utils.py:149: UserWarning: [W030] Some entities could not be aligned in the text \"Shabnam Saba Offshore SAP CRM Functional Consultan...\" with entities \"[(0, 11, 'Name'), (13, 50, 'Designation'), (52, 60...\". Use `spacy.training.offsets_to_biluo_tags(nlp.make_doc(text), entities)` to check the alignment. Misaligned entities ('-') will be ignored during training.\n",
            "  warnings.warn(\n",
            "/usr/local/lib/python3.10/dist-packages/spacy/training/iob_utils.py:149: UserWarning: [W030] Some entities could not be aligned in the text \"Shaheen Unissa SAP ABAP Consultant Hyderabad Telan...\" with entities \"[(0, 13, 'Name'), (15, 22, 'Companies worked at'),...\". Use `spacy.training.offsets_to_biluo_tags(nlp.make_doc(text), entities)` to check the alignment. Misaligned entities ('-') will be ignored during training.\n",
            "  warnings.warn(\n",
            "/usr/local/lib/python3.10/dist-packages/spacy/training/iob_utils.py:149: UserWarning: [W030] Some entities could not be aligned in the text \"Sharan Adla Email me on Indeed indeed.com/r/Sharan...\" with entities \"[(0, 10, 'Name'), (31, 71, 'Email Address'), (80, ...\". Use `spacy.training.offsets_to_biluo_tags(nlp.make_doc(text), entities)` to check the alignment. Misaligned entities ('-') will be ignored during training.\n",
            "  warnings.warn(\n",
            "/usr/local/lib/python3.10/dist-packages/spacy/training/iob_utils.py:149: UserWarning: [W030] Some entities could not be aligned in the text \"Shreyanshu Gupta Software Development Engineer wit...\" with entities \"[(0, 15, 'Name'), (17, 45, 'Designation'), (52, 59...\". Use `spacy.training.offsets_to_biluo_tags(nlp.make_doc(text), entities)` to check the alignment. Misaligned entities ('-') will be ignored during training.\n",
            "  warnings.warn(\n",
            "/usr/local/lib/python3.10/dist-packages/spacy/training/iob_utils.py:149: UserWarning: [W030] Some entities could not be aligned in the text \"Shubham Mittal System Engineer Infosys Limited Mys...\" with entities \"[(0, 13, 'Name'), (15, 29, 'Designation'), (31, 45...\". Use `spacy.training.offsets_to_biluo_tags(nlp.make_doc(text), entities)` to check the alignment. Misaligned entities ('-') will be ignored during training.\n",
            "  warnings.warn(\n",
            "/usr/local/lib/python3.10/dist-packages/spacy/training/iob_utils.py:149: UserWarning: [W030] Some entities could not be aligned in the text \"Sivaganesh Selvakumar DevOps Consultant with Infos...\" with entities \"[(0, 20, 'Name'), (22, 38, 'Designation'), (45, 59...\". Use `spacy.training.offsets_to_biluo_tags(nlp.make_doc(text), entities)` to check the alignment. Misaligned entities ('-') will be ignored during training.\n",
            "  warnings.warn(\n",
            "/usr/local/lib/python3.10/dist-packages/spacy/training/iob_utils.py:149: UserWarning: [W030] Some entities could not be aligned in the text \"Snehal Jadhav Mumbai Maharashtra Email me on Indee...\" with entities \"[(0, 12, 'Name'), (14, 19, 'Location'), (52, 94, '...\". Use `spacy.training.offsets_to_biluo_tags(nlp.make_doc(text), entities)` to check the alignment. Misaligned entities ('-') will be ignored during training.\n",
            "  warnings.warn(\n",
            "/usr/local/lib/python3.10/dist-packages/spacy/training/iob_utils.py:149: UserWarning: [W030] Some entities could not be aligned in the text \"Soumya Balan IT SUPPORT Sulthan Bathery Kerala Ker...\" with entities \"[(0, 11, 'Name'), (13, 22, 'Designation'), (24, 38...\". Use `spacy.training.offsets_to_biluo_tags(nlp.make_doc(text), entities)` to check the alignment. Misaligned entities ('-') will be ignored during training.\n",
            "  warnings.warn(\n",
            "/usr/local/lib/python3.10/dist-packages/spacy/training/iob_utils.py:149: UserWarning: [W030] Some entities could not be aligned in the text \"Soumya Balan Soumya Balan BE Computer Science 3 yr...\" with entities \"[(0, 11, 'Name'), (26, 44, 'Degree'), (46, 49, 'Ye...\". Use `spacy.training.offsets_to_biluo_tags(nlp.make_doc(text), entities)` to check the alignment. Misaligned entities ('-') will be ignored during training.\n",
            "  warnings.warn(\n",
            "/usr/local/lib/python3.10/dist-packages/spacy/training/iob_utils.py:149: UserWarning: [W030] Some entities could not be aligned in the text \"Sowmya Karanth Finance Analyst Hyderabad Telangana...\" with entities \"[(0, 13, 'Name'), (15, 29, 'Designation'), (31, 39...\". Use `spacy.training.offsets_to_biluo_tags(nlp.make_doc(text), entities)` to check the alignment. Misaligned entities ('-') will be ignored during training.\n",
            "  warnings.warn(\n",
            "/usr/local/lib/python3.10/dist-packages/spacy/training/iob_utils.py:149: UserWarning: [W030] Some entities could not be aligned in the text \"Srabani Das software engineer Oracle Business Obje...\" with entities \"[(0, 10, 'Name'), (12, 28, 'Designation'), (30, 35...\". Use `spacy.training.offsets_to_biluo_tags(nlp.make_doc(text), entities)` to check the alignment. Misaligned entities ('-') will be ignored during training.\n",
            "  warnings.warn(\n",
            "/usr/local/lib/python3.10/dist-packages/spacy/training/iob_utils.py:149: UserWarning: [W030] Some entities could not be aligned in the text \"Srinivas VO Sr Test Manager Mumbai Maharashtra Ema...\" with entities \"[(0, 10, 'Name'), (12, 26, 'Designation'), (28, 33...\". Use `spacy.training.offsets_to_biluo_tags(nlp.make_doc(text), entities)` to check the alignment. Misaligned entities ('-') will be ignored during training.\n",
            "  warnings.warn(\n",
            "/usr/local/lib/python3.10/dist-packages/spacy/training/iob_utils.py:149: UserWarning: [W030] Some entities could not be aligned in the text \"Srushti Bhadale Mumbai Maharashtra Email me on Ind...\" with entities \"[(0, 14, 'Name'), (16, 21, 'Location'), (54, 98, '...\". Use `spacy.training.offsets_to_biluo_tags(nlp.make_doc(text), entities)` to check the alignment. Misaligned entities ('-') will be ignored during training.\n",
            "  warnings.warn(\n",
            "/usr/local/lib/python3.10/dist-packages/spacy/training/iob_utils.py:149: UserWarning: [W030] Some entities could not be aligned in the text \"Sudaya Puranik Principal Engineer Technical Staff ...\" with entities \"[(0, 13, 'Name'), (15, 48, 'Designation'), (50, 58...\". Use `spacy.training.offsets_to_biluo_tags(nlp.make_doc(text), entities)` to check the alignment. Misaligned entities ('-') will be ignored during training.\n",
            "  warnings.warn(\n",
            "/usr/local/lib/python3.10/dist-packages/spacy/training/iob_utils.py:149: UserWarning: [W030] Some entities could not be aligned in the text \"Sumit Kubade SAP FI Support Consultant SAP FI Pune...\" with entities \"[(0, 11, 'Name'), (13, 15, 'Skills'), (17, 37, 'De...\". Use `spacy.training.offsets_to_biluo_tags(nlp.make_doc(text), entities)` to check the alignment. Misaligned entities ('-') will be ignored during training.\n",
            "  warnings.warn(\n",
            "/usr/local/lib/python3.10/dist-packages/spacy/training/iob_utils.py:149: UserWarning: [W030] Some entities could not be aligned in the text \"Syam Devendla Bengaluru Karnataka Email me on Inde...\" with entities \"[(0, 12, 'Name'), (14, 22, 'Location'), (53, 96, '...\". Use `spacy.training.offsets_to_biluo_tags(nlp.make_doc(text), entities)` to check the alignment. Misaligned entities ('-') will be ignored during training.\n",
            "  warnings.warn(\n",
            "/usr/local/lib/python3.10/dist-packages/spacy/training/iob_utils.py:149: UserWarning: [W030] Some entities could not be aligned in the text \"Tejasri Gunnam Bengaluru Karnataka Email me on Ind...\" with entities \"[(0, 13, 'Name'), (15, 23, 'Location'), (54, 97, '...\". Use `spacy.training.offsets_to_biluo_tags(nlp.make_doc(text), entities)` to check the alignment. Misaligned entities ('-') will be ignored during training.\n",
            "  warnings.warn(\n",
            "/usr/local/lib/python3.10/dist-packages/spacy/training/iob_utils.py:149: UserWarning: [W030] Some entities could not be aligned in the text \"Urshila Lohani Senior Corporate Account Executive ...\" with entities \"[(0, 13, 'Name'), (15, 48, 'Designation'), (50, 56...\". Use `spacy.training.offsets_to_biluo_tags(nlp.make_doc(text), entities)` to check the alignment. Misaligned entities ('-') will be ignored during training.\n",
            "  warnings.warn(\n",
            "/usr/local/lib/python3.10/dist-packages/spacy/training/iob_utils.py:149: UserWarning: [W030] Some entities could not be aligned in the text \"Vamsi krishna hyderbad Telangana Email me on Indee...\" with entities \"[(0, 12, 'Name'), (14, 21, 'Location'), (52, 94, '...\". Use `spacy.training.offsets_to_biluo_tags(nlp.make_doc(text), entities)` to check the alignment. Misaligned entities ('-') will be ignored during training.\n",
            "  warnings.warn(\n",
            "/usr/local/lib/python3.10/dist-packages/spacy/training/iob_utils.py:149: UserWarning: [W030] Some entities could not be aligned in the text \"VARUN AHLUWALIA Quantitative Analyst Email me on I...\" with entities \"[(0, 14, 'Name'), (16, 35, 'Designation'), (57, 10...\". Use `spacy.training.offsets_to_biluo_tags(nlp.make_doc(text), entities)` to check the alignment. Misaligned entities ('-') will be ignored during training.\n",
            "  warnings.warn(\n",
            "/usr/local/lib/python3.10/dist-packages/spacy/training/iob_utils.py:149: UserWarning: [W030] Some entities could not be aligned in the text \"Vijayalakshmi Govindarajan SAP as a Consultant SAP...\" with entities \"[(0, 25, 'Name'), (27, 45, 'Designation'), (47, 55...\". Use `spacy.training.offsets_to_biluo_tags(nlp.make_doc(text), entities)` to check the alignment. Misaligned entities ('-') will be ignored during training.\n",
            "  warnings.warn(\n",
            "/usr/local/lib/python3.10/dist-packages/spacy/training/iob_utils.py:149: UserWarning: [W030] Some entities could not be aligned in the text \"Vikas Singh Chandigarh Chandigarh Email me on Inde...\" with entities \"[(0, 10, 'Name'), (12, 21, 'Location'), (53, 93, '...\". Use `spacy.training.offsets_to_biluo_tags(nlp.make_doc(text), entities)` to check the alignment. Misaligned entities ('-') will be ignored during training.\n",
            "  warnings.warn(\n",
            "/usr/local/lib/python3.10/dist-packages/spacy/training/iob_utils.py:149: UserWarning: [W030] Some entities could not be aligned in the text \"Yasothai Jayaramachandran Lead Engineer Automation...\" with entities \"[(0, 24, 'Name'), (26, 38, 'Designation'), (40, 57...\". Use `spacy.training.offsets_to_biluo_tags(nlp.make_doc(text), entities)` to check the alignment. Misaligned entities ('-') will be ignored during training.\n",
            "  warnings.warn(\n",
            "/usr/local/lib/python3.10/dist-packages/spacy/training/iob_utils.py:149: UserWarning: [W030] Some entities could not be aligned in the text \"Yathishwaran P Maximo Consultant Infosys Limited N...\" with entities \"[(0, 13, 'Name'), (15, 31, 'Designation'), (33, 47...\". Use `spacy.training.offsets_to_biluo_tags(nlp.make_doc(text), entities)` to check the alignment. Misaligned entities ('-') will be ignored during training.\n",
            "  warnings.warn(\n",
            "/usr/local/lib/python3.10/dist-packages/spacy/training/iob_utils.py:149: UserWarning: [W030] Some entities could not be aligned in the text \"Yogi Pesaru Developer Infosys Limited Hyderabad Te...\" with entities \"[(0, 10, 'Name'), (12, 20, 'Designation'), (22, 36...\". Use `spacy.training.offsets_to_biluo_tags(nlp.make_doc(text), entities)` to check the alignment. Misaligned entities ('-') will be ignored during training.\n",
            "  warnings.warn(\n",
            "/usr/local/lib/python3.10/dist-packages/spacy/training/iob_utils.py:149: UserWarning: [W030] Some entities could not be aligned in the text \"Anurag Asthana Pune Maharashtra Email me on Indeed...\" with entities \"[(0, 13, 'Name'), (15, 18, 'Location'), (51, 94, '...\". Use `spacy.training.offsets_to_biluo_tags(nlp.make_doc(text), entities)` to check the alignment. Misaligned entities ('-') will be ignored during training.\n",
            "  warnings.warn(\n",
            "/usr/local/lib/python3.10/dist-packages/spacy/training/iob_utils.py:149: UserWarning: [W030] Some entities could not be aligned in the text \"Syed Sadath ali Coimbatore Email me on Indeed inde...\" with entities \"[(0, 14, 'Name'), (16, 25, 'Location'), (46, 90, '...\". Use `spacy.training.offsets_to_biluo_tags(nlp.make_doc(text), entities)` to check the alignment. Misaligned entities ('-') will be ignored during training.\n",
            "  warnings.warn(\n",
            "/usr/local/lib/python3.10/dist-packages/spacy/training/iob_utils.py:149: UserWarning: [W030] Some entities could not be aligned in the text \"Nida Khan Tech Support Executive Teleperformance f...\" with entities \"[(0, 8, 'Name'), (10, 31, 'Designation'), (33, 61,...\". Use `spacy.training.offsets_to_biluo_tags(nlp.make_doc(text), entities)` to check the alignment. Misaligned entities ('-') will be ignored during training.\n",
            "  warnings.warn(\n",
            "/usr/local/lib/python3.10/dist-packages/spacy/training/iob_utils.py:149: UserWarning: [W030] Some entities could not be aligned in the text \"Fenil Francis head of operation and logistics Tric...\" with entities \"[(0, 12, 'Name'), (14, 44, 'Designation'), (46, 52...\". Use `spacy.training.offsets_to_biluo_tags(nlp.make_doc(text), entities)` to check the alignment. Misaligned entities ('-') will be ignored during training.\n",
            "  warnings.warn(\n",
            "/usr/local/lib/python3.10/dist-packages/spacy/training/iob_utils.py:149: UserWarning: [W030] Some entities could not be aligned in the text \"Gaurav Soni New Delhi Delhi Email me on Indeed ind...\" with entities \"[(0, 10, 'Name'), (12, 20, 'Location'), (47, 87, '...\". Use `spacy.training.offsets_to_biluo_tags(nlp.make_doc(text), entities)` to check the alignment. Misaligned entities ('-') will be ignored during training.\n",
            "  warnings.warn(\n",
            "/usr/local/lib/python3.10/dist-packages/spacy/training/iob_utils.py:149: UserWarning: [W030] Some entities could not be aligned in the text \"Viny Khandelwal Self employed in Family Business S...\" with entities \"[(0, 14, 'Name'), (49, 61, 'Designation'), (63, 67...\". Use `spacy.training.offsets_to_biluo_tags(nlp.make_doc(text), entities)` to check the alignment. Misaligned entities ('-') will be ignored during training.\n",
            "  warnings.warn(\n",
            "/usr/local/lib/python3.10/dist-packages/spacy/training/iob_utils.py:149: UserWarning: [W030] Some entities could not be aligned in the text \"amarjyot sodhi Voice and Accent Trainer Masters in...\" with entities \"[(0, 13, 'Name'), (15, 38, 'Designation'), (40, 78...\". Use `spacy.training.offsets_to_biluo_tags(nlp.make_doc(text), entities)` to check the alignment. Misaligned entities ('-') will be ignored during training.\n",
            "  warnings.warn(\n",
            "/usr/local/lib/python3.10/dist-packages/spacy/training/iob_utils.py:149: UserWarning: [W030] Some entities could not be aligned in the text \"Zaheer Uddin Technical Project Manager Hyderabad T...\" with entities \"[(0, 11, 'Name'), (13, 37, 'Designation'), (39, 47...\". Use `spacy.training.offsets_to_biluo_tags(nlp.make_doc(text), entities)` to check the alignment. Misaligned entities ('-') will be ignored during training.\n",
            "  warnings.warn(\n",
            "/usr/local/lib/python3.10/dist-packages/spacy/training/iob_utils.py:149: UserWarning: [W030] Some entities could not be aligned in the text \"Abdul B Arabic Language supporter Content Analyst ...\" with entities \"[(0, 6, 'Name'), (8, 48, 'Designation'), (50, 58, ...\". Use `spacy.training.offsets_to_biluo_tags(nlp.make_doc(text), entities)` to check the alignment. Misaligned entities ('-') will be ignored during training.\n",
            "  warnings.warn(\n",
            "/usr/local/lib/python3.10/dist-packages/spacy/training/iob_utils.py:149: UserWarning: [W030] Some entities could not be aligned in the text \"Bike Rally Chief Coordinator of LEAR Palghat Keral...\" with entities \"[(0, 9, 'Name'), (11, 35, 'Designation'), (37, 43,...\". Use `spacy.training.offsets_to_biluo_tags(nlp.make_doc(text), entities)` to check the alignment. Misaligned entities ('-') will be ignored during training.\n",
            "  warnings.warn(\n",
            "/usr/local/lib/python3.10/dist-packages/spacy/training/iob_utils.py:149: UserWarning: [W030] Some entities could not be aligned in the text \"Girish Acharya Technical Architect Sr Software Eng...\" with entities \"[(0, 13, 'Name'), (15, 33, 'Designation'), (56, 59...\". Use `spacy.training.offsets_to_biluo_tags(nlp.make_doc(text), entities)` to check the alignment. Misaligned entities ('-') will be ignored during training.\n",
            "  warnings.warn(\n",
            "/usr/local/lib/python3.10/dist-packages/spacy/training/iob_utils.py:149: UserWarning: [W030] Some entities could not be aligned in the text \"Asha Subbaiah Microsoft Partner Readiness Operatio...\" with entities \"[(0, 12, 'Name'), (14, 72, 'Designation'), (74, 86...\". Use `spacy.training.offsets_to_biluo_tags(nlp.make_doc(text), entities)` to check the alignment. Misaligned entities ('-') will be ignored during training.\n",
            "  warnings.warn(\n",
            "/usr/local/lib/python3.10/dist-packages/spacy/training/iob_utils.py:149: UserWarning: [W030] Some entities could not be aligned in the text \"Divesh Singh Bengaluru Karnataka Email me on Indee...\" with entities \"[(-1, -1, 'Skills'), (0, 11, 'Name'), (13, 21, 'Lo...\". Use `spacy.training.offsets_to_biluo_tags(nlp.make_doc(text), entities)` to check the alignment. Misaligned entities ('-') will be ignored during training.\n",
            "  warnings.warn(\n",
            "/usr/local/lib/python3.10/dist-packages/spacy/training/iob_utils.py:149: UserWarning: [W030] Some entities could not be aligned in the text \"Ramesh chokkala Telangana Email me on Indeed indee...\" with entities \"[(0, 14, 'Name'), (16, 24, 'Location'), (45, 89, '...\". Use `spacy.training.offsets_to_biluo_tags(nlp.make_doc(text), entities)` to check the alignment. Misaligned entities ('-') will be ignored during training.\n",
            "  warnings.warn(\n",
            "/usr/local/lib/python3.10/dist-packages/spacy/training/iob_utils.py:149: UserWarning: [W030] Some entities could not be aligned in the text \"Ganesh AlalaSundaram A Dev Test Professional with ...\" with entities \"[(0, 19, 'Name'), (50, 56, 'Years of Experience'),...\". Use `spacy.training.offsets_to_biluo_tags(nlp.make_doc(text), entities)` to check the alignment. Misaligned entities ('-') will be ignored during training.\n",
            "  warnings.warn(\n",
            "/usr/local/lib/python3.10/dist-packages/spacy/training/iob_utils.py:149: UserWarning: [W030] Some entities could not be aligned in the text \"Srinu Naik Ramavath anymore job Serilingampalle An...\" with entities \"[(0, 18, 'Name'), (32, 46, 'Location'), (82, 131, ...\". Use `spacy.training.offsets_to_biluo_tags(nlp.make_doc(text), entities)` to check the alignment. Misaligned entities ('-') will be ignored during training.\n",
            "  warnings.warn(\n",
            "/usr/local/lib/python3.10/dist-packages/spacy/training/iob_utils.py:149: UserWarning: [W030] Some entities could not be aligned in the text \"Puneet Bhandari SAP SD lead Microsoft IT Pune Maha...\" with entities \"[(0, 3, 'Location'), (16, 26, 'Designation'), (28,...\". Use `spacy.training.offsets_to_biluo_tags(nlp.make_doc(text), entities)` to check the alignment. Misaligned entities ('-') will be ignored during training.\n",
            "  warnings.warn(\n",
            "/usr/local/lib/python3.10/dist-packages/spacy/training/iob_utils.py:149: UserWarning: [W030] Some entities could not be aligned in the text \"Aarti Pimplay Operations Center Shift Manager OCSM...\" with entities \"[(0, 12, 'Name'), (14, 49, 'Designation'), (70, 11...\". Use `spacy.training.offsets_to_biluo_tags(nlp.make_doc(text), entities)` to check the alignment. Misaligned entities ('-') will be ignored during training.\n",
            "  warnings.warn(\n",
            "/usr/local/lib/python3.10/dist-packages/spacy/training/iob_utils.py:149: UserWarning: [W030] Some entities could not be aligned in the text \"Bangalore Tavarekere Volunteer Contestant Yappon B...\" with entities \"[(0, 19, 'Name'), (21, 47, 'Designation'), (49, 57...\". Use `spacy.training.offsets_to_biluo_tags(nlp.make_doc(text), entities)` to check the alignment. Misaligned entities ('-') will be ignored during training.\n",
            "  warnings.warn(\n",
            "/usr/local/lib/python3.10/dist-packages/spacy/training/iob_utils.py:149: UserWarning: [W030] Some entities could not be aligned in the text \"Avani Priya Email me on Indeed indeed.com/r/Avani-...\" with entities \"[(0, 10, 'Name'), (31, 71, 'Email Address'), (89, ...\". Use `spacy.training.offsets_to_biluo_tags(nlp.make_doc(text), entities)` to check the alignment. Misaligned entities ('-') will be ignored during training.\n",
            "  warnings.warn(\n",
            "/usr/local/lib/python3.10/dist-packages/spacy/training/iob_utils.py:149: UserWarning: [W030] Some entities could not be aligned in the text \"Sanand Pal SQL and MSBI Developer with experience ...\" with entities \"[(0, 9, 'Name'), (11, 32, 'Designation'), (83, 91,...\". Use `spacy.training.offsets_to_biluo_tags(nlp.make_doc(text), entities)` to check the alignment. Misaligned entities ('-') will be ignored during training.\n",
            "  warnings.warn(\n",
            "/usr/local/lib/python3.10/dist-packages/spacy/training/iob_utils.py:149: UserWarning: [W030] Some entities could not be aligned in the text \"Partho Sarathi Mitra Kolkata West Bengal Email me ...\" with entities \"[(0, 19, 'Name'), (21, 27, 'Location'), (60, 110, ...\". Use `spacy.training.offsets_to_biluo_tags(nlp.make_doc(text), entities)` to check the alignment. Misaligned entities ('-') will be ignored during training.\n",
            "  warnings.warn(\n",
            "/usr/local/lib/python3.10/dist-packages/spacy/training/iob_utils.py:149: UserWarning: [W030] Some entities could not be aligned in the text \"Pranay Sathu Software Test Automation Engineer Hyd...\" with entities \"[(0, 11, 'Name'), (13, 45, 'Designation'), (47, 55...\". Use `spacy.training.offsets_to_biluo_tags(nlp.make_doc(text), entities)` to check the alignment. Misaligned entities ('-') will be ignored during training.\n",
            "  warnings.warn(\n",
            "/usr/local/lib/python3.10/dist-packages/spacy/training/iob_utils.py:149: UserWarning: [W030] Some entities could not be aligned in the text \"Tanmoy Maity Kolkata West Bengal Email me on Indee...\" with entities \"[(0, 11, 'Name'), (13, 19, 'Location'), (52, 93, '...\". Use `spacy.training.offsets_to_biluo_tags(nlp.make_doc(text), entities)` to check the alignment. Misaligned entities ('-') will be ignored during training.\n",
            "  warnings.warn(\n",
            "/usr/local/lib/python3.10/dist-packages/spacy/training/iob_utils.py:149: UserWarning: [W030] Some entities could not be aligned in the text \"Aanirudh Razdan Technical Support Executive Telepe...\" with entities \"[(0, 14, 'Name'), (16, 42, 'Designation'), (44, 58...\". Use `spacy.training.offsets_to_biluo_tags(nlp.make_doc(text), entities)` to check the alignment. Misaligned entities ('-') will be ignored during training.\n",
            "  warnings.warn(\n",
            "/usr/local/lib/python3.10/dist-packages/spacy/training/iob_utils.py:149: UserWarning: [W030] Some entities could not be aligned in the text \"Shiksha Bhatnagar chnadigarh Email me on Indeed in...\" with entities \"[(0, 16, 'Name'), (18, 27, 'Location'), (48, 94, '...\". Use `spacy.training.offsets_to_biluo_tags(nlp.make_doc(text), entities)` to check the alignment. Misaligned entities ('-') will be ignored during training.\n",
            "  warnings.warn(\n",
            "/usr/local/lib/python3.10/dist-packages/spacy/training/iob_utils.py:149: UserWarning: [W030] Some entities could not be aligned in the text \"Chhaya Prabhale Kharadi Pune 411014 IN Email me on...\" with entities \"[(0, 14, 'Name'), (16, 22, 'Location'), (58, 103, ...\". Use `spacy.training.offsets_to_biluo_tags(nlp.make_doc(text), entities)` to check the alignment. Misaligned entities ('-') will be ignored during training.\n",
            "  warnings.warn(\n",
            "/usr/local/lib/python3.10/dist-packages/spacy/training/iob_utils.py:149: UserWarning: [W030] Some entities could not be aligned in the text \"Karthik G V Program Manager Product Manager Produc...\" with entities \"[(0, 10, 'Name'), (12, 26, 'Designation'), (126, 1...\". Use `spacy.training.offsets_to_biluo_tags(nlp.make_doc(text), entities)` to check the alignment. Misaligned entities ('-') will be ignored during training.\n",
            "  warnings.warn(\n",
            "/usr/local/lib/python3.10/dist-packages/spacy/training/iob_utils.py:149: UserWarning: [W030] Some entities could not be aligned in the text \"Mohammed Murtuza Major Incident Manager Escalation...\" with entities \"[(0, 15, 'Name'), (17, 57, 'Designation'), (59, 73...\". Use `spacy.training.offsets_to_biluo_tags(nlp.make_doc(text), entities)` to check the alignment. Misaligned entities ('-') will be ignored during training.\n",
            "  warnings.warn(\n",
            "/usr/local/lib/python3.10/dist-packages/spacy/training/iob_utils.py:149: UserWarning: [W030] Some entities could not be aligned in the text \"Saurabh Saurabh Bengaluru Karnataka Email me on In...\" with entities \"[(0, 14, 'Name'), (16, 24, 'Location'), (55, 100, ...\". Use `spacy.training.offsets_to_biluo_tags(nlp.make_doc(text), entities)` to check the alignment. Misaligned entities ('-') will be ignored during training.\n",
            "  warnings.warn(\n",
            "/usr/local/lib/python3.10/dist-packages/spacy/training/iob_utils.py:149: UserWarning: [W030] Some entities could not be aligned in the text \"Prabhu Prasad Mohapatra Need job urgently Bhubanes...\" with entities \"[(0, 22, 'Name'), (42, 52, 'Location'), (80, 133, ...\". Use `spacy.training.offsets_to_biluo_tags(nlp.make_doc(text), entities)` to check the alignment. Misaligned entities ('-') will be ignored during training.\n",
            "  warnings.warn(\n",
            "/usr/local/lib/python3.10/dist-packages/spacy/training/iob_utils.py:149: UserWarning: [W030] Some entities could not be aligned in the text \"Raja Chandra Mouli Cuddapah Andhra Pradesh Email m...\" with entities \"[(0, 17, 'Name'), (19, 26, 'Location'), (62, 110, ...\". Use `spacy.training.offsets_to_biluo_tags(nlp.make_doc(text), entities)` to check the alignment. Misaligned entities ('-') will be ignored during training.\n",
            "  warnings.warn(\n",
            "/usr/local/lib/python3.10/dist-packages/spacy/training/iob_utils.py:149: UserWarning: [W030] Some entities could not be aligned in the text \"Krishna Prasad Patna City Bihar Email me on Indeed...\" with entities \"[(0, 13, 'Name'), (15, 19, 'Location'), (51, 94, '...\". Use `spacy.training.offsets_to_biluo_tags(nlp.make_doc(text), entities)` to check the alignment. Misaligned entities ('-') will be ignored during training.\n",
            "  warnings.warn(\n",
            "/usr/local/lib/python3.10/dist-packages/spacy/training/iob_utils.py:149: UserWarning: [W030] Some entities could not be aligned in the text \"Dushyant Bhatt BI Big Data/ Azure Hyderabad Deccan...\" with entities \"[(0, 13, 'Name'), (34, 42, 'Location'), (90, 134, ...\". Use `spacy.training.offsets_to_biluo_tags(nlp.make_doc(text), entities)` to check the alignment. Misaligned entities ('-') will be ignored during training.\n",
            "  warnings.warn(\n",
            "/usr/local/lib/python3.10/dist-packages/spacy/training/iob_utils.py:149: UserWarning: [W030] Some entities could not be aligned in the text \"pradeep chauhan pradeep chauhan Noida Uttar Prades...\" with entities \"[(0, 14, 'Name'), (32, 36, 'Location'), (71, 116, ...\". Use `spacy.training.offsets_to_biluo_tags(nlp.make_doc(text), entities)` to check the alignment. Misaligned entities ('-') will be ignored during training.\n",
            "  warnings.warn(\n",
            "/usr/local/lib/python3.10/dist-packages/spacy/training/iob_utils.py:149: UserWarning: [W030] Some entities could not be aligned in the text \"Akansha Jain Pune Maharashtra Email me on Indeed i...\" with entities \"[(0, 11, 'Name'), (13, 16, 'Location'), (49, 90, '...\". Use `spacy.training.offsets_to_biluo_tags(nlp.make_doc(text), entities)` to check the alignment. Misaligned entities ('-') will be ignored during training.\n",
            "  warnings.warn(\n",
            "/usr/local/lib/python3.10/dist-packages/spacy/training/iob_utils.py:149: UserWarning: [W030] Some entities could not be aligned in the text \"Rishabh soni Anuppur Madhya Pradesh Email me on In...\" with entities \"[(0, 11, 'Name'), (13, 19, 'Location'), (55, 97, '...\". Use `spacy.training.offsets_to_biluo_tags(nlp.make_doc(text), entities)` to check the alignment. Misaligned entities ('-') will be ignored during training.\n",
            "  warnings.warn(\n",
            "/usr/local/lib/python3.10/dist-packages/spacy/training/iob_utils.py:149: UserWarning: [W030] Some entities could not be aligned in the text \"Paul Rajiv Secunderabad Andhra Pradesh Email me on...\" with entities \"[(0, 9, 'Name'), (11, 22, 'Location'), (58, 98, 'E...\". Use `spacy.training.offsets_to_biluo_tags(nlp.make_doc(text), entities)` to check the alignment. Misaligned entities ('-') will be ignored during training.\n",
            "  warnings.warn(\n",
            "/usr/local/lib/python3.10/dist-packages/spacy/training/iob_utils.py:149: UserWarning: [W030] Some entities could not be aligned in the text \"Karan Turkar Balaghat Madhya Pradesh Email me on I...\" with entities \"[(0, 11, 'Name'), (13, 20, 'Location'), (56, 98, '...\". Use `spacy.training.offsets_to_biluo_tags(nlp.make_doc(text), entities)` to check the alignment. Misaligned entities ('-') will be ignored during training.\n",
            "  warnings.warn(\n",
            "/usr/local/lib/python3.10/dist-packages/spacy/training/iob_utils.py:149: UserWarning: [W030] Some entities could not be aligned in the text \"Akshay Dubey Actively looking for opportunity in ....\" with entities \"[(0, 11, 'Name'), (66, 69, 'Location'), (102, 143,...\". Use `spacy.training.offsets_to_biluo_tags(nlp.make_doc(text), entities)` to check the alignment. Misaligned entities ('-') will be ignored during training.\n",
            "  warnings.warn(\n",
            "/usr/local/lib/python3.10/dist-packages/spacy/training/iob_utils.py:149: UserWarning: [W030] Some entities could not be aligned in the text \"Sayani Goswami I Phone solution Consultant Kolkata...\" with entities \"[(0, 13, 'Name'), (15, 41, 'Designation'), (43, 49...\". Use `spacy.training.offsets_to_biluo_tags(nlp.make_doc(text), entities)` to check the alignment. Misaligned entities ('-') will be ignored during training.\n",
            "  warnings.warn(\n",
            "/usr/local/lib/python3.10/dist-packages/spacy/training/iob_utils.py:149: UserWarning: [W030] Some entities could not be aligned in the text \"Sweety Garg Bengaluru Karnataka Email me on Indeed...\" with entities \"[(0, 10, 'Name'), (12, 20, 'Location'), (51, 91, '...\". Use `spacy.training.offsets_to_biluo_tags(nlp.make_doc(text), entities)` to check the alignment. Misaligned entities ('-') will be ignored during training.\n",
            "  warnings.warn(\n",
            "/usr/local/lib/python3.10/dist-packages/spacy/training/iob_utils.py:149: UserWarning: [W030] Some entities could not be aligned in the text \"Ramkrishan Bhatt python developer Bengaluru Karnat...\" with entities \"[(0, 15, 'Name'), (17, 32, 'Designation'), (34, 42...\". Use `spacy.training.offsets_to_biluo_tags(nlp.make_doc(text), entities)` to check the alignment. Misaligned entities ('-') will be ignored during training.\n",
            "  warnings.warn(\n",
            "/usr/local/lib/python3.10/dist-packages/spacy/training/iob_utils.py:149: UserWarning: [W030] Some entities could not be aligned in the text \"B. Gokul Gokul Uttar Pradesh Email me on Indeed in...\" with entities \"[(0, 7, 'Name'), (48, 84, 'Email Address'), (363, ...\". Use `spacy.training.offsets_to_biluo_tags(nlp.make_doc(text), entities)` to check the alignment. Misaligned entities ('-') will be ignored during training.\n",
            "  warnings.warn(\n",
            "/usr/local/lib/python3.10/dist-packages/spacy/training/iob_utils.py:149: UserWarning: [W030] Some entities could not be aligned in the text \"Anand S Bangalore Karnataka Email me on Indeed ind...\" with entities \"[(0, 6, 'Name'), (8, 16, 'Location'), (47, 83, 'Em...\". Use `spacy.training.offsets_to_biluo_tags(nlp.make_doc(text), entities)` to check the alignment. Misaligned entities ('-') will be ignored during training.\n",
            "  warnings.warn(\n",
            "/usr/local/lib/python3.10/dist-packages/spacy/training/iob_utils.py:149: UserWarning: [W030] Some entities could not be aligned in the text \"Krishna Prasad Patna Bihar Email me on Indeed inde...\" with entities \"[(0, 13, 'Name'), (15, 19, 'Location'), (46, 89, '...\". Use `spacy.training.offsets_to_biluo_tags(nlp.make_doc(text), entities)` to check the alignment. Misaligned entities ('-') will be ignored during training.\n",
            "  warnings.warn(\n",
            "/usr/local/lib/python3.10/dist-packages/spacy/training/iob_utils.py:149: UserWarning: [W030] Some entities could not be aligned in the text \"Saurabh Sandhikar SAURABH SANDHIKAR Hyderabad Tela...\" with entities \"[(0, 16, 'Name'), (36, 44, 'Location'), (75, 122, ...\". Use `spacy.training.offsets_to_biluo_tags(nlp.make_doc(text), entities)` to check the alignment. Misaligned entities ('-') will be ignored during training.\n",
            "  warnings.warn(\n",
            "/usr/local/lib/python3.10/dist-packages/spacy/training/iob_utils.py:149: UserWarning: [W030] Some entities could not be aligned in the text \"Priyesh Dubey Azure Developer with 9 Yrs 8 months ...\" with entities \"[(0, 12, 'Name'), (14, 28, 'Designation'), (35, 47...\". Use `spacy.training.offsets_to_biluo_tags(nlp.make_doc(text), entities)` to check the alignment. Misaligned entities ('-') will be ignored during training.\n",
            "  warnings.warn(\n",
            "/usr/local/lib/python3.10/dist-packages/spacy/training/iob_utils.py:149: UserWarning: [W030] Some entities could not be aligned in the text \"Laya A Cluster HR Manager Velammal New Chennai Tam...\" with entities \"[(-1, -1, 'Skills'), (0, 5, 'Name'), (7, 24, 'Desi...\". Use `spacy.training.offsets_to_biluo_tags(nlp.make_doc(text), entities)` to check the alignment. Misaligned entities ('-') will be ignored during training.\n",
            "  warnings.warn(\n",
            "/usr/local/lib/python3.10/dist-packages/spacy/training/iob_utils.py:149: UserWarning: [W030] Some entities could not be aligned in the text \"Vishwanath P Senior Executive MIS Audit Job Profil...\" with entities \"[(0, 11, 'Name'), (13, 38, 'Designation'), (55, 86...\". Use `spacy.training.offsets_to_biluo_tags(nlp.make_doc(text), entities)` to check the alignment. Misaligned entities ('-') will be ignored during training.\n",
            "  warnings.warn(\n",
            "/usr/local/lib/python3.10/dist-packages/spacy/training/iob_utils.py:149: UserWarning: [W030] Some entities could not be aligned in the text \"Hemil Bhavsar Jr. ASP.NET Developer in True Vision...\" with entities \"[(0, 12, 'Name'), (14, 34, 'Designation'), (39, 60...\". Use `spacy.training.offsets_to_biluo_tags(nlp.make_doc(text), entities)` to check the alignment. Misaligned entities ('-') will be ignored during training.\n",
            "  warnings.warn(\n",
            "/usr/local/lib/python3.10/dist-packages/spacy/training/iob_utils.py:149: UserWarning: [W030] Some entities could not be aligned in the text \"Siddhartha Chetri 7 years of experience in IT Netw...\" with entities \"[(0, 16, 'Name'), (18, 24, 'Years of Experience'),...\". Use `spacy.training.offsets_to_biluo_tags(nlp.make_doc(text), entities)` to check the alignment. Misaligned entities ('-') will be ignored during training.\n",
            "  warnings.warn(\n",
            "/usr/local/lib/python3.10/dist-packages/spacy/training/iob_utils.py:149: UserWarning: [W030] Some entities could not be aligned in the text \"Pratik Vaidya Pune Maharashtra Email me on Indeed ...\" with entities \"[(0, 12, 'Name'), (14, 17, 'Location'), (50, 92, '...\". Use `spacy.training.offsets_to_biluo_tags(nlp.make_doc(text), entities)` to check the alignment. Misaligned entities ('-') will be ignored during training.\n",
            "  warnings.warn(\n",
            "/usr/local/lib/python3.10/dist-packages/spacy/training/iob_utils.py:149: UserWarning: [W030] Some entities could not be aligned in the text \"Ramakrishna Rao DevOps Consultant Tech Mahindra Lt...\" with entities \"[(0, 14, 'Name'), (16, 32, 'Designation'), (34, 50...\". Use `spacy.training.offsets_to_biluo_tags(nlp.make_doc(text), entities)` to check the alignment. Misaligned entities ('-') will be ignored during training.\n",
            "  warnings.warn(\n",
            "/usr/local/lib/python3.10/dist-packages/spacy/training/iob_utils.py:149: UserWarning: [W030] Some entities could not be aligned in the text \"Keshav Dhawale 3 TCS Security guard Access Control...\" with entities \"[(0, 13, 'Name'), (17, 34, 'Designation'), (56, 61...\". Use `spacy.training.offsets_to_biluo_tags(nlp.make_doc(text), entities)` to check the alignment. Misaligned entities ('-') will be ignored during training.\n",
            "  warnings.warn(\n",
            "/usr/local/lib/python3.10/dist-packages/spacy/training/iob_utils.py:149: UserWarning: [W030] Some entities could not be aligned in the text \"Praveen Bhaskar Program Manager Software Delivery ...\" with entities \"[(-1, -1, 'Skills'), (0, 14, 'Name'), (16, 48, 'De...\". Use `spacy.training.offsets_to_biluo_tags(nlp.make_doc(text), entities)` to check the alignment. Misaligned entities ('-') will be ignored during training.\n",
            "  warnings.warn(\n",
            "/usr/local/lib/python3.10/dist-packages/spacy/training/iob_utils.py:149: UserWarning: [W030] Some entities could not be aligned in the text \"Gunjan Nayyar Hoshiarpur Punjab Email me on Indeed...\" with entities \"[(0, 12, 'Name'), (14, 23, 'Location'), (51, 93, '...\". Use `spacy.training.offsets_to_biluo_tags(nlp.make_doc(text), entities)` to check the alignment. Misaligned entities ('-') will be ignored during training.\n",
            "  warnings.warn(\n",
            "/usr/local/lib/python3.10/dist-packages/spacy/training/iob_utils.py:149: UserWarning: [W030] Some entities could not be aligned in the text \"Rupesh Reddy Technology Consultant EIT Services In...\" with entities \"[(0, 11, 'Name'), (13, 33, 'Designation'), (35, 68...\". Use `spacy.training.offsets_to_biluo_tags(nlp.make_doc(text), entities)` to check the alignment. Misaligned entities ('-') will be ignored during training.\n",
            "  warnings.warn(\n",
            "/usr/local/lib/python3.10/dist-packages/spacy/training/iob_utils.py:149: UserWarning: [W030] Some entities could not be aligned in the text \"Puneeth R Escalation Specialist HiPower Support Ce...\" with entities \"[(0, 8, 'Name'), (10, 30, 'Designation'), (32, 53,...\". Use `spacy.training.offsets_to_biluo_tags(nlp.make_doc(text), entities)` to check the alignment. Misaligned entities ('-') will be ignored during training.\n",
            "  warnings.warn(\n",
            "/usr/local/lib/python3.10/dist-packages/spacy/training/iob_utils.py:149: UserWarning: [W030] Some entities could not be aligned in the text \"Kandrapu Reddy Senior Travel Operations Domestic I...\" with entities \"[(0, 13, 'Name'), (15, 38, 'Designation'), (71, 10...\". Use `spacy.training.offsets_to_biluo_tags(nlp.make_doc(text), entities)` to check the alignment. Misaligned entities ('-') will be ignored during training.\n",
            "  warnings.warn(\n",
            "/usr/local/lib/python3.10/dist-packages/spacy/training/iob_utils.py:149: UserWarning: [W030] Some entities could not be aligned in the text \"Vineeth Vijayan Store Executive Orange City Hospit...\" with entities \"[(0, 14, 'Name'), (16, 30, 'Designation'), (32, 70...\". Use `spacy.training.offsets_to_biluo_tags(nlp.make_doc(text), entities)` to check the alignment. Misaligned entities ('-') will be ignored during training.\n",
            "  warnings.warn(\n",
            "/usr/local/lib/python3.10/dist-packages/spacy/training/iob_utils.py:149: UserWarning: [W030] Some entities could not be aligned in the text \"Rahul Tayade Global Production Support Lead Infosy...\" with entities \"[(0, 11, 'Name'), (13, 42, 'Designation'), (44, 54...\". Use `spacy.training.offsets_to_biluo_tags(nlp.make_doc(text), entities)` to check the alignment. Misaligned entities ('-') will be ignored during training.\n",
            "  warnings.warn(\n",
            "/usr/local/lib/python3.10/dist-packages/spacy/training/iob_utils.py:149: UserWarning: [W030] Some entities could not be aligned in the text \"Suresh Kanagala Architecture SharePoint Office 365...\" with entities \"[(0, 14, 'Name'), (69, 77, 'Location'), (108, 153,...\". Use `spacy.training.offsets_to_biluo_tags(nlp.make_doc(text), entities)` to check the alignment. Misaligned entities ('-') will be ignored during training.\n",
            "  warnings.warn(\n",
            "/usr/local/lib/python3.10/dist-packages/spacy/training/iob_utils.py:149: UserWarning: [W030] Some entities could not be aligned in the text \"Jaspreet Kaur Oceanic Consultants as a HR Executiv...\" with entities \"[(0, 12, 'Name'), (14, 32, 'Designation'), (39, 50...\". Use `spacy.training.offsets_to_biluo_tags(nlp.make_doc(text), entities)` to check the alignment. Misaligned entities ('-') will be ignored during training.\n",
            "  warnings.warn(\n",
            "/usr/local/lib/python3.10/dist-packages/spacy/training/iob_utils.py:149: UserWarning: [W030] Some entities could not be aligned in the text \"Somanath Behera Associate Cognizant technology Sol...\" with entities \"[(0, 14, 'Name'), (16, 24, 'Designation'), (26, 55...\". Use `spacy.training.offsets_to_biluo_tags(nlp.make_doc(text), entities)` to check the alignment. Misaligned entities ('-') will be ignored during training.\n",
            "  warnings.warn(\n",
            "/usr/local/lib/python3.10/dist-packages/spacy/training/iob_utils.py:149: UserWarning: [W030] Some entities could not be aligned in the text \"Ashish Indoriya Sr Systems Engineer at Infosys Lim...\" with entities \"[(0, 14, 'Name'), (16, 34, 'Designation'), (39, 53...\". Use `spacy.training.offsets_to_biluo_tags(nlp.make_doc(text), entities)` to check the alignment. Misaligned entities ('-') will be ignored during training.\n",
            "  warnings.warn(\n",
            "/usr/local/lib/python3.10/dist-packages/spacy/training/iob_utils.py:149: UserWarning: [W030] Some entities could not be aligned in the text \"Dilliraja Baskaran Tamil Nadu Email me on Indeed i...\" with entities \"[(0, 16, 'Name'), (19, 28, 'Location'), (49, 96, '...\". Use `spacy.training.offsets_to_biluo_tags(nlp.make_doc(text), entities)` to check the alignment. Misaligned entities ('-') will be ignored during training.\n",
            "  warnings.warn(\n",
            "/usr/local/lib/python3.10/dist-packages/spacy/training/iob_utils.py:149: UserWarning: [W030] Some entities could not be aligned in the text \"Deepika S Test Engineer Infosys Ltd Email me on In...\" with entities \"[(0, 8, 'Name'), (10, 22, 'Designation'), (24, 34,...\". Use `spacy.training.offsets_to_biluo_tags(nlp.make_doc(text), entities)` to check the alignment. Misaligned entities ('-') will be ignored during training.\n",
            "  warnings.warn(\n",
            "/usr/local/lib/python3.10/dist-packages/spacy/training/iob_utils.py:149: UserWarning: [W030] Some entities could not be aligned in the text \"Jacob Philip Kottayam Kerala Email me on Indeed in...\" with entities \"[(0, 11, 'Name'), (13, 20, 'Location'), (48, 89, '...\". Use `spacy.training.offsets_to_biluo_tags(nlp.make_doc(text), entities)` to check the alignment. Misaligned entities ('-') will be ignored during training.\n",
            "  warnings.warn(\n",
            "/usr/local/lib/python3.10/dist-packages/spacy/training/iob_utils.py:149: UserWarning: [W030] Some entities could not be aligned in the text \"Yogesh Ghatole Engineer Electrical Supervisor Site...\" with entities \"[(-1, -1, 'Skills'), (0, 13, 'Name'), (15, 44, 'De...\". Use `spacy.training.offsets_to_biluo_tags(nlp.make_doc(text), entities)` to check the alignment. Misaligned entities ('-') will be ignored during training.\n",
            "  warnings.warn(\n",
            "/usr/local/lib/python3.10/dist-packages/spacy/training/iob_utils.py:149: UserWarning: [W030] Some entities could not be aligned in the text \"Ajay Elango Software Engineer Bangalore City Karna...\" with entities \"[(681, 711, 'College Name'), (6338, 6389, 'Degree'...\". Use `spacy.training.offsets_to_biluo_tags(nlp.make_doc(text), entities)` to check the alignment. Misaligned entities ('-') will be ignored during training.\n",
            "  warnings.warn(\n",
            "/usr/local/lib/python3.10/dist-packages/spacy/training/iob_utils.py:149: UserWarning: [W030] Some entities could not be aligned in the text \"Shaik Tazuddin Senior Process Executive STAR India...\" with entities \"[(0, 13, 'Name'), (15, 38, 'Designation'), (40, 49...\". Use `spacy.training.offsets_to_biluo_tags(nlp.make_doc(text), entities)` to check the alignment. Misaligned entities ('-') will be ignored during training.\n",
            "  warnings.warn(\n",
            "/usr/local/lib/python3.10/dist-packages/spacy/training/iob_utils.py:149: UserWarning: [W030] Some entities could not be aligned in the text \"Angad Waghmare Pune Maharashtra Email me on Indeed...\" with entities \"[(0, 13, 'Name'), (15, 18, 'Location'), (51, 94, '...\". Use `spacy.training.offsets_to_biluo_tags(nlp.make_doc(text), entities)` to check the alignment. Misaligned entities ('-') will be ignored during training.\n",
            "  warnings.warn(\n",
            "/usr/local/lib/python3.10/dist-packages/spacy/training/iob_utils.py:149: UserWarning: [W030] Some entities could not be aligned in the text \"Sohan Dhakad Shivpuri Madhya Pradesh Email me on I...\" with entities \"[(0, 11, 'Name'), (13, 20, 'Location'), (56, 98, '...\". Use `spacy.training.offsets_to_biluo_tags(nlp.make_doc(text), entities)` to check the alignment. Misaligned entities ('-') will be ignored during training.\n",
            "  warnings.warn(\n",
            "/usr/local/lib/python3.10/dist-packages/spacy/training/iob_utils.py:149: UserWarning: [W030] Some entities could not be aligned in the text \"Madhava Konjeti HR Executive Bengaluru Karnataka E...\" with entities \"[(0, 14, 'Name'), (16, 27, 'Designation'), (29, 37...\". Use `spacy.training.offsets_to_biluo_tags(nlp.make_doc(text), entities)` to check the alignment. Misaligned entities ('-') will be ignored during training.\n",
            "  warnings.warn(\n",
            "/usr/local/lib/python3.10/dist-packages/spacy/training/iob_utils.py:149: UserWarning: [W030] Some entities could not be aligned in the text \"Shreya Agnihotri Senior System Engineer at Infosys...\" with entities \"[(0, 15, 'Name'), (17, 57, 'Designation'), (67, 75...\". Use `spacy.training.offsets_to_biluo_tags(nlp.make_doc(text), entities)` to check the alignment. Misaligned entities ('-') will be ignored during training.\n",
            "  warnings.warn(\n",
            "/usr/local/lib/python3.10/dist-packages/spacy/training/iob_utils.py:149: UserWarning: [W030] Some entities could not be aligned in the text \"Tapan kumar Nayak Bhubaneshwar Orissa Email me on ...\" with entities \"[(0, 16, 'Name'), (18, 29, 'Location'), (57, 104, ...\". Use `spacy.training.offsets_to_biluo_tags(nlp.make_doc(text), entities)` to check the alignment. Misaligned entities ('-') will be ignored during training.\n",
            "  warnings.warn(\n",
            "/usr/local/lib/python3.10/dist-packages/spacy/training/iob_utils.py:149: UserWarning: [W030] Some entities could not be aligned in the text \"Arpit Jain Quality Analyst ThoughtWorks Technologi...\" with entities \"[(0, 9, 'Name'), (11, 25, 'Designation'), (27, 51,...\". Use `spacy.training.offsets_to_biluo_tags(nlp.make_doc(text), entities)` to check the alignment. Misaligned entities ('-') will be ignored during training.\n",
            "  warnings.warn(\n",
            "/usr/local/lib/python3.10/dist-packages/spacy/training/iob_utils.py:149: UserWarning: [W030] Some entities could not be aligned in the text \"Palani S Senior Technology Support Executive at In...\" with entities \"[(0, 7, 'Name'), (9, 43, 'Designation'), (48, 54, ...\". Use `spacy.training.offsets_to_biluo_tags(nlp.make_doc(text), entities)` to check the alignment. Misaligned entities ('-') will be ignored during training.\n",
            "  warnings.warn(\n",
            "/usr/local/lib/python3.10/dist-packages/spacy/training/iob_utils.py:149: UserWarning: [W030] Some entities could not be aligned in the text \"Meenalochani Kondya Systems Engineer Infosys Banga...\" with entities \"[(0, 18, 'Name'), (20, 35, 'Designation'), (37, 53...\". Use `spacy.training.offsets_to_biluo_tags(nlp.make_doc(text), entities)` to check the alignment. Misaligned entities ('-') will be ignored during training.\n",
            "  warnings.warn(\n",
            "/usr/local/lib/python3.10/dist-packages/spacy/training/iob_utils.py:149: UserWarning: [W030] Some entities could not be aligned in the text \"Shrinidhi Selva Kumar NOC and QA Engineer at Skava...\" with entities \"[(0, 20, 'Name'), (22, 40, 'Designation'), (45, 68...\". Use `spacy.training.offsets_to_biluo_tags(nlp.make_doc(text), entities)` to check the alignment. Misaligned entities ('-') will be ignored during training.\n",
            "  warnings.warn(\n",
            "/usr/local/lib/python3.10/dist-packages/spacy/training/iob_utils.py:149: UserWarning: [W030] Some entities could not be aligned in the text \"Mayank Shukla Infosys group as a Test Analyst Info...\" with entities \"[(0, 12, 'Name'), (33, 44, 'Designation'), (46, 78...\". Use `spacy.training.offsets_to_biluo_tags(nlp.make_doc(text), entities)` to check the alignment. Misaligned entities ('-') will be ignored during training.\n",
            "  warnings.warn(\n",
            "/usr/local/lib/python3.10/dist-packages/spacy/training/iob_utils.py:149: UserWarning: [W030] Some entities could not be aligned in the text \"Shraddha Achar Mathura Uttar Pradesh Email me on I...\" with entities \"[(0, 13, 'Name'), (15, 21, 'Location'), (56, 100, ...\". Use `spacy.training.offsets_to_biluo_tags(nlp.make_doc(text), entities)` to check the alignment. Misaligned entities ('-') will be ignored during training.\n",
            "  warnings.warn(\n",
            "/usr/local/lib/python3.10/dist-packages/spacy/training/iob_utils.py:149: UserWarning: [W030] Some entities could not be aligned in the text \"Arpit Godha Senior Process Executive Jaipur Rajast...\" with entities \"[(0, 10, 'Name'), (12, 35, 'Designation'), (37, 42...\". Use `spacy.training.offsets_to_biluo_tags(nlp.make_doc(text), entities)` to check the alignment. Misaligned entities ('-') will be ignored during training.\n",
            "  warnings.warn(\n",
            "/usr/local/lib/python3.10/dist-packages/spacy/training/iob_utils.py:149: UserWarning: [W030] Some entities could not be aligned in the text \"Jatin Arora SDET Automation Engineer Infosys CRD C...\" with entities \"[(0, 10, 'Name'), (12, 35, 'Designation'), (37, 43...\". Use `spacy.training.offsets_to_biluo_tags(nlp.make_doc(text), entities)` to check the alignment. Misaligned entities ('-') will be ignored during training.\n",
            "  warnings.warn(\n",
            "/usr/local/lib/python3.10/dist-packages/spacy/training/iob_utils.py:149: UserWarning: [W030] Some entities could not be aligned in the text \"Karthik Gururaj Technical Lead at Infosys Ltd. Pha...\" with entities \"[(0, 14, 'Name'), (16, 29, 'Designation'), (34, 44...\". Use `spacy.training.offsets_to_biluo_tags(nlp.make_doc(text), entities)` to check the alignment. Misaligned entities ('-') will be ignored during training.\n",
            "  warnings.warn(\n",
            "/usr/local/lib/python3.10/dist-packages/spacy/training/iob_utils.py:149: UserWarning: [W030] Some entities could not be aligned in the text \"Akila Mohideen System Engineer Infosys Limited Ind...\" with entities \"[(0, 13, 'Name'), (15, 29, 'Designation'), (31, 45...\". Use `spacy.training.offsets_to_biluo_tags(nlp.make_doc(text), entities)` to check the alignment. Misaligned entities ('-') will be ignored during training.\n",
            "  warnings.warn(\n",
            "/usr/local/lib/python3.10/dist-packages/spacy/training/iob_utils.py:149: UserWarning: [W030] Some entities could not be aligned in the text \"Ahmad Bardolia Project Lead for Infosys OpenStack ...\" with entities \"[(0, 13, 'Name'), (15, 26, 'Designation'), (32, 48...\". Use `spacy.training.offsets_to_biluo_tags(nlp.make_doc(text), entities)` to check the alignment. Misaligned entities ('-') will be ignored during training.\n",
            "  warnings.warn(\n",
            "/usr/local/lib/python3.10/dist-packages/spacy/training/iob_utils.py:149: UserWarning: [W030] Some entities could not be aligned in the text \"Puran Mal Jaipur Rajasthan Email me on Indeed inde...\" with entities \"[(0, 8, 'Name'), (10, 15, 'Location'), (46, 84, 'E...\". Use `spacy.training.offsets_to_biluo_tags(nlp.make_doc(text), entities)` to check the alignment. Misaligned entities ('-') will be ignored during training.\n",
            "  warnings.warn(\n",
            "/usr/local/lib/python3.10/dist-packages/spacy/training/iob_utils.py:149: UserWarning: [W030] Some entities could not be aligned in the text \"Sridevi H Bangalore Karnataka Email me on Indeed i...\" with entities \"[(0, 8, 'Name'), (10, 18, 'Location'), (49, 87, 'E...\". Use `spacy.training.offsets_to_biluo_tags(nlp.make_doc(text), entities)` to check the alignment. Misaligned entities ('-') will be ignored during training.\n",
            "  warnings.warn(\n",
            "/usr/local/lib/python3.10/dist-packages/spacy/training/iob_utils.py:149: UserWarning: [W030] Some entities could not be aligned in the text \"Raktim Podder 6 + Exp in banking operations and cr...\" with entities \"[(0, 12, 'Name'), (14, 16, 'Years of Experience'),...\". Use `spacy.training.offsets_to_biluo_tags(nlp.make_doc(text), entities)` to check the alignment. Misaligned entities ('-') will be ignored during training.\n",
            "  warnings.warn(\n",
            "/usr/local/lib/python3.10/dist-packages/spacy/training/iob_utils.py:149: UserWarning: [W030] Some entities could not be aligned in the text \"Pavithra M Infosys internship Bengaluru Karnataka ...\" with entities \"[(0, 9, 'Name'), (11, 17, 'Companies worked at'), ...\". Use `spacy.training.offsets_to_biluo_tags(nlp.make_doc(text), entities)` to check the alignment. Misaligned entities ('-') will be ignored during training.\n",
            "  warnings.warn(\n",
            "/usr/local/lib/python3.10/dist-packages/spacy/training/iob_utils.py:149: UserWarning: [W030] Some entities could not be aligned in the text \"shrikant desai Working as accountant infosys Pune ...\" with entities \"[(0, 13, 'Name'), (26, 35, 'Designation'), (37, 43...\". Use `spacy.training.offsets_to_biluo_tags(nlp.make_doc(text), entities)` to check the alignment. Misaligned entities ('-') will be ignored during training.\n",
            "  warnings.warn(\n",
            "/usr/local/lib/python3.10/dist-packages/spacy/training/iob_utils.py:149: UserWarning: [W030] Some entities could not be aligned in the text \"Kiran Kumar I Having 2.1 years of Experience in IT...\" with entities \"[(0, 10, 'Name'), (21, 29, 'Years of Experience'),...\". Use `spacy.training.offsets_to_biluo_tags(nlp.make_doc(text), entities)` to check the alignment. Misaligned entities ('-') will be ignored during training.\n",
            "  warnings.warn(\n",
            "/usr/local/lib/python3.10/dist-packages/spacy/training/iob_utils.py:149: UserWarning: [W030] Some entities could not be aligned in the text \"Chaban kumar Debbarma Tripura Email me on Indeed i...\" with entities \"[(0, 20, 'Name'), (22, 28, 'Location'), (49, 99, '...\". Use `spacy.training.offsets_to_biluo_tags(nlp.make_doc(text), entities)` to check the alignment. Misaligned entities ('-') will be ignored during training.\n",
            "  warnings.warn(\n",
            "/usr/local/lib/python3.10/dist-packages/spacy/training/iob_utils.py:149: UserWarning: [W030] Some entities could not be aligned in the text \"Akash Gulhane Microsoft Certified System Engineer ...\" with entities \"[(0, 12, 'Name'), (14, 48, 'Designation'), (50, 57...\". Use `spacy.training.offsets_to_biluo_tags(nlp.make_doc(text), entities)` to check the alignment. Misaligned entities ('-') will be ignored during training.\n",
            "  warnings.warn(\n",
            "/usr/local/lib/python3.10/dist-packages/spacy/training/iob_utils.py:149: UserWarning: [W030] Some entities could not be aligned in the text \"K. Siddharth System Administrator Server Microsoft...\" with entities \"[(0, 11, 'Name'), (13, 39, 'Designation'), (41, 49...\". Use `spacy.training.offsets_to_biluo_tags(nlp.make_doc(text), entities)` to check the alignment. Misaligned entities ('-') will be ignored during training.\n",
            "  warnings.warn(\n",
            "/usr/local/lib/python3.10/dist-packages/spacy/training/iob_utils.py:149: UserWarning: [W030] Some entities could not be aligned in the text \"Shivam Rathi Microsoft technology Associate MTA Mu...\" with entities \"[(0, 11, 'Name'), (13, 46, 'Designation'), (48, 60...\". Use `spacy.training.offsets_to_biluo_tags(nlp.make_doc(text), entities)` to check the alignment. Misaligned entities ('-') will be ignored during training.\n",
            "  warnings.warn(\n",
            "/usr/local/lib/python3.10/dist-packages/spacy/training/iob_utils.py:149: UserWarning: [W030] Some entities could not be aligned in the text \"Nitin Verma Assisting Microsoft Partners Exchange ...\" with entities \"[(0, 10, 'Name'), (12, 66, 'Designation'), (68, 71...\". Use `spacy.training.offsets_to_biluo_tags(nlp.make_doc(text), entities)` to check the alignment. Misaligned entities ('-') will be ignored during training.\n",
            "  warnings.warn(\n",
            "/usr/local/lib/python3.10/dist-packages/spacy/training/iob_utils.py:149: UserWarning: [W030] Some entities could not be aligned in the text \"Venkateswara D specialist Technology Process IN Em...\" with entities \"[(0, 13, 'Name'), (15, 43, 'Designation'), (67, 11...\". Use `spacy.training.offsets_to_biluo_tags(nlp.make_doc(text), entities)` to check the alignment. Misaligned entities ('-') will be ignored during training.\n",
            "  warnings.warn(\n",
            "/usr/local/lib/python3.10/dist-packages/spacy/training/iob_utils.py:149: UserWarning: [W030] Some entities could not be aligned in the text \"Shivasai Mantri Microsoft dynamics AX Technical co...\" with entities \"[(0, 14, 'Name'), (16, 57, 'Designation'), (355, 3...\". Use `spacy.training.offsets_to_biluo_tags(nlp.make_doc(text), entities)` to check the alignment. Misaligned entities ('-') will be ignored during training.\n",
            "  warnings.warn(\n",
            "/usr/local/lib/python3.10/dist-packages/spacy/training/iob_utils.py:149: UserWarning: [W030] Some entities could not be aligned in the text \"Prasanna Ignatius MICROSOFT Backup Administrator C...\" with entities \"[(0, 16, 'Name'), (18, 26, 'Companies worked at'),...\". Use `spacy.training.offsets_to_biluo_tags(nlp.make_doc(text), entities)` to check the alignment. Misaligned entities ('-') will be ignored during training.\n",
            "  warnings.warn(\n",
            "/usr/local/lib/python3.10/dist-packages/spacy/training/iob_utils.py:149: UserWarning: [W030] Some entities could not be aligned in the text \"Pankaj Bhosale Microsoft SQL SERVER Dhule Maharash...\" with entities \"[(0, 13, 'Name'), (15, 34, 'Designation'), (36, 40...\". Use `spacy.training.offsets_to_biluo_tags(nlp.make_doc(text), entities)` to check the alignment. Misaligned entities ('-') will be ignored during training.\n",
            "  warnings.warn(\n",
            "/usr/local/lib/python3.10/dist-packages/spacy/training/iob_utils.py:149: UserWarning: [W030] Some entities could not be aligned in the text \"Vinay Singhal New Delhi Delhi Email me on Indeed i...\" with entities \"[(0, 12, 'Name'), (14, 22, 'Location'), (49, 91, '...\". Use `spacy.training.offsets_to_biluo_tags(nlp.make_doc(text), entities)` to check the alignment. Misaligned entities ('-') will be ignored during training.\n",
            "  warnings.warn(\n",
            "/usr/local/lib/python3.10/dist-packages/spacy/training/iob_utils.py:149: UserWarning: [W030] Some entities could not be aligned in the text \"Pawan Nag Microsoft Certified System Engineer Delh...\" with entities \"[(0, 8, 'Name'), (10, 18, 'Designation'), (20, 44,...\". Use `spacy.training.offsets_to_biluo_tags(nlp.make_doc(text), entities)` to check the alignment. Misaligned entities ('-') will be ignored during training.\n",
            "  warnings.warn(\n",
            "/usr/local/lib/python3.10/dist-packages/spacy/training/iob_utils.py:149: UserWarning: [W030] Some entities could not be aligned in the text \"Shivam Sharma L1 Analyst in Microsoft project HCL ...\" with entities \"[(0, 12, 'Name'), (14, 44, 'Designation'), (46, 61...\". Use `spacy.training.offsets_to_biluo_tags(nlp.make_doc(text), entities)` to check the alignment. Misaligned entities ('-') will be ignored during training.\n",
            "  warnings.warn(\n",
            "/usr/local/lib/python3.10/dist-packages/spacy/training/iob_utils.py:149: UserWarning: [W030] Some entities could not be aligned in the text \"Gaikwad Dilip Microsoft Dainamic Software Billing ...\" with entities \"[(0, 12, 'Name'), (14, 57, 'Designation'), (59, 85...\". Use `spacy.training.offsets_to_biluo_tags(nlp.make_doc(text), entities)` to check the alignment. Misaligned entities ('-') will be ignored during training.\n",
            "  warnings.warn(\n",
            "/usr/local/lib/python3.10/dist-packages/spacy/training/iob_utils.py:149: UserWarning: [W030] Some entities could not be aligned in the text \"Moumita Mitra Email me on Indeed indeed.com/r/Moum...\" with entities \"[(0, 12, 'Name'), (33, 75, 'Email Address'), (1401...\". Use `spacy.training.offsets_to_biluo_tags(nlp.make_doc(text), entities)` to check the alignment. Misaligned entities ('-') will be ignored during training.\n",
            "  warnings.warn(\n",
            "/usr/local/lib/python3.10/dist-packages/spacy/training/iob_utils.py:149: UserWarning: [W030] Some entities could not be aligned in the text \"Suman Biswas SAP UI5 Lead Native HANA Developer Ro...\" with entities \"[(0, 11, 'Name'), (13, 46, 'Designation'), (48, 64...\". Use `spacy.training.offsets_to_biluo_tags(nlp.make_doc(text), entities)` to check the alignment. Misaligned entities ('-') will be ignored during training.\n",
            "  warnings.warn(\n",
            "/usr/local/lib/python3.10/dist-packages/spacy/training/iob_utils.py:149: UserWarning: [W030] Some entities could not be aligned in the text \"Mansi Thanki Student Jamnagar Gujarat Email me on ...\" with entities \"[(0, 11, 'Name'), (13, 19, 'Designation'), (21, 28...\". Use `spacy.training.offsets_to_biluo_tags(nlp.make_doc(text), entities)` to check the alignment. Misaligned entities ('-') will be ignored during training.\n",
            "  warnings.warn(\n",
            "/usr/local/lib/python3.10/dist-packages/spacy/training/iob_utils.py:149: UserWarning: [W030] Some entities could not be aligned in the text \"Anil Kumar Microsoft Azure Basic Management Delhi ...\" with entities \"[(0, 9, 'Name'), (11, 42, 'Designation'), (44, 48,...\". Use `spacy.training.offsets_to_biluo_tags(nlp.make_doc(text), entities)` to check the alignment. Misaligned entities ('-') will be ignored during training.\n",
            "  warnings.warn(\n",
            "/usr/local/lib/python3.10/dist-packages/spacy/training/iob_utils.py:149: UserWarning: [W030] Some entities could not be aligned in the text \"Siddharth Choudhary Microsoft Office Suite Expert ...\" with entities \"[(0, 18, 'Name'), (20, 48, 'Designation'), (50, 58...\". Use `spacy.training.offsets_to_biluo_tags(nlp.make_doc(text), entities)` to check the alignment. Misaligned entities ('-') will be ignored during training.\n",
            "  warnings.warn(\n",
            "/usr/local/lib/python3.10/dist-packages/spacy/training/iob_utils.py:149: UserWarning: [W030] Some entities could not be aligned in the text \"Valarmathi Dhandapani Investment Banking Operation...\" with entities \"[(0, 20, 'Name'), (22, 54, 'Designation'), (56, 64...\". Use `spacy.training.offsets_to_biluo_tags(nlp.make_doc(text), entities)` to check the alignment. Misaligned entities ('-') will be ignored during training.\n",
            "  warnings.warn(\n",
            "/usr/local/lib/python3.10/dist-packages/spacy/training/iob_utils.py:149: UserWarning: [W030] Some entities could not be aligned in the text \"Pradeep Kumar Security Analyst in Infosys Career C...\" with entities \"[(0, 12, 'Name'), (14, 29, 'Designation'), (34, 55...\". Use `spacy.training.offsets_to_biluo_tags(nlp.make_doc(text), entities)` to check the alignment. Misaligned entities ('-') will be ignored during training.\n",
            "  warnings.warn(\n"
          ]
        },
        {
          "output_type": "stream",
          "name": "stdout",
          "text": [
            "Starting Iteration 0\n",
            "{'ner': 94900.58966064453}\n",
            "{'token_acc': 1.0, 'token_p': 1.0, 'token_r': 1.0, 'token_f': 1.0, 'sents_p': None, 'sents_r': None, 'sents_f': None, 'tag_acc': None, 'pos_acc': None, 'morph_acc': None, 'morph_micro_p': None, 'morph_micro_r': None, 'morph_micro_f': None, 'morph_per_feat': None, 'dep_uas': None, 'dep_las': None, 'dep_las_per_type': None, 'ents_p': None, 'ents_r': None, 'ents_f': None, 'ents_per_type': None, 'cats_score': 0.0, 'cats_score_desc': 'macro F', 'cats_micro_p': 0.0, 'cats_micro_r': 0.0, 'cats_micro_f': 0.0, 'cats_macro_p': 0.0, 'cats_macro_r': 0.0, 'cats_macro_f': 0.0, 'cats_macro_auc': 0.0, 'cats_f_per_type': {}, 'cats_auc_per_type': {}}\n",
            "Starting Iteration 1\n",
            "{'ner': 93781.01672363281}\n",
            "{'token_acc': 1.0, 'token_p': 1.0, 'token_r': 1.0, 'token_f': 1.0, 'sents_p': None, 'sents_r': None, 'sents_f': None, 'tag_acc': None, 'pos_acc': None, 'morph_acc': None, 'morph_micro_p': None, 'morph_micro_r': None, 'morph_micro_f': None, 'morph_per_feat': None, 'dep_uas': None, 'dep_las': None, 'dep_las_per_type': None, 'ents_p': None, 'ents_r': None, 'ents_f': None, 'ents_per_type': None, 'cats_score': 0.0, 'cats_score_desc': 'macro F', 'cats_micro_p': 0.0, 'cats_micro_r': 0.0, 'cats_micro_f': 0.0, 'cats_macro_p': 0.0, 'cats_macro_r': 0.0, 'cats_macro_f': 0.0, 'cats_macro_auc': 0.0, 'cats_f_per_type': {}, 'cats_auc_per_type': {}}\n",
            "Starting Iteration 2\n",
            "{'ner': 91997.07150268555}\n",
            "{'token_acc': 1.0, 'token_p': 1.0, 'token_r': 1.0, 'token_f': 1.0, 'sents_p': None, 'sents_r': None, 'sents_f': None, 'tag_acc': None, 'pos_acc': None, 'morph_acc': None, 'morph_micro_p': None, 'morph_micro_r': None, 'morph_micro_f': None, 'morph_per_feat': None, 'dep_uas': None, 'dep_las': None, 'dep_las_per_type': None, 'ents_p': None, 'ents_r': None, 'ents_f': None, 'ents_per_type': None, 'cats_score': 0.0, 'cats_score_desc': 'macro F', 'cats_micro_p': 0.0, 'cats_micro_r': 0.0, 'cats_micro_f': 0.0, 'cats_macro_p': 0.0, 'cats_macro_r': 0.0, 'cats_macro_f': 0.0, 'cats_macro_auc': 0.0, 'cats_f_per_type': {}, 'cats_auc_per_type': {}}\n",
            "Starting Iteration 3\n",
            "{'ner': 88809.98840332031}\n",
            "{'token_acc': 1.0, 'token_p': 1.0, 'token_r': 1.0, 'token_f': 1.0, 'sents_p': None, 'sents_r': None, 'sents_f': None, 'tag_acc': None, 'pos_acc': None, 'morph_acc': None, 'morph_micro_p': None, 'morph_micro_r': None, 'morph_micro_f': None, 'morph_per_feat': None, 'dep_uas': None, 'dep_las': None, 'dep_las_per_type': None, 'ents_p': None, 'ents_r': None, 'ents_f': None, 'ents_per_type': None, 'cats_score': 0.0, 'cats_score_desc': 'macro F', 'cats_micro_p': 0.0, 'cats_micro_r': 0.0, 'cats_micro_f': 0.0, 'cats_macro_p': 0.0, 'cats_macro_r': 0.0, 'cats_macro_f': 0.0, 'cats_macro_auc': 0.0, 'cats_f_per_type': {}, 'cats_auc_per_type': {}}\n",
            "Starting Iteration 4\n",
            "{'ner': 79203.80850219727}\n",
            "{'token_acc': 1.0, 'token_p': 1.0, 'token_r': 1.0, 'token_f': 1.0, 'sents_p': None, 'sents_r': None, 'sents_f': None, 'tag_acc': None, 'pos_acc': None, 'morph_acc': None, 'morph_micro_p': None, 'morph_micro_r': None, 'morph_micro_f': None, 'morph_per_feat': None, 'dep_uas': None, 'dep_las': None, 'dep_las_per_type': None, 'ents_p': None, 'ents_r': None, 'ents_f': None, 'ents_per_type': None, 'cats_score': 0.0, 'cats_score_desc': 'macro F', 'cats_micro_p': 0.0, 'cats_micro_r': 0.0, 'cats_micro_f': 0.0, 'cats_macro_p': 0.0, 'cats_macro_r': 0.0, 'cats_macro_f': 0.0, 'cats_macro_auc': 0.0, 'cats_f_per_type': {}, 'cats_auc_per_type': {}}\n",
            "Starting Iteration 5\n",
            "{'ner': 55604.42071533203}\n",
            "{'token_acc': 1.0, 'token_p': 1.0, 'token_r': 1.0, 'token_f': 1.0, 'sents_p': None, 'sents_r': None, 'sents_f': None, 'tag_acc': None, 'pos_acc': None, 'morph_acc': None, 'morph_micro_p': None, 'morph_micro_r': None, 'morph_micro_f': None, 'morph_per_feat': None, 'dep_uas': None, 'dep_las': None, 'dep_las_per_type': None, 'ents_p': None, 'ents_r': None, 'ents_f': None, 'ents_per_type': None, 'cats_score': 0.0, 'cats_score_desc': 'macro F', 'cats_micro_p': 0.0, 'cats_micro_r': 0.0, 'cats_micro_f': 0.0, 'cats_macro_p': 0.0, 'cats_macro_r': 0.0, 'cats_macro_f': 0.0, 'cats_macro_auc': 0.0, 'cats_f_per_type': {}, 'cats_auc_per_type': {}}\n",
            "Starting Iteration 6\n",
            "{'ner': 18591.516983032227}\n",
            "{'token_acc': 1.0, 'token_p': 1.0, 'token_r': 1.0, 'token_f': 1.0, 'sents_p': None, 'sents_r': None, 'sents_f': None, 'tag_acc': None, 'pos_acc': None, 'morph_acc': None, 'morph_micro_p': None, 'morph_micro_r': None, 'morph_micro_f': None, 'morph_per_feat': None, 'dep_uas': None, 'dep_las': None, 'dep_las_per_type': None, 'ents_p': None, 'ents_r': None, 'ents_f': None, 'ents_per_type': None, 'cats_score': 0.0, 'cats_score_desc': 'macro F', 'cats_micro_p': 0.0, 'cats_micro_r': 0.0, 'cats_micro_f': 0.0, 'cats_macro_p': 0.0, 'cats_macro_r': 0.0, 'cats_macro_f': 0.0, 'cats_macro_auc': 0.0, 'cats_f_per_type': {}, 'cats_auc_per_type': {}}\n",
            "Starting Iteration 7\n",
            "{'ner': 1685.791742324829}\n",
            "{'token_acc': 1.0, 'token_p': 1.0, 'token_r': 1.0, 'token_f': 1.0, 'sents_p': None, 'sents_r': None, 'sents_f': None, 'tag_acc': None, 'pos_acc': None, 'morph_acc': None, 'morph_micro_p': None, 'morph_micro_r': None, 'morph_micro_f': None, 'morph_per_feat': None, 'dep_uas': None, 'dep_las': None, 'dep_las_per_type': None, 'ents_p': None, 'ents_r': None, 'ents_f': None, 'ents_per_type': None, 'cats_score': 0.0, 'cats_score_desc': 'macro F', 'cats_micro_p': 0.0, 'cats_micro_r': 0.0, 'cats_micro_f': 0.0, 'cats_macro_p': 0.0, 'cats_macro_r': 0.0, 'cats_macro_f': 0.0, 'cats_macro_auc': 0.0, 'cats_f_per_type': {}, 'cats_auc_per_type': {}}\n",
            "Starting Iteration 8\n",
            "{'ner': 39.21714462339878}\n",
            "{'token_acc': 1.0, 'token_p': 1.0, 'token_r': 1.0, 'token_f': 1.0, 'sents_p': None, 'sents_r': None, 'sents_f': None, 'tag_acc': None, 'pos_acc': None, 'morph_acc': None, 'morph_micro_p': None, 'morph_micro_r': None, 'morph_micro_f': None, 'morph_per_feat': None, 'dep_uas': None, 'dep_las': None, 'dep_las_per_type': None, 'ents_p': None, 'ents_r': None, 'ents_f': None, 'ents_per_type': None, 'cats_score': 0.0, 'cats_score_desc': 'macro F', 'cats_micro_p': 0.0, 'cats_micro_r': 0.0, 'cats_micro_f': 0.0, 'cats_macro_p': 0.0, 'cats_macro_r': 0.0, 'cats_macro_f': 0.0, 'cats_macro_auc': 0.0, 'cats_f_per_type': {}, 'cats_auc_per_type': {}}\n",
            "Starting Iteration 9\n",
            "{'ner': 0.2115474948368501}\n",
            "{'token_acc': 1.0, 'token_p': 1.0, 'token_r': 1.0, 'token_f': 1.0, 'sents_p': None, 'sents_r': None, 'sents_f': None, 'tag_acc': None, 'pos_acc': None, 'morph_acc': None, 'morph_micro_p': None, 'morph_micro_r': None, 'morph_micro_f': None, 'morph_per_feat': None, 'dep_uas': None, 'dep_las': None, 'dep_las_per_type': None, 'ents_p': None, 'ents_r': None, 'ents_f': None, 'ents_per_type': None, 'cats_score': 0.0, 'cats_score_desc': 'macro F', 'cats_micro_p': 0.0, 'cats_micro_r': 0.0, 'cats_micro_f': 0.0, 'cats_macro_p': 0.0, 'cats_macro_r': 0.0, 'cats_macro_f': 0.0, 'cats_macro_auc': 0.0, 'cats_f_per_type': {}, 'cats_auc_per_type': {}}\n",
            "Starting Iteration 10\n",
            "{'ner': 0.00032964555788339567}\n",
            "{'token_acc': 1.0, 'token_p': 1.0, 'token_r': 1.0, 'token_f': 1.0, 'sents_p': None, 'sents_r': None, 'sents_f': None, 'tag_acc': None, 'pos_acc': None, 'morph_acc': None, 'morph_micro_p': None, 'morph_micro_r': None, 'morph_micro_f': None, 'morph_per_feat': None, 'dep_uas': None, 'dep_las': None, 'dep_las_per_type': None, 'ents_p': None, 'ents_r': None, 'ents_f': None, 'ents_per_type': None, 'cats_score': 0.0, 'cats_score_desc': 'macro F', 'cats_micro_p': 0.0, 'cats_micro_r': 0.0, 'cats_micro_f': 0.0, 'cats_macro_p': 0.0, 'cats_macro_r': 0.0, 'cats_macro_f': 0.0, 'cats_macro_auc': 0.0, 'cats_f_per_type': {}, 'cats_auc_per_type': {}}\n",
            "Starting Iteration 11\n",
            "{'ner': 2.004088342222321e-07}\n",
            "{'token_acc': 1.0, 'token_p': 1.0, 'token_r': 1.0, 'token_f': 1.0, 'sents_p': None, 'sents_r': None, 'sents_f': None, 'tag_acc': None, 'pos_acc': None, 'morph_acc': None, 'morph_micro_p': None, 'morph_micro_r': None, 'morph_micro_f': None, 'morph_per_feat': None, 'dep_uas': None, 'dep_las': None, 'dep_las_per_type': None, 'ents_p': None, 'ents_r': None, 'ents_f': None, 'ents_per_type': None, 'cats_score': 0.0, 'cats_score_desc': 'macro F', 'cats_micro_p': 0.0, 'cats_micro_r': 0.0, 'cats_micro_f': 0.0, 'cats_macro_p': 0.0, 'cats_macro_r': 0.0, 'cats_macro_f': 0.0, 'cats_macro_auc': 0.0, 'cats_f_per_type': {}, 'cats_auc_per_type': {}}\n"
          ]
        }
      ]
    },
    {
      "cell_type": "code",
      "source": [
        "nlp.to_disk(\"custom_ner_model\")"
      ],
      "metadata": {
        "id": "eE_qFFO-qlqW"
      },
      "execution_count": 18,
      "outputs": []
    },
    {
      "cell_type": "code",
      "source": [
        "nlp_updated = spacy.load(\"/content/custom_ner_model\")  # Replace \"path_to_your_trained_model\" with the actual path\n",
        "\n",
        "test_text = \"Abhishek Jha Application Development Associate Accenture Bengaluru Karnataka Email me on Indeed indeed.com/r/Abhishek-Jha/10e7a8cb732bc43a To work for an organization which provides me the opportunity to improve my skills and knowledge for my individual and companys growth in best possible ways Willing to relocate to Bangalore Karnataka WORK EXPERIENCE Application Development Associate Accenture November 2017 to Present Role Currently working on Chat bot Developing Backend Oracle PeopleSoft Queries for the Bot which will be triggered based on given input Also Training the bot for different possible utterances Both positive and negative which will be given as input by the user EDUCATION B.E in Information science and engineering B.v.b college of engineering and technology Hubli Karnataka August 2013 to June 2017 12th in Mathematics Woodbine modern school April 2011 to March 2013 10th Kendriya Vidyalaya April 2001 to March 2011 SKILLS C Less than 1 year Database Less than 1 year Database Management Less than 1 year Database Management System Less than 1 year Java Less than 1 year ADDITIONAL INFORMATION Technical Skills https://www.indeed.com/r/Abhishek-Jha/10e7a8cb732bc43a?isid=rex-download&ikw=download-top&co=IN Programming language C C++ Java Oracle PeopleSoft Internet Of Things Machine Learning Database Management System Computer Networks Operating System worked on Linux Windows Mac Non Technical Skills Honest and Hard Working Tolerant and Flexible to Different Situations Polite and Calm Team Player\"\n",
        "doc = nlp(test_text)\n",
        "\n",
        "print(len(doc.ents))\n",
        "for ent in doc.ents:\n",
        "    print(f\"Entity: {ent.text}, Label: {ent.label_}\")"
      ],
      "metadata": {
        "colab": {
          "base_uri": "https://localhost:8080/"
        },
        "id": "EFHylzdyqrIy",
        "outputId": "62565326-2e30-4fa5-b8e4-eb37448e7aa2"
      },
      "execution_count": 19,
      "outputs": [
        {
          "output_type": "stream",
          "name": "stdout",
          "text": [
            "0\n"
          ]
        }
      ]
    },
    {
      "cell_type": "code",
      "source": [
        "# the DocBin will store the example documents\n",
        "db = DocBin()\n",
        "\n",
        "for entry in formatted_data:\n",
        "  text = entry[\"text\"]\n",
        "  doc = nlp.make_doc(text)\n",
        "\n",
        "  annotations = entry[\"entities\"]\n",
        "  #print(annotations)\n",
        "  ents = []\n",
        "  for entity in annotations:\n",
        "    start = entity[\"start\"]\n",
        "    end = entity[\"end\"]\n",
        "    label = entity[\"label\"]\n",
        "    span = doc.char_span(start, end, label=label)\n",
        "    if span is None:\n",
        "      print(\"\")\n",
        "      #print(\"start\", start, \"end\", end, \"label\", label)\n",
        "      #print(\"The portion of text in question: \", text[start:end])\n",
        "    else:\n",
        "      ents.append(span)\n",
        "\n",
        "  try:\n",
        "    doc.ents = ents\n",
        "    example = Example.from_dict(doc, {\"entities\": ents})\n",
        "  except ValueError:\n",
        "    print(\"Error when creating Doc object from data\")\n",
        "    continue\n",
        "\n",
        "  db.add(example.reference)\n",
        "db.to_disk(\"./train.spacy\")"
      ],
      "metadata": {
        "id": "yc-R39CDyAX3"
      },
      "execution_count": null,
      "outputs": []
    },
    {
      "cell_type": "code",
      "source": [
        "import os\n",
        "train_path = './train.spacy'\n",
        "\n",
        "print(\"Train file exists:\", os.path.exists(train_path))\n",
        "\n",
        "!python -m spacy init config - --lang en --pipeline ner,textcat --optimize accuracy > base_config.cfg\n",
        "#!python -m spacy train config.cfg --output ./output_directory --paths.train ./content/train.spacy"
      ],
      "metadata": {
        "colab": {
          "base_uri": "https://localhost:8080/"
        },
        "id": "Dopt5UnP-P6e",
        "outputId": "4c87607c-0f24-4b6d-9f96-a1f81d4bb65f"
      },
      "execution_count": 76,
      "outputs": [
        {
          "output_type": "stream",
          "name": "stdout",
          "text": [
            "Train file exists: True\n",
            "2024-01-06 08:01:26.326627: E external/local_xla/xla/stream_executor/cuda/cuda_dnn.cc:9261] Unable to register cuDNN factory: Attempting to register factory for plugin cuDNN when one has already been registered\n",
            "2024-01-06 08:01:26.326693: E external/local_xla/xla/stream_executor/cuda/cuda_fft.cc:607] Unable to register cuFFT factory: Attempting to register factory for plugin cuFFT when one has already been registered\n",
            "2024-01-06 08:01:26.328001: E external/local_xla/xla/stream_executor/cuda/cuda_blas.cc:1515] Unable to register cuBLAS factory: Attempting to register factory for plugin cuBLAS when one has already been registered\n",
            "2024-01-06 08:01:27.690803: W tensorflow/compiler/tf2tensorrt/utils/py_utils.cc:38] TF-TRT Warning: Could not find TensorRT\n"
          ]
        }
      ]
    },
    {
      "cell_type": "code",
      "source": [
        "!python -m spacy init fill-config /content/base_config.cfg ./config.cfg"
      ],
      "metadata": {
        "id": "ebjU3sdCoDuG"
      },
      "execution_count": null,
      "outputs": []
    },
    {
      "cell_type": "code",
      "source": [
        "!python -m spacy train config.cfg --paths.train ./train.spacy"
      ],
      "metadata": {
        "id": "yLUI3IZmT-zd"
      },
      "execution_count": null,
      "outputs": []
    },
    {
      "cell_type": "markdown",
      "source": [
        "# References\n",
        "\n",
        "Includes references for all of the above sections of the notebook"
      ],
      "metadata": {
        "id": "mfdKFI73e88o"
      }
    },
    {
      "cell_type": "markdown",
      "source": [
        "Ghosh, S., Majumder, S. and Santosh Kumar Das. (2023). Artificial Intelligence Techniques in Human Resource Management. Apple Academic Press (CRC Press). Available from https://doi.org/10.1201/9781003328346.\n",
        "\n",
        "<br/>\n",
        "\n",
        "Pawan Budhwar et al. (2023). Human resource management in the age of generative artificial intelligence: Perspectives and research directions on ChatGPT. Human resource management in the age of generative artificial intelligence: Perspectives and research directions on ChatGPT, 33 (3). Available from https://doi.org/10.1111/1748-8583.12524.\n",
        "\n",
        "<br/>\n",
        "\n",
        "Rahmani, D. and Kamberaj, H. (2021). Implementation and Usage of Artificial Intelligence Powered Chatbots in Human Resources Management Systems. International Conference on Social and Applied Sciences. May 2021. Available from https://www.researchgate.net/profile/Hiqmet-Kamberaj/publication/351345726_Implementation_and_Usage_of_Artificial_Intelligence_Powered_Chatbots_in_Human_Resources_Management_Systems/links/60926106299bf1ad8d78e1d1/Implementation-and-Usage-of-Artificial-Intelligence-Powered-Chatbots-in-Human-Resources-Management-Systems.pdf [Accessed 19 December 2023].\n",
        "\n",
        "<br/>\n",
        "\n",
        "Rosenbaum, E. (2019). IBM artificial intelligence can predict with 95% accuracy which workers are about to quit their jobs. CNBC. Available from https://www.cnbc.com/2019/04/03/ibm-ai-can-predict-with-95-percent-accuracy-which-employees-will-quit.html [Accessed 1 January 2024].\n",
        "\n",
        "<br/>\n",
        "\n",
        "Tambe, P., Cappelli, P. and Yakubovich, V. (2019). Artificial Intelligence in Human Resources Management: Challenges and a Path Forward. California Management Review, 61 (4), 15–42. Available from https://doi.org/10.1177/0008125619867910.\n",
        "\n",
        "<br/>\n",
        "\n",
        "Vrontis, D. et al. (2021). Artificial intelligence, robotics, advanced technologies and human resource management: a systematic review. The International Journal of Human Resource Management, 33 (6), 1–30. Available from https://doi.org/10.1080/09585192.2020.1871398."
      ],
      "metadata": {
        "id": "zNQyVKnZg6KD"
      }
    }
  ]
}