{
  "nbformat": 4,
  "nbformat_minor": 0,
  "metadata": {
    "colab": {
      "provenance": [],
      "authorship_tag": "ABX9TyNcrfbXEi4phzib1J+yC0jx",
      "include_colab_link": true
    },
    "kernelspec": {
      "name": "python3",
      "display_name": "Python 3"
    },
    "language_info": {
      "name": "python"
    }
  },
  "cells": [
    {
      "cell_type": "markdown",
      "metadata": {
        "id": "view-in-github",
        "colab_type": "text"
      },
      "source": [
        "<a href=\"https://colab.research.google.com/github/RumethR/Resume-Ner/blob/main/Cw1_w1809911_RumethRandombage.ipynb\" target=\"_parent\"><img src=\"https://colab.research.google.com/assets/colab-badge.svg\" alt=\"Open In Colab\"/></a>"
      ]
    },
    {
      "cell_type": "markdown",
      "source": [
        "# Part A: Application Area Review\n",
        "\n",
        "**Selected Domain: Human resources and computing.**\n",
        "\n",
        "##### The domain of human resources within an organisation entails a wide variety of operations and responsibilities ranging from employee compensation to organisational structure. This poses a great opportunity for Artificial Intelligent (AI) systems to contribute towards the Human Resource Management (HRM) tasks within an organisation. One of the most common areas where AI has been highly used is within the realm of recruitment and talent acquisition. A study by the ‘Oracle’ corporation has revealed that professionals in the human resource management industry believe that AI can boost productivity among other statistics (Rahmani and Kamberaj, 2021). Other sources believe that AI will enable new application procedures for candidates, increase applicant discovery rates and even reduce vacancy times as these systems can traverse through applications faster than trained professionals (Vrontis et al., 2021). AI powered applications in HRM are also able to process large amounts of data at high speeds, faster and more accurately than any trained professional, this allows organisations to gain insights that would otherwise be impossible with manual labour. The use of these systems are also more likely to be less biassed towards factors that do not affect performance such as age, gender or race (assuming that they are developed properly). Repetitive tasks within the domain of HRM are more likely to be successfully automated with AI powered applications according to *Vrontis et al. (2021)*.\n",
        "\n",
        "##### The overall effect of bias that is induced when training was studied by the influential work of *Tambe, Cappelli and Yakubovich (2019)* who observed that the data that these systems were built on had a major impact in how these systems performed. This underlying data itself has the opportunity to represent industry swings and unspoken ethics (i.e. the system might be trained on data that indicated towards hiring from a specific university), hence it is important that these systems work in tandem with trained professionals.This study also looks into how Machine Learning algorithms have fared against several different HR operations within organisations. AI powered HRM task management systems such as Quine, BenefitFocus and Jobvite are now widely available for any organisation of any scale to incorporate into their workflows (Tambe, Cappelli and Yakubovich, 2019).\n",
        "\n",
        "##### On the opposite side of the spectrum, employees now have access to tools such as IBM’s ‘Blue Match’ presents viable job openings for their specific skill set, similarly AI powered tools have helped IBM to identify possible flight risks and retain employees for much longer according to their former CEO Ginni Rometty (Rosenbaum, 2019). These HRM service vendors however do not provide any information about the type of AI techniques that are used internally within their products. It is also important to note that most AI powered solutions can typically be applied on a small portion of a HRM task, for example in the task of vetting candidates these tools can only provide a suggestion or score of desirability is most cases rather than performing the entire stack of recruiting tasks that go alongside the vetting process (Ghosh, Majumder and Santosh Kumar Das, 2023). The common theme among most studies that observe the usage of AI in HRM is that they are heavily reliant on the quality and the quantity of the data that they are being built upon.\n"
      ],
      "metadata": {
        "id": "Kg-JhFakYlkM"
      }
    },
    {
      "cell_type": "markdown",
      "source": [
        "\n",
        "---\n",
        "\n",
        "Part B: Technique Comparision\n"
      ],
      "metadata": {
        "id": "Y13Id7NXmO16"
      }
    }
  ]
}